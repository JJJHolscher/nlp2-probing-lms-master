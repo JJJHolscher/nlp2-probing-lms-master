{
 "cells": [
  {
   "cell_type": "markdown",
   "metadata": {},
   "source": [
    "__Probing Language Models__\n",
    "\n",
    "This notebook serves as a start for your NLP2 assignment on probing Language Models. This notebook will become part of the contents that you will submit at the end, so make sure to keep your code (somewhat) clean :-)\n",
    "\n",
    "__note__: This is only the second time anyone is doing this assignment. That's exciting! But it might well be the case that certain aspects are too unclear. Do not hesitate at all to reach to me once you get stuck, I'd be grateful to help you out.\n",
    "\n",
    "__note 2__: This assignment is not dependent on big fancy GPUs. I run all this stuff on my own 3 year old CPU, without any Colab hassle. So it's up to you to decide how you want to run it."
   ]
  },
  {
   "cell_type": "markdown",
   "metadata": {},
   "source": [
    "# Models\n",
    "\n",
    "For the Transformer models you are advised to make use of the `transformers` library of Huggingface: https://github.com/huggingface/transformers\n",
    "Their library is well documented, and they provide great tools to easily load in pre-trained models."
   ]
  },
  {
   "cell_type": "code",
   "execution_count": 1,
   "metadata": {},
   "outputs": [
    {
     "name": "stderr",
     "output_type": "stream",
     "text": [
      "Some weights of GPT2Model were not initialized from the model checkpoint at distilgpt2 and are newly initialized: ['transformer.h.0.attn.masked_bias', 'transformer.h.1.attn.masked_bias', 'transformer.h.2.attn.masked_bias', 'transformer.h.3.attn.masked_bias', 'transformer.h.4.attn.masked_bias', 'transformer.h.5.attn.masked_bias']\n",
      "You should probably TRAIN this model on a down-stream task to be able to use it for predictions and inference.\n"
     ]
    }
   ],
   "source": [
    "#\n",
    "## Your code for initializing the transformer model(s)\n",
    "#\n",
    "# Note that most transformer models use their own `tokenizer`, that should be loaded in as well.\n",
    "#\n",
    "from transformers import GPT2Tokenizer, GPT2Model\n",
    "\n",
    "\n",
    "transformer_model = GPT2Model.from_pretrained('distilgpt2', output_hidden_states=True)\n",
    "transformer_tokenizer = GPT2Tokenizer.from_pretrained('distilgpt2', output_hidden_states=True)\n",
    "\n",
    "\n",
    "# Note that some models don't return the hidden states by default.\n",
    "# This can be configured by passing `output_hidden_states=True` to the `from_pretrained` method."
   ]
  },
  {
   "cell_type": "code",
   "execution_count": 2,
   "metadata": {},
   "outputs": [],
   "source": [
    "#\n",
    "## Your code for initializing the rnn model(s)\n",
    "#\n",
    "# The Gulordava LSTM model can be found here: \n",
    "# https://drive.google.com/file/d/19Lp3AM4NEPycp_IBgoHfLc_V456pmUom/view?usp=sharing\n",
    "#\n",
    "# N.B: I have altered the RNNModel code to only output the hidden states that you are interested in.\n",
    "# If you want to do more experiments with this model you could have a look at the original code here:\n",
    "# https://github.com/facebookresearch/colorlessgreenRNNs/blob/master/src/language_models/model.py\n",
    "#\n",
    "from collections import defaultdict\n",
    "from lstm.model import RNNModel\n",
    "import torch\n",
    "\n",
    "\n",
    "model_location = 'gulordava/state_dict.pt'  # <- point this to the location of the Gulordava .pt file\n",
    "lstm = RNNModel('LSTM', 50001, 650, 650, 2)\n",
    "lstm.load_state_dict(torch.load(model_location))\n",
    "\n",
    "\n",
    "# This LSTM does not use a Tokenizer like the Transformers, but a Vocab dictionary that maps a token to an id.\n",
    "with open('lstm/vocab.txt', encoding='ISO-8859-1') as f:\n",
    "    w2i = {w.strip(): i for i, w in enumerate(f)}\n",
    "\n",
    "vocab = defaultdict(lambda: w2i[\"<unk>\"])\n",
    "vocab.update(w2i)"
   ]
  },
  {
   "cell_type": "code",
   "execution_count": 3,
   "metadata": {},
   "outputs": [
    {
     "name": "stdout",
     "output_type": "stream",
     "text": [
      "Using device: cuda\n"
     ]
    }
   ],
   "source": [
    "# check if GPU is available\n",
    "device = torch.device('cuda' if torch.cuda.is_available() else 'cpu')\n",
    "print('Using device:', device)"
   ]
  },
  {
   "cell_type": "code",
   "execution_count": 5,
   "metadata": {},
   "outputs": [
    {
     "name": "stdout",
     "output_type": "stream",
     "text": [
      "<generator object Module.parameters at 0x000002113D2F94F8>\n"
     ]
    }
   ],
   "source": [
    "print(lstm.parameters())"
   ]
  },
  {
   "cell_type": "markdown",
   "metadata": {},
   "source": [
    "It is a good idea that before you move on, you try to feed some text to your LMs; and check if everything works accordingly. "
   ]
  },
  {
   "cell_type": "markdown",
   "metadata": {},
   "source": [
    "# Data\n",
    "\n",
    "For this assignment you will train your probes on __treebank__ corpora. A treebank is a corpus that has been *parsed*, and stored in a representation that allows the parse tree to be recovered. Next to a parse tree, treebanks also often contain information about part-of-speech tags, which is exactly what we are after now.\n",
    "\n",
    "The treebank you will use for now is part of the Universal Dependencies project. I provide a sample of this treebank as well, so you can test your setup on that before moving on to larger amounts of data.\n",
    "\n",
    "Make sure you accustom yourself to the format that is created by the `conllu` library that parses the treebank files before moving on. For example, make sure you understand how you can access the pos tag of a token, or how to cope with the tree structure that is formed using the `to_tree()` functionality."
   ]
  },
  {
   "cell_type": "code",
   "execution_count": 4,
   "metadata": {},
   "outputs": [],
   "source": [
    "# READ DATA\n",
    "from typing import List\n",
    "from conllu import parse_incr, TokenList\n",
    "\n",
    "\n",
    "# If stuff like `: str` and `-> ..` seems scary, fear not! \n",
    "# These are type hints that help you to understand what kind of argument and output is expected.\n",
    "def parse_corpus(filename: str) -> List[TokenList]:\n",
    "    '''Have every sentence become a TokenList.\n",
    "    \n",
    "    A token is a dictionary representing a word in a sentence. A token contains the following:\\n\n",
    "    <str> deprel: \\n\n",
    "    <list> deps: \\n\n",
    "    <dict> feats: {\n",
    "        <str> Definite: \\n\n",
    "        <str> PronType: \\n\n",
    "    }\n",
    "    <str> form: \\n\n",
    "    <int> head: \\n\n",
    "    <int> id: \\n\n",
    "    <str> lemma: \\n\n",
    "    <None> misc: \\n\n",
    "    <str> upos: \\n\n",
    "    <str> xpon: \\n\n",
    "    '''\n",
    "    data_file = open(filename, encoding=\"utf-8\")\n",
    "\n",
    "    ud_parses = list(parse_incr(data_file))\n",
    "    \n",
    "    return ud_parses"
   ]
  },
  {
   "cell_type": "markdown",
   "metadata": {},
   "source": [
    "# Generating Representations\n",
    "\n",
    "We now have our data all set, our models are running and we are good to go!\n",
    "\n",
    "The next step is now to create the model representations for the sentences in our corpora. Once we have generated these representations we can store them, and train additional diagnostic (/probing) classifiers on top of the representations.\n",
    "\n",
    "There are a few things you should keep in mind here. Read these carefully, as these tips will save you a lot of time in your implementation.\n",
    "1. Transformer models make use of Byte-Pair Encodings (BPE), that chunk up a piece of next in subword pieces. For example, a word such as \"largely\" could be chunked up into \"large\" and \"ly\". We are interested in probing linguistic information on the __word__-level. Therefore, we will follow the suggestion of Hewitt et al. (2019a, footnote 4), and create the representation of a word by averaging over the representations of its subwords. So the representation of \"largely\" becomes the average of that of \"large\" and \"ly\".\n",
    "\n",
    "\n",
    "2. Subword chunks never overlap multiple tokens. In other words, say we have a phrase like \"None of the\", then the tokenizer might chunk that into \"No\"+\"ne\"+\" of\"+\" the\", but __not__ into \"No\"+\"ne o\"+\"f the\", as those chunks overlap multiple tokens. This is great for our setup! Otherwise it would have been quite challenging to distribute the representation of a subword over the 2 tokens it belongs to.\n",
    "\n",
    "\n",
    "3. **Important**: If you closely examine the provided treebank, you will notice that some tokens are split up into multiple pieces, that each have their own POS-tag. For example, in the first sentence the word \"Al-Zaman\" is split into \"Al\", \"-\", and \"Zaman\". In such cases, the conllu `TokenList` format will add the following attribute: `('misc', OrderedDict([('SpaceAfter', 'No')]))` to these tokens. Your model's tokenizer does not need to adhere to the same tokenization. E.g., \"Al-Zaman\" could be split into \"Al-\"+\"Za\"+\"man\", making it hard to match the representations with their correct pos-tag. Therefore I recommend you to not tokenize your entire sentence at once, but to do this based on the chunking of the treebank. <br /><br />\n",
    "Make sure to still incoporate the spaces in a sentence though, as these are part of the BPE of the tokenizer. That is, the tokenizer uses a different token id for `\"man\"`, than it does for `\" man\"`: the former could be part of `\" woman\"`=`\" wo`\"+`\"man\"`, whereas the latter would be the used in case *man* occurs at the start of a word. The tokenizer for GPT-2 adds spaces at the start of a token (represented as a `Ġ` symbol). This means that you should keep track whether the previous token had the `SpaceAfter` attribute set to `'No'`: in case it did not, you should manually prepend a `\" \"` ahead of the token.\n",
    "\n",
    "\n",
    "4. The LSTM LM does not have the issues related to subwords, but is far more restricted in its vocabulary. Make sure you keep the above points in mind though, when creating the LSTM representations. You might want to write separate functions for the LSTM, but that is up to you.\n",
    "\n",
    "\n",
    "5. **N.B.**: Make sure that when you run a sentence through your model, you do so within a `with torch.no_grad():` block, and that you have run `model.eval()` beforehand as well (to disable dropout).\n",
    "\n",
    "\n",
    "6. **N.B.**: Make sure to use a token's ``[\"form\"]`` attribute, and not the ``[\"lemma\"]``, as the latter will stem any relevant morphological information from the token. We don't want this, because we want to feed well-formed, grammatical sentences to our model.\n",
    "\n",
    "\n",
    "I would like to stress that if you feel hindered in any way by the simple code structure that is presented here, you are free to modify it :-) Just make sure it is clear to an outsider what you're doing, some helpful comments never hurt."
   ]
  },
  {
   "cell_type": "code",
   "execution_count": 5,
   "metadata": {},
   "outputs": [],
   "source": [
    "# FETCH SENTENCE REPRESENTATIONS\n",
    "from torch import Tensor\n",
    "import pickle\n",
    "\n",
    "\n",
    "# Should return a tensor of shape (num_tokens_in_corpus, representation_size)\n",
    "# Make sure you correctly average the subword representations that belong to 1 token!\n",
    "\n",
    "def fetch_sen_reps(ud_parses: List[TokenList], model, tokenizer, concat=True) -> Tensor:\n",
    "    model = model.to(device)\n",
    "    # check which function to use\n",
    "    if isinstance(model, GPT2Model):\n",
    "        representations = fetch_sen_reps_transformer(ud_parses, model, tokenizer, concat)\n",
    "    else:\n",
    "        representations = fetch_sen_reps_lstm(ud_parses, model, tokenizer, concat)\n",
    "    \n",
    "    # return the representations\n",
    "    return representations\n",
    "\n",
    "def fetch_sen_reps_transformer(ud_parses: List[TokenList], model, tokenizer, concat_sentences) -> Tensor:\n",
    "    full_representation = []\n",
    "    \n",
    "    # loop over the parsed sentences\n",
    "    for sentence in ud_parses:\n",
    "        space_after = 'No'\n",
    "        sentence_ids = []\n",
    "        subword_dict = {}\n",
    "        chunk_offset = 0\n",
    "        \n",
    "        # loop over the words in the parsed sentence\n",
    "        for word_index, word in enumerate(sentence):\n",
    "            # check if the previous word had a space after\n",
    "            if (space_after == 'No'):\n",
    "                token = word['form']\n",
    "            else:\n",
    "                token = \" \" + word['form']\n",
    "            if (word['misc'] is not None):\n",
    "                if ('SpaceAfter' in word['misc']):\n",
    "                    space_after = word['misc']['SpaceAfter']\n",
    "                else:\n",
    "                    space_after = 'Yes'\n",
    "            else:\n",
    "                space_after = 'Yes'\n",
    "                \n",
    "            # tokenize the word\n",
    "            tokenized_word = tokenizer(token, return_tensors='pt')\n",
    "            subword_ids = tokenized_word['input_ids'].to(device)\n",
    "            \n",
    "            # check if multiple subwords\n",
    "            if (subword_ids.shape[1] > 1):\n",
    "                chunk_index_list = []\n",
    "                chunks = torch.chunk(subword_ids, subword_ids.shape[1], dim=1)\n",
    "                for chunk_index, chunk in enumerate(chunks):\n",
    "                    sentence_ids.append(chunk)\n",
    "                    chunk_index_list.append(word_index + chunk_index + chunk_offset)\n",
    "                chunk_offset += len(chunk_index_list) -1\n",
    "                subword_dict[word_index] = chunk_index_list\n",
    "            else:\n",
    "                subword_dict[word_index] = [word_index + chunk_offset]\n",
    "                sentence_ids.append(subword_ids)\n",
    "        \n",
    "        # pass the sentence through the model\n",
    "        sentence_ids = torch.cat(sentence_ids, dim=1)\n",
    "        model.eval()\n",
    "        with torch.no_grad():\n",
    "            sentence_representation = model(sentence_ids)\n",
    "            sentence_representation = sentence_representation.last_hidden_state.to(device)\n",
    "        \n",
    "        # mean the subwords into one word representation\n",
    "        sentence_representation = sentence_representation.squeeze(dim=0)\n",
    "        new_sentence_representation = [torch.mean(sentence_representation.index_select(0, torch.tensor(chunks, device=device)), dim=0)\n",
    "                                       for chunks in subword_dict.values()]\n",
    "        new_sentence_representation = torch.stack(new_sentence_representation, dim=0)\n",
    "        \n",
    "        # add to the list of sentence representations\n",
    "        full_representation.append(new_sentence_representation)\n",
    "    \n",
    "    # check whether to concat the sentences or not\n",
    "    if concat_sentences:\n",
    "        # concatenate the sentence representations into one big tensor\n",
    "        full_representation = torch.cat(full_representation, dim=0)\n",
    "    \n",
    "    # return the full representation\n",
    "    return full_representation\n",
    "\n",
    "def fetch_sen_reps_lstm(ud_parses: List[TokenList], model, tokenizer, concat_sentences) -> Tensor:\n",
    "    full_representation = []\n",
    "    \n",
    "    # loop over the parsed sentences\n",
    "    for sentence in ud_parses:\n",
    "        sentence_ids = []\n",
    "        \n",
    "        # loop over the words in the parsed sentence\n",
    "        for word in sentence:          \n",
    "            # tokenize the word\n",
    "            token_id = tokenizer[word['form']]\n",
    "            token_id = torch.tensor([[token_id]], device=device)\n",
    "            sentence_ids.append(token_id)\n",
    "            \n",
    "        # pass the sentence through the model\n",
    "        sentence_ids = torch.cat(sentence_ids, dim=1)\n",
    "        model.eval()\n",
    "        with torch.no_grad():\n",
    "            # generate a hidden state\n",
    "            hidden_state = model.init_hidden(sentence_ids.shape[0])\n",
    "            # take the representation of the sentence\n",
    "            sentence_representation = model(sentence_ids, hidden_state)\n",
    "        \n",
    "         # check if only 1 sentence\n",
    "        sentence_representation = sentence_representation.squeeze(dim=0)\n",
    "        if (len(ud_parses) == 1):\n",
    "            # return the sentence representation\n",
    "            return sentence_representation\n",
    "        else:\n",
    "            # add to the list of sentence representations\n",
    "            full_representation.append(sentence_representation)\n",
    "    \n",
    "    # check whether to concat the sentences or not\n",
    "    if concat_sentences:\n",
    "        # concatenate the sentence representations into one big tensor\n",
    "        full_representation = torch.cat(full_representation, dim=0)\n",
    "    \n",
    "    # return the full representation\n",
    "    return full_representation"
   ]
  },
  {
   "cell_type": "markdown",
   "metadata": {},
   "source": [
    "To validate your activation extraction procedure I have set up the following assertion function as a sanity check. It compares your representation against a pickled version of mine. \n",
    "\n",
    "For this I used `distilgpt2`."
   ]
  },
  {
   "cell_type": "code",
   "execution_count": 6,
   "metadata": {},
   "outputs": [],
   "source": [
    "def error_msg(model_name, gold_embs, embs, i2w):\n",
    "    with open(f'{model_name}_tokens1.pickle', 'rb') as f:\n",
    "        sen_tokens = pickle.load(f)\n",
    "        \n",
    "    diff = torch.abs(embs - gold_embs)\n",
    "    max_diff = torch.max(diff)\n",
    "    avg_diff = torch.mean(diff)\n",
    "    \n",
    "    print(f\"{model_name} embeddings don't match!\")\n",
    "    print(f\"Max diff.: {max_diff:.4f}\\nMean diff. {avg_diff:.4f}\")\n",
    "\n",
    "    print(\"\\nCheck if your tokenization matches with the original tokenization:\")\n",
    "    for idx in sen_tokens.squeeze():\n",
    "        if isinstance(i2w, list):\n",
    "            token = i2w[idx]\n",
    "        else:\n",
    "            token = i2w.convert_ids_to_tokens(idx.item())\n",
    "        print(f\"{idx:<6} {token}\")\n",
    "\n",
    "\n",
    "def assert_sen_reps(model, tokenizer, lstm, vocab):\n",
    "    with open('distilgpt2_emb1.pickle', 'rb') as f:\n",
    "        distilgpt2_emb1 = pickle.load(f).to(device)\n",
    "        \n",
    "    with open('lstm_emb1.pickle', 'rb') as f:\n",
    "        lstm_emb1 = pickle.load(f).to(device)\n",
    "    \n",
    "    corpus = parse_corpus('data/sample/en_ewt-ud-train.conllu')[:1]\n",
    "    \n",
    "    own_distilgpt2_emb1 = fetch_sen_reps(corpus, model, tokenizer)\n",
    "    own_lstm_emb1 = fetch_sen_reps(corpus, lstm, vocab)\n",
    "    \n",
    "    assert distilgpt2_emb1.shape == own_distilgpt2_emb1.shape, \\\n",
    "        f\"Distilgpt2 shape mismatch: {distilgpt2_emb1.shape} (gold) vs. {own_distilgpt2_emb1.shape} (yours)\"\n",
    "    assert lstm_emb1.shape == own_lstm_emb1.shape, \\\n",
    "        f\"LSTM shape mismatch: {lstm_emb1.shape} (gold) vs. {own_lstm_emb1.shape} (yours)\"\n",
    "\n",
    "    if not torch.allclose(distilgpt2_emb1, own_distilgpt2_emb1, rtol=1e-3, atol=1e-3):\n",
    "        error_msg(\"distilgpt2\", distilgpt2_emb1, own_distilgpt2_emb1, tokenizer)\n",
    "    if not torch.allclose(lstm_emb1, own_lstm_emb1, rtol=1e-3, atol=1e-3):\n",
    "        error_msg(\"lstm\", lstm_emb1, own_lstm_emb1, list(vocab.keys()))\n",
    "\n",
    "\n",
    "assert_sen_reps(transformer_model, transformer_tokenizer, lstm, vocab)"
   ]
  },
  {
   "cell_type": "markdown",
   "metadata": {},
   "source": [
    "Next, we should define a function that extracts the corresponding POS labels for each activation, which we do based on the **``\"upostag\"``** attribute of a token (so not the ``xpostag`` attribute). These labels will be transformed to a tensor containing the label index for each item."
   ]
  },
  {
   "cell_type": "code",
   "execution_count": 6,
   "metadata": {},
   "outputs": [],
   "source": [
    "# FETCH POS LABELS\n",
    "\n",
    "\n",
    "# Should return a tensor of shape (num_tokens_in_corpus,)\n",
    "# Make sure that when fetching these pos tags for your train/dev/test corpora you share the label vocabulary.\n",
    "def fetch_pos_tags(ud_parses: List[TokenList], pos_vocab=None) -> Tensor:\n",
    "    # check if the vocabulary is None\n",
    "    if pos_vocab is None:\n",
    "        # create a new vocab\n",
    "        pos_vocab = defaultdict()\n",
    "        \n",
    "        # word index is 0\n",
    "        word_index = 0\n",
    "    else:\n",
    "        # word index is the length of the vocab\n",
    "        word_index = len(pos_vocab)\n",
    "    \n",
    "    # create a list of tags from the input\n",
    "    all_tags = []\n",
    "    \n",
    "    # loop over the parsed sentences\n",
    "    for sentence in ud_parses:    \n",
    "        # loop over the words in the parsed sentence\n",
    "        for word in sentence:\n",
    "            # get the tag\n",
    "            tag = word['upostag']\n",
    "            \n",
    "            # check if the tag does not exist in the vocabulary\n",
    "            if tag not in pos_vocab:\n",
    "                # create a new entry\n",
    "                pos_vocab[tag] = word_index\n",
    "                \n",
    "                # add to the word index\n",
    "                word_index += 1\n",
    "            \n",
    "            # add tag to the tags list\n",
    "            all_tags.append(torch.tensor(pos_vocab[tag], device=device))\n",
    "    \n",
    "    # stack the tags into a tensor\n",
    "    all_tags = torch.stack(all_tags, dim=0)\n",
    "    \n",
    "    # return the tags and vocabulary\n",
    "    return all_tags, pos_vocab"
   ]
  },
  {
   "cell_type": "code",
   "execution_count": 7,
   "metadata": {
    "scrolled": false
   },
   "outputs": [],
   "source": [
    "import os\n",
    "\n",
    "# Function that combines the previous functions, and creates 2 tensors for a .conllu file: \n",
    "# 1 containing the token representations, and 1 containing the (tokenized) pos_tags.\n",
    "\n",
    "def create_data(filename: str, lm, w2i, pos_vocab=None, cut_off=None):\n",
    "    ud_parses = parse_corpus(filename)\n",
    "    if cut_off is not None:\n",
    "        ud_parses = ud_parses[:cut_off]\n",
    "    \n",
    "    sen_reps = fetch_sen_reps(ud_parses, lm, w2i)\n",
    "    pos_tags, pos_vocab = fetch_pos_tags(ud_parses, pos_vocab=pos_vocab)\n",
    "    \n",
    "    return sen_reps, pos_tags, pos_vocab"
   ]
  },
  {
   "cell_type": "code",
   "execution_count": 9,
   "metadata": {},
   "outputs": [
    {
     "ename": "KeyboardInterrupt",
     "evalue": "",
     "output_type": "error",
     "traceback": [
      "\u001b[1;31m---------------------------------------------------------------------------\u001b[0m",
      "\u001b[1;31mKeyboardInterrupt\u001b[0m                         Traceback (most recent call last)",
      "\u001b[1;32m<ipython-input-9-5b69cec622e0>\u001b[0m in \u001b[0;36m<module>\u001b[1;34m\u001b[0m\n\u001b[0;32m     20\u001b[0m     \u001b[0mlm\u001b[0m\u001b[1;33m,\u001b[0m\u001b[1;33m\u001b[0m\u001b[1;33m\u001b[0m\u001b[0m\n\u001b[0;32m     21\u001b[0m     \u001b[0mindex\u001b[0m\u001b[1;33m,\u001b[0m\u001b[1;33m\u001b[0m\u001b[1;33m\u001b[0m\u001b[0m\n\u001b[1;32m---> 22\u001b[1;33m     \u001b[0mpos_vocab\u001b[0m\u001b[1;33m=\u001b[0m\u001b[0mtrain_vocab\u001b[0m\u001b[1;33m\u001b[0m\u001b[1;33m\u001b[0m\u001b[0m\n\u001b[0m\u001b[0;32m     23\u001b[0m )\n",
      "\u001b[1;32m<ipython-input-8-584ab2a93886>\u001b[0m in \u001b[0;36mcreate_data\u001b[1;34m(filename, lm, w2i, pos_vocab, cut_off)\u001b[0m\n\u001b[0;32m      9\u001b[0m         \u001b[0mud_parses\u001b[0m \u001b[1;33m=\u001b[0m \u001b[0mud_parses\u001b[0m\u001b[1;33m[\u001b[0m\u001b[1;33m:\u001b[0m\u001b[0mcut_off\u001b[0m\u001b[1;33m]\u001b[0m\u001b[1;33m\u001b[0m\u001b[1;33m\u001b[0m\u001b[0m\n\u001b[0;32m     10\u001b[0m \u001b[1;33m\u001b[0m\u001b[0m\n\u001b[1;32m---> 11\u001b[1;33m     \u001b[0msen_reps\u001b[0m \u001b[1;33m=\u001b[0m \u001b[0mfetch_sen_reps\u001b[0m\u001b[1;33m(\u001b[0m\u001b[0mud_parses\u001b[0m\u001b[1;33m,\u001b[0m \u001b[0mlm\u001b[0m\u001b[1;33m,\u001b[0m \u001b[0mw2i\u001b[0m\u001b[1;33m)\u001b[0m\u001b[1;33m\u001b[0m\u001b[1;33m\u001b[0m\u001b[0m\n\u001b[0m\u001b[0;32m     12\u001b[0m     \u001b[0mpos_tags\u001b[0m\u001b[1;33m,\u001b[0m \u001b[0mpos_vocab\u001b[0m \u001b[1;33m=\u001b[0m \u001b[0mfetch_pos_tags\u001b[0m\u001b[1;33m(\u001b[0m\u001b[0mud_parses\u001b[0m\u001b[1;33m,\u001b[0m \u001b[0mpos_vocab\u001b[0m\u001b[1;33m=\u001b[0m\u001b[0mpos_vocab\u001b[0m\u001b[1;33m)\u001b[0m\u001b[1;33m\u001b[0m\u001b[1;33m\u001b[0m\u001b[0m\n\u001b[0;32m     13\u001b[0m \u001b[1;33m\u001b[0m\u001b[0m\n",
      "\u001b[1;32m<ipython-input-5-a3248d9d2a67>\u001b[0m in \u001b[0;36mfetch_sen_reps\u001b[1;34m(ud_parses, model, tokenizer, concat)\u001b[0m\n\u001b[0;32m     11\u001b[0m     \u001b[1;31m# check which function to use\u001b[0m\u001b[1;33m\u001b[0m\u001b[1;33m\u001b[0m\u001b[1;33m\u001b[0m\u001b[0m\n\u001b[0;32m     12\u001b[0m     \u001b[1;32mif\u001b[0m \u001b[0misinstance\u001b[0m\u001b[1;33m(\u001b[0m\u001b[0mmodel\u001b[0m\u001b[1;33m,\u001b[0m \u001b[0mGPT2Model\u001b[0m\u001b[1;33m)\u001b[0m\u001b[1;33m:\u001b[0m\u001b[1;33m\u001b[0m\u001b[1;33m\u001b[0m\u001b[0m\n\u001b[1;32m---> 13\u001b[1;33m         \u001b[0mrepresentations\u001b[0m \u001b[1;33m=\u001b[0m \u001b[0mfetch_sen_reps_transformer\u001b[0m\u001b[1;33m(\u001b[0m\u001b[0mud_parses\u001b[0m\u001b[1;33m,\u001b[0m \u001b[0mmodel\u001b[0m\u001b[1;33m,\u001b[0m \u001b[0mtokenizer\u001b[0m\u001b[1;33m,\u001b[0m \u001b[0mconcat\u001b[0m\u001b[1;33m)\u001b[0m\u001b[1;33m\u001b[0m\u001b[1;33m\u001b[0m\u001b[0m\n\u001b[0m\u001b[0;32m     14\u001b[0m     \u001b[1;32melse\u001b[0m\u001b[1;33m:\u001b[0m\u001b[1;33m\u001b[0m\u001b[1;33m\u001b[0m\u001b[0m\n\u001b[0;32m     15\u001b[0m         \u001b[0mrepresentations\u001b[0m \u001b[1;33m=\u001b[0m \u001b[0mfetch_sen_reps_lstm\u001b[0m\u001b[1;33m(\u001b[0m\u001b[0mud_parses\u001b[0m\u001b[1;33m,\u001b[0m \u001b[0mmodel\u001b[0m\u001b[1;33m,\u001b[0m \u001b[0mtokenizer\u001b[0m\u001b[1;33m,\u001b[0m \u001b[0mconcat\u001b[0m\u001b[1;33m)\u001b[0m\u001b[1;33m\u001b[0m\u001b[1;33m\u001b[0m\u001b[0m\n",
      "\u001b[1;32m<ipython-input-5-a3248d9d2a67>\u001b[0m in \u001b[0;36mfetch_sen_reps_transformer\u001b[1;34m(ud_parses, model, tokenizer, concat_sentences)\u001b[0m\n\u001b[0;32m     64\u001b[0m         \u001b[0mmodel\u001b[0m\u001b[1;33m.\u001b[0m\u001b[0meval\u001b[0m\u001b[1;33m(\u001b[0m\u001b[1;33m)\u001b[0m\u001b[1;33m\u001b[0m\u001b[1;33m\u001b[0m\u001b[0m\n\u001b[0;32m     65\u001b[0m         \u001b[1;32mwith\u001b[0m \u001b[0mtorch\u001b[0m\u001b[1;33m.\u001b[0m\u001b[0mno_grad\u001b[0m\u001b[1;33m(\u001b[0m\u001b[1;33m)\u001b[0m\u001b[1;33m:\u001b[0m\u001b[1;33m\u001b[0m\u001b[1;33m\u001b[0m\u001b[0m\n\u001b[1;32m---> 66\u001b[1;33m             \u001b[0msentence_representation\u001b[0m \u001b[1;33m=\u001b[0m \u001b[0mmodel\u001b[0m\u001b[1;33m(\u001b[0m\u001b[0msentence_ids\u001b[0m\u001b[1;33m)\u001b[0m\u001b[1;33m\u001b[0m\u001b[1;33m\u001b[0m\u001b[0m\n\u001b[0m\u001b[0;32m     67\u001b[0m             \u001b[0msentence_representation\u001b[0m \u001b[1;33m=\u001b[0m \u001b[0msentence_representation\u001b[0m\u001b[1;33m.\u001b[0m\u001b[0mlast_hidden_state\u001b[0m\u001b[1;33m.\u001b[0m\u001b[0mto\u001b[0m\u001b[1;33m(\u001b[0m\u001b[0mdevice\u001b[0m\u001b[1;33m)\u001b[0m\u001b[1;33m\u001b[0m\u001b[1;33m\u001b[0m\u001b[0m\n\u001b[0;32m     68\u001b[0m \u001b[1;33m\u001b[0m\u001b[0m\n",
      "\u001b[1;32mc:\\users\\luuk1\\miniconda3\\envs\\nlp2\\lib\\site-packages\\torch\\nn\\modules\\module.py\u001b[0m in \u001b[0;36m_call_impl\u001b[1;34m(self, *input, **kwargs)\u001b[0m\n\u001b[0;32m    725\u001b[0m             \u001b[0mresult\u001b[0m \u001b[1;33m=\u001b[0m \u001b[0mself\u001b[0m\u001b[1;33m.\u001b[0m\u001b[0m_slow_forward\u001b[0m\u001b[1;33m(\u001b[0m\u001b[1;33m*\u001b[0m\u001b[0minput\u001b[0m\u001b[1;33m,\u001b[0m \u001b[1;33m**\u001b[0m\u001b[0mkwargs\u001b[0m\u001b[1;33m)\u001b[0m\u001b[1;33m\u001b[0m\u001b[1;33m\u001b[0m\u001b[0m\n\u001b[0;32m    726\u001b[0m         \u001b[1;32melse\u001b[0m\u001b[1;33m:\u001b[0m\u001b[1;33m\u001b[0m\u001b[1;33m\u001b[0m\u001b[0m\n\u001b[1;32m--> 727\u001b[1;33m             \u001b[0mresult\u001b[0m \u001b[1;33m=\u001b[0m \u001b[0mself\u001b[0m\u001b[1;33m.\u001b[0m\u001b[0mforward\u001b[0m\u001b[1;33m(\u001b[0m\u001b[1;33m*\u001b[0m\u001b[0minput\u001b[0m\u001b[1;33m,\u001b[0m \u001b[1;33m**\u001b[0m\u001b[0mkwargs\u001b[0m\u001b[1;33m)\u001b[0m\u001b[1;33m\u001b[0m\u001b[1;33m\u001b[0m\u001b[0m\n\u001b[0m\u001b[0;32m    728\u001b[0m         for hook in itertools.chain(\n\u001b[0;32m    729\u001b[0m                 \u001b[0m_global_forward_hooks\u001b[0m\u001b[1;33m.\u001b[0m\u001b[0mvalues\u001b[0m\u001b[1;33m(\u001b[0m\u001b[1;33m)\u001b[0m\u001b[1;33m,\u001b[0m\u001b[1;33m\u001b[0m\u001b[1;33m\u001b[0m\u001b[0m\n",
      "\u001b[1;32mc:\\users\\luuk1\\miniconda3\\envs\\nlp2\\lib\\site-packages\\transformers\\models\\gpt2\\modeling_gpt2.py\u001b[0m in \u001b[0;36mforward\u001b[1;34m(self, input_ids, past_key_values, attention_mask, token_type_ids, position_ids, head_mask, inputs_embeds, encoder_hidden_states, encoder_attention_mask, use_cache, output_attentions, output_hidden_states, return_dict)\u001b[0m\n\u001b[0;32m    758\u001b[0m                     \u001b[0mencoder_attention_mask\u001b[0m\u001b[1;33m=\u001b[0m\u001b[0mencoder_attention_mask\u001b[0m\u001b[1;33m,\u001b[0m\u001b[1;33m\u001b[0m\u001b[1;33m\u001b[0m\u001b[0m\n\u001b[0;32m    759\u001b[0m                     \u001b[0muse_cache\u001b[0m\u001b[1;33m=\u001b[0m\u001b[0muse_cache\u001b[0m\u001b[1;33m,\u001b[0m\u001b[1;33m\u001b[0m\u001b[1;33m\u001b[0m\u001b[0m\n\u001b[1;32m--> 760\u001b[1;33m                     \u001b[0moutput_attentions\u001b[0m\u001b[1;33m=\u001b[0m\u001b[0moutput_attentions\u001b[0m\u001b[1;33m,\u001b[0m\u001b[1;33m\u001b[0m\u001b[1;33m\u001b[0m\u001b[0m\n\u001b[0m\u001b[0;32m    761\u001b[0m                 )\n\u001b[0;32m    762\u001b[0m \u001b[1;33m\u001b[0m\u001b[0m\n",
      "\u001b[1;32mc:\\users\\luuk1\\miniconda3\\envs\\nlp2\\lib\\site-packages\\torch\\nn\\modules\\module.py\u001b[0m in \u001b[0;36m_call_impl\u001b[1;34m(self, *input, **kwargs)\u001b[0m\n\u001b[0;32m    725\u001b[0m             \u001b[0mresult\u001b[0m \u001b[1;33m=\u001b[0m \u001b[0mself\u001b[0m\u001b[1;33m.\u001b[0m\u001b[0m_slow_forward\u001b[0m\u001b[1;33m(\u001b[0m\u001b[1;33m*\u001b[0m\u001b[0minput\u001b[0m\u001b[1;33m,\u001b[0m \u001b[1;33m**\u001b[0m\u001b[0mkwargs\u001b[0m\u001b[1;33m)\u001b[0m\u001b[1;33m\u001b[0m\u001b[1;33m\u001b[0m\u001b[0m\n\u001b[0;32m    726\u001b[0m         \u001b[1;32melse\u001b[0m\u001b[1;33m:\u001b[0m\u001b[1;33m\u001b[0m\u001b[1;33m\u001b[0m\u001b[0m\n\u001b[1;32m--> 727\u001b[1;33m             \u001b[0mresult\u001b[0m \u001b[1;33m=\u001b[0m \u001b[0mself\u001b[0m\u001b[1;33m.\u001b[0m\u001b[0mforward\u001b[0m\u001b[1;33m(\u001b[0m\u001b[1;33m*\u001b[0m\u001b[0minput\u001b[0m\u001b[1;33m,\u001b[0m \u001b[1;33m**\u001b[0m\u001b[0mkwargs\u001b[0m\u001b[1;33m)\u001b[0m\u001b[1;33m\u001b[0m\u001b[1;33m\u001b[0m\u001b[0m\n\u001b[0m\u001b[0;32m    728\u001b[0m         for hook in itertools.chain(\n\u001b[0;32m    729\u001b[0m                 \u001b[0m_global_forward_hooks\u001b[0m\u001b[1;33m.\u001b[0m\u001b[0mvalues\u001b[0m\u001b[1;33m(\u001b[0m\u001b[1;33m)\u001b[0m\u001b[1;33m,\u001b[0m\u001b[1;33m\u001b[0m\u001b[1;33m\u001b[0m\u001b[0m\n",
      "\u001b[1;32mc:\\users\\luuk1\\miniconda3\\envs\\nlp2\\lib\\site-packages\\transformers\\models\\gpt2\\modeling_gpt2.py\u001b[0m in \u001b[0;36mforward\u001b[1;34m(self, hidden_states, layer_past, attention_mask, head_mask, encoder_hidden_states, encoder_attention_mask, use_cache, output_attentions)\u001b[0m\n\u001b[0;32m    294\u001b[0m             \u001b[0mhead_mask\u001b[0m\u001b[1;33m=\u001b[0m\u001b[0mhead_mask\u001b[0m\u001b[1;33m,\u001b[0m\u001b[1;33m\u001b[0m\u001b[1;33m\u001b[0m\u001b[0m\n\u001b[0;32m    295\u001b[0m             \u001b[0muse_cache\u001b[0m\u001b[1;33m=\u001b[0m\u001b[0muse_cache\u001b[0m\u001b[1;33m,\u001b[0m\u001b[1;33m\u001b[0m\u001b[1;33m\u001b[0m\u001b[0m\n\u001b[1;32m--> 296\u001b[1;33m             \u001b[0moutput_attentions\u001b[0m\u001b[1;33m=\u001b[0m\u001b[0moutput_attentions\u001b[0m\u001b[1;33m,\u001b[0m\u001b[1;33m\u001b[0m\u001b[1;33m\u001b[0m\u001b[0m\n\u001b[0m\u001b[0;32m    297\u001b[0m         )\n\u001b[0;32m    298\u001b[0m         \u001b[0mattn_output\u001b[0m \u001b[1;33m=\u001b[0m \u001b[0mattn_outputs\u001b[0m\u001b[1;33m[\u001b[0m\u001b[1;36m0\u001b[0m\u001b[1;33m]\u001b[0m  \u001b[1;31m# output_attn: a, present, (attentions)\u001b[0m\u001b[1;33m\u001b[0m\u001b[1;33m\u001b[0m\u001b[0m\n",
      "\u001b[1;32mc:\\users\\luuk1\\miniconda3\\envs\\nlp2\\lib\\site-packages\\torch\\nn\\modules\\module.py\u001b[0m in \u001b[0;36m_call_impl\u001b[1;34m(self, *input, **kwargs)\u001b[0m\n\u001b[0;32m    725\u001b[0m             \u001b[0mresult\u001b[0m \u001b[1;33m=\u001b[0m \u001b[0mself\u001b[0m\u001b[1;33m.\u001b[0m\u001b[0m_slow_forward\u001b[0m\u001b[1;33m(\u001b[0m\u001b[1;33m*\u001b[0m\u001b[0minput\u001b[0m\u001b[1;33m,\u001b[0m \u001b[1;33m**\u001b[0m\u001b[0mkwargs\u001b[0m\u001b[1;33m)\u001b[0m\u001b[1;33m\u001b[0m\u001b[1;33m\u001b[0m\u001b[0m\n\u001b[0;32m    726\u001b[0m         \u001b[1;32melse\u001b[0m\u001b[1;33m:\u001b[0m\u001b[1;33m\u001b[0m\u001b[1;33m\u001b[0m\u001b[0m\n\u001b[1;32m--> 727\u001b[1;33m             \u001b[0mresult\u001b[0m \u001b[1;33m=\u001b[0m \u001b[0mself\u001b[0m\u001b[1;33m.\u001b[0m\u001b[0mforward\u001b[0m\u001b[1;33m(\u001b[0m\u001b[1;33m*\u001b[0m\u001b[0minput\u001b[0m\u001b[1;33m,\u001b[0m \u001b[1;33m**\u001b[0m\u001b[0mkwargs\u001b[0m\u001b[1;33m)\u001b[0m\u001b[1;33m\u001b[0m\u001b[1;33m\u001b[0m\u001b[0m\n\u001b[0m\u001b[0;32m    728\u001b[0m         for hook in itertools.chain(\n\u001b[0;32m    729\u001b[0m                 \u001b[0m_global_forward_hooks\u001b[0m\u001b[1;33m.\u001b[0m\u001b[0mvalues\u001b[0m\u001b[1;33m(\u001b[0m\u001b[1;33m)\u001b[0m\u001b[1;33m,\u001b[0m\u001b[1;33m\u001b[0m\u001b[1;33m\u001b[0m\u001b[0m\n",
      "\u001b[1;32mc:\\users\\luuk1\\miniconda3\\envs\\nlp2\\lib\\site-packages\\transformers\\models\\gpt2\\modeling_gpt2.py\u001b[0m in \u001b[0;36mforward\u001b[1;34m(self, hidden_states, layer_past, attention_mask, head_mask, encoder_hidden_states, encoder_attention_mask, use_cache, output_attentions)\u001b[0m\n\u001b[0;32m    242\u001b[0m         \u001b[0ma\u001b[0m \u001b[1;33m=\u001b[0m \u001b[0mattn_outputs\u001b[0m\u001b[1;33m[\u001b[0m\u001b[1;36m0\u001b[0m\u001b[1;33m]\u001b[0m\u001b[1;33m\u001b[0m\u001b[1;33m\u001b[0m\u001b[0m\n\u001b[0;32m    243\u001b[0m \u001b[1;33m\u001b[0m\u001b[0m\n\u001b[1;32m--> 244\u001b[1;33m         \u001b[0ma\u001b[0m \u001b[1;33m=\u001b[0m \u001b[0mself\u001b[0m\u001b[1;33m.\u001b[0m\u001b[0mmerge_heads\u001b[0m\u001b[1;33m(\u001b[0m\u001b[0ma\u001b[0m\u001b[1;33m)\u001b[0m\u001b[1;33m\u001b[0m\u001b[1;33m\u001b[0m\u001b[0m\n\u001b[0m\u001b[0;32m    245\u001b[0m         \u001b[0ma\u001b[0m \u001b[1;33m=\u001b[0m \u001b[0mself\u001b[0m\u001b[1;33m.\u001b[0m\u001b[0mc_proj\u001b[0m\u001b[1;33m(\u001b[0m\u001b[0ma\u001b[0m\u001b[1;33m)\u001b[0m\u001b[1;33m\u001b[0m\u001b[1;33m\u001b[0m\u001b[0m\n\u001b[0;32m    246\u001b[0m         \u001b[0ma\u001b[0m \u001b[1;33m=\u001b[0m \u001b[0mself\u001b[0m\u001b[1;33m.\u001b[0m\u001b[0mresid_dropout\u001b[0m\u001b[1;33m(\u001b[0m\u001b[0ma\u001b[0m\u001b[1;33m)\u001b[0m\u001b[1;33m\u001b[0m\u001b[1;33m\u001b[0m\u001b[0m\n",
      "\u001b[1;32mc:\\users\\luuk1\\miniconda3\\envs\\nlp2\\lib\\site-packages\\transformers\\models\\gpt2\\modeling_gpt2.py\u001b[0m in \u001b[0;36mmerge_heads\u001b[1;34m(self, x)\u001b[0m\n\u001b[0;32m    195\u001b[0m         \u001b[0mx\u001b[0m \u001b[1;33m=\u001b[0m \u001b[0mx\u001b[0m\u001b[1;33m.\u001b[0m\u001b[0mpermute\u001b[0m\u001b[1;33m(\u001b[0m\u001b[1;36m0\u001b[0m\u001b[1;33m,\u001b[0m \u001b[1;36m2\u001b[0m\u001b[1;33m,\u001b[0m \u001b[1;36m1\u001b[0m\u001b[1;33m,\u001b[0m \u001b[1;36m3\u001b[0m\u001b[1;33m)\u001b[0m\u001b[1;33m.\u001b[0m\u001b[0mcontiguous\u001b[0m\u001b[1;33m(\u001b[0m\u001b[1;33m)\u001b[0m\u001b[1;33m\u001b[0m\u001b[1;33m\u001b[0m\u001b[0m\n\u001b[0;32m    196\u001b[0m         \u001b[0mnew_x_shape\u001b[0m \u001b[1;33m=\u001b[0m \u001b[0mx\u001b[0m\u001b[1;33m.\u001b[0m\u001b[0msize\u001b[0m\u001b[1;33m(\u001b[0m\u001b[1;33m)\u001b[0m\u001b[1;33m[\u001b[0m\u001b[1;33m:\u001b[0m\u001b[1;33m-\u001b[0m\u001b[1;36m2\u001b[0m\u001b[1;33m]\u001b[0m \u001b[1;33m+\u001b[0m \u001b[1;33m(\u001b[0m\u001b[0mx\u001b[0m\u001b[1;33m.\u001b[0m\u001b[0msize\u001b[0m\u001b[1;33m(\u001b[0m\u001b[1;33m-\u001b[0m\u001b[1;36m2\u001b[0m\u001b[1;33m)\u001b[0m \u001b[1;33m*\u001b[0m \u001b[0mx\u001b[0m\u001b[1;33m.\u001b[0m\u001b[0msize\u001b[0m\u001b[1;33m(\u001b[0m\u001b[1;33m-\u001b[0m\u001b[1;36m1\u001b[0m\u001b[1;33m)\u001b[0m\u001b[1;33m,\u001b[0m\u001b[1;33m)\u001b[0m\u001b[1;33m\u001b[0m\u001b[1;33m\u001b[0m\u001b[0m\n\u001b[1;32m--> 197\u001b[1;33m         \u001b[1;32mreturn\u001b[0m \u001b[0mx\u001b[0m\u001b[1;33m.\u001b[0m\u001b[0mview\u001b[0m\u001b[1;33m(\u001b[0m\u001b[1;33m*\u001b[0m\u001b[0mnew_x_shape\u001b[0m\u001b[1;33m)\u001b[0m  \u001b[1;31m# in Tensorflow implem: fct merge_states\u001b[0m\u001b[1;33m\u001b[0m\u001b[1;33m\u001b[0m\u001b[0m\n\u001b[0m\u001b[0;32m    198\u001b[0m \u001b[1;33m\u001b[0m\u001b[0m\n\u001b[0;32m    199\u001b[0m     \u001b[1;32mdef\u001b[0m \u001b[0msplit_heads\u001b[0m\u001b[1;33m(\u001b[0m\u001b[0mself\u001b[0m\u001b[1;33m,\u001b[0m \u001b[0mx\u001b[0m\u001b[1;33m,\u001b[0m \u001b[0mk\u001b[0m\u001b[1;33m=\u001b[0m\u001b[1;32mFalse\u001b[0m\u001b[1;33m)\u001b[0m\u001b[1;33m:\u001b[0m\u001b[1;33m\u001b[0m\u001b[1;33m\u001b[0m\u001b[0m\n",
      "\u001b[1;31mKeyboardInterrupt\u001b[0m: "
     ]
    }
   ],
   "source": [
    "lm = transformer_model  # or `lstm`\n",
    "index = transformer_tokenizer  # or `vocab`\n",
    "use_sample = True\n",
    "\n",
    "train_x, train_y, train_vocab = create_data(\n",
    "    os.path.join('data', 'sample' if use_sample else '', 'en_ewt-ud-train.conllu'),\n",
    "    lm, \n",
    "    index\n",
    ")\n",
    "\n",
    "dev_x, dev_y, _ = create_data(\n",
    "    os.path.join('data', 'sample' if use_sample else '', 'en_ewt-ud-dev.conllu'),\n",
    "    lm, \n",
    "    index,\n",
    "    pos_vocab=train_vocab\n",
    ")\n",
    "\n",
    "test_x, test_y, _ = create_data(\n",
    "    os.path.join('data', 'sample' if use_sample else '', 'en_ewt-ud-test.conllu'),\n",
    "    lm,\n",
    "    index,\n",
    "    pos_vocab=train_vocab\n",
    ")"
   ]
  },
  {
   "cell_type": "markdown",
   "metadata": {},
   "source": [
    "# Diagnostic Classification\n",
    "\n",
    "We now have our models, our data, _and_ our representations all set! Hurray, well done. We can finally move onto the cool stuff, i.e. training the diagnostic classifiers (DCs).\n",
    "\n",
    "DCs are simple in their complexity on purpose. To read more about why this is the case you could already have a look at the \"Designing and Interpreting Probes with Control Tasks\" by Hewitt and Liang (esp. Sec. 3.2).\n",
    "\n",
    "A simple linear classifier will suffice for now, don't bother with adding fancy non-linearities to it.\n",
    "\n",
    "I am personally a fan of the `skorch` library, that provides `sklearn`-like functionalities for training `torch` models, but you are free to train your dc using whatever method you prefer.\n",
    "\n",
    "As this is an Artificial Intelligence master and you have all done ML1 + DL, I expect you to use your train/dev/test splits correctly ;-)"
   ]
  },
  {
   "cell_type": "code",
   "execution_count": 8,
   "metadata": {},
   "outputs": [],
   "source": [
    "# DIAGNOSTIC CLASSIFIER\n",
    "class DiagnosticClassifier(torch.nn.Module):\n",
    "    def __init__(self, in_size, out_size, hidden_sizes):\n",
    "        super().__init__()\n",
    "        \n",
    "        # initialize the layers of the model\n",
    "        modules = []\n",
    "        for hidden_size in hidden_sizes:\n",
    "            modules.append(torch.nn.Linear(in_size, hidden_size))\n",
    "            in_size = hidden_size\n",
    "        modules.append(torch.nn.Linear(in_size, out_size))\n",
    "        self.layers = torch.nn.Sequential(*modules)\n",
    "            \n",
    "        # add softmax\n",
    "        self.softmax = torch.nn.Softmax(dim=1)\n",
    "\n",
    "    def forward(self, x):\n",
    "        # pass x through the model\n",
    "        out = self.layers(x)\n",
    "        \n",
    "        # run through the softmax\n",
    "        out = self.softmax(out)\n",
    "        \n",
    "        # return the output\n",
    "        return out"
   ]
  },
  {
   "cell_type": "code",
   "execution_count": 10,
   "metadata": {},
   "outputs": [],
   "source": [
    "from skorch import NeuralNetClassifier\n",
    "from skorch.callbacks import EarlyStopping\n",
    "from skorch.helper import predefined_split\n",
    "from skorch.dataset import Dataset\n",
    "\n",
    "# function to train the diagnostic classifier\n",
    "def train_dc(diagnostic_classifier, train_x, train_y, dev_x, dev_y, device, batch_size=24, max_epochs=40, lr=3e-4, hidden_sizes=[]):\n",
    "    # create the validation dataset\n",
    "    val_dataset = Dataset(dev_x, dev_y)\n",
    "    train_dataset = Dataset(train_x, train_y)\n",
    "    \n",
    "    # initialize the model\n",
    "    net = NeuralNetClassifier(\n",
    "        diagnostic_classifier,\n",
    "        module__in_size=train_x[0].shape[0],\n",
    "        module__out_size=train_y.shape[0],\n",
    "        module__hidden_sizes=hidden_sizes,\n",
    "        max_epochs=max_epochs,\n",
    "        batch_size=batch_size,\n",
    "        optimizer = torch.optim.Adam,\n",
    "        optimizer__lr=lr,\n",
    "        iterator_train__shuffle=True,\n",
    "        criterion=torch.nn.NLLLoss,\n",
    "        train_split=predefined_split(val_dataset),\n",
    "        device=device,\n",
    "        callbacks=[\n",
    "            EarlyStopping(monitor='valid_loss',\n",
    "                         patience=3,\n",
    "                         threshold=0.0001,\n",
    "                         threshold_mode='rel',\n",
    "                         lower_is_better=True)\n",
    "        ],\n",
    "    )\n",
    "    \n",
    "    # train the model\n",
    "    net.fit(train_dataset, None)\n",
    "    \n",
    "    # return the model\n",
    "    return net"
   ]
  },
  {
   "cell_type": "code",
   "execution_count": 12,
   "metadata": {},
   "outputs": [
    {
     "name": "stdout",
     "output_type": "stream",
     "text": [
      "  epoch    train_loss    valid_acc    valid_loss     dur\n",
      "-------  ------------  -----------  ------------  ------\n",
      "      1        \u001b[36m5.0293\u001b[0m       \u001b[32m0.4477\u001b[0m        \u001b[35m2.2026\u001b[0m  0.2260\n",
      "      2        \u001b[36m1.6263\u001b[0m       \u001b[32m0.6810\u001b[0m        \u001b[35m1.4673\u001b[0m  0.2140\n",
      "      3        \u001b[36m1.1742\u001b[0m       \u001b[32m0.7384\u001b[0m        \u001b[35m1.2059\u001b[0m  0.2050\n",
      "      4        \u001b[36m0.9281\u001b[0m       \u001b[32m0.7633\u001b[0m        \u001b[35m1.0347\u001b[0m  0.2212\n",
      "      5        \u001b[36m0.7791\u001b[0m       \u001b[32m0.7933\u001b[0m        \u001b[35m0.9384\u001b[0m  0.2261\n",
      "      6        \u001b[36m0.6792\u001b[0m       \u001b[32m0.8113\u001b[0m        \u001b[35m0.8526\u001b[0m  0.2230\n",
      "      7        \u001b[36m0.6046\u001b[0m       \u001b[32m0.8130\u001b[0m        \u001b[35m0.7996\u001b[0m  0.2258\n",
      "      8        \u001b[36m0.5467\u001b[0m       \u001b[32m0.8285\u001b[0m        \u001b[35m0.7525\u001b[0m  0.2170\n",
      "      9        \u001b[36m0.5002\u001b[0m       0.8259        \u001b[35m0.7171\u001b[0m  0.2178\n",
      "     10        \u001b[36m0.4623\u001b[0m       \u001b[32m0.8319\u001b[0m        \u001b[35m0.6911\u001b[0m  0.2239\n",
      "     11        \u001b[36m0.4299\u001b[0m       \u001b[32m0.8491\u001b[0m        \u001b[35m0.6567\u001b[0m  0.2080\n",
      "     12        \u001b[36m0.4029\u001b[0m       0.8439        \u001b[35m0.6382\u001b[0m  0.2103\n",
      "     13        \u001b[36m0.3796\u001b[0m       \u001b[32m0.8516\u001b[0m        \u001b[35m0.6166\u001b[0m  0.2107\n",
      "     14        \u001b[36m0.3573\u001b[0m       \u001b[32m0.8525\u001b[0m        \u001b[35m0.6048\u001b[0m  0.2035\n",
      "     15        \u001b[36m0.3393\u001b[0m       \u001b[32m0.8611\u001b[0m        \u001b[35m0.5909\u001b[0m  0.2093\n",
      "     16        \u001b[36m0.3216\u001b[0m       \u001b[32m0.8654\u001b[0m        \u001b[35m0.5748\u001b[0m  0.2091\n",
      "     17        \u001b[36m0.3069\u001b[0m       0.8602        \u001b[35m0.5656\u001b[0m  0.2110\n",
      "     18        \u001b[36m0.2917\u001b[0m       \u001b[32m0.8679\u001b[0m        \u001b[35m0.5575\u001b[0m  0.2070\n",
      "     19        \u001b[36m0.2797\u001b[0m       0.8636        \u001b[35m0.5460\u001b[0m  0.2060\n",
      "     20        \u001b[36m0.2670\u001b[0m       0.8636        \u001b[35m0.5410\u001b[0m  0.2141\n",
      "     21        \u001b[36m0.2556\u001b[0m       \u001b[32m0.8688\u001b[0m        \u001b[35m0.5300\u001b[0m  0.2050\n",
      "     22        \u001b[36m0.2454\u001b[0m       0.8645        \u001b[35m0.5222\u001b[0m  0.2172\n",
      "     23        \u001b[36m0.2362\u001b[0m       0.8636        \u001b[35m0.5171\u001b[0m  0.2143\n",
      "     24        \u001b[36m0.2267\u001b[0m       0.8688        \u001b[35m0.5109\u001b[0m  0.2080\n",
      "     25        \u001b[36m0.2178\u001b[0m       \u001b[32m0.8722\u001b[0m        \u001b[35m0.5092\u001b[0m  0.2101\n",
      "     26        \u001b[36m0.2116\u001b[0m       0.8696        \u001b[35m0.5025\u001b[0m  0.2099\n",
      "     27        \u001b[36m0.2028\u001b[0m       \u001b[32m0.8756\u001b[0m        \u001b[35m0.4985\u001b[0m  0.2090\n",
      "     28        \u001b[36m0.1955\u001b[0m       0.8731        \u001b[35m0.4976\u001b[0m  0.2137\n",
      "     29        \u001b[36m0.1900\u001b[0m       0.8722        \u001b[35m0.4906\u001b[0m  0.2240\n",
      "     30        \u001b[36m0.1838\u001b[0m       \u001b[32m0.8765\u001b[0m        \u001b[35m0.4855\u001b[0m  0.2100\n",
      "     31        \u001b[36m0.1786\u001b[0m       0.8739        \u001b[35m0.4843\u001b[0m  0.2111\n",
      "     32        \u001b[36m0.1719\u001b[0m       0.8731        \u001b[35m0.4804\u001b[0m  0.2146\n",
      "     33        \u001b[36m0.1673\u001b[0m       0.8748        \u001b[35m0.4794\u001b[0m  0.2146\n",
      "     34        \u001b[36m0.1614\u001b[0m       \u001b[32m0.8774\u001b[0m        \u001b[35m0.4754\u001b[0m  0.2054\n",
      "     35        \u001b[36m0.1577\u001b[0m       \u001b[32m0.8808\u001b[0m        \u001b[35m0.4726\u001b[0m  0.2290\n",
      "     36        \u001b[36m0.1535\u001b[0m       0.8791        \u001b[35m0.4705\u001b[0m  0.2086\n",
      "     37        \u001b[36m0.1483\u001b[0m       \u001b[32m0.8834\u001b[0m        \u001b[35m0.4701\u001b[0m  0.2083\n",
      "     38        \u001b[36m0.1449\u001b[0m       0.8782        \u001b[35m0.4651\u001b[0m  0.2078\n",
      "     39        \u001b[36m0.1402\u001b[0m       0.8808        0.4666  0.2130\n",
      "     40        \u001b[36m0.1369\u001b[0m       0.8825        \u001b[35m0.4640\u001b[0m  0.2090\n"
     ]
    }
   ],
   "source": [
    "# train the diagnostic classifier\n",
    "trained_dc = train_dc(DiagnosticClassifier, train_x[:30000].cpu(), train_y[:30000].cpu(), dev_x.cpu(), dev_y.cpu(), device)"
   ]
  },
  {
   "cell_type": "markdown",
   "metadata": {},
   "source": [
    "# Trees\n",
    "\n",
    "For our gold labels, we need to recover the node distances from our parse tree. For this we will use the functionality provided by `ete3`, that allows us to compute that directly. I have provided code that transforms a `TokenTree` to a `Tree` in `ete3` format."
   ]
  },
  {
   "cell_type": "code",
   "execution_count": 8,
   "metadata": {},
   "outputs": [],
   "source": [
    "# In case you want to transform your conllu tree to an nltk.Tree, for better visualisation\n",
    "\n",
    "def rec_tokentree_to_nltk(tokentree):\n",
    "    token = tokentree.token[\"form\"]\n",
    "    tree_str = f\"({token} {' '.join(rec_tokentree_to_nltk(t) for t in tokentree.children)})\"\n",
    "\n",
    "    return tree_str\n",
    "\n",
    "\n",
    "def tokentree_to_nltk(tokentree):\n",
    "    from nltk import Tree as NLTKTree\n",
    "\n",
    "    tree_str = rec_tokentree_to_nltk(tokentree)\n",
    "\n",
    "    return NLTKTree.fromstring(tree_str)"
   ]
  },
  {
   "cell_type": "code",
   "execution_count": 9,
   "metadata": {},
   "outputs": [],
   "source": [
    "# !pip install ete3\n",
    "from ete3 import Tree as EteTree\n",
    "\n",
    "\n",
    "class FancyTree(EteTree):\n",
    "    def __init__(self, *args, **kwargs):\n",
    "        super().__init__(*args, format=1, **kwargs)\n",
    "        \n",
    "    def __str__(self):\n",
    "        return self.get_ascii(show_internal=True)\n",
    "    \n",
    "    def __repr__(self):\n",
    "        return str(self)\n",
    "\n",
    "\n",
    "def rec_tokentree_to_ete(tokentree):\n",
    "    idx = str(tokentree.token[\"id\"])\n",
    "    children = tokentree.children\n",
    "    if children:\n",
    "        return f\"({','.join(rec_tokentree_to_ete(t) for t in children)}){idx}\"\n",
    "    else:\n",
    "        return idx\n",
    "    \n",
    "def tokentree_to_ete(tokentree):\n",
    "    newick_str = rec_tokentree_to_ete(tokentree)\n",
    "\n",
    "    return FancyTree(f\"{newick_str};\")"
   ]
  },
  {
   "cell_type": "code",
   "execution_count": 10,
   "metadata": {},
   "outputs": [
    {
     "name": "stdout",
     "output_type": "stream",
     "text": [
      "\n",
      "   /-2\n",
      "  |\n",
      "  |--3\n",
      "  |\n",
      "  |--4\n",
      "  |\n",
      "  |   /6 /-5\n",
      "  |  |\n",
      "  |  |   /-9\n",
      "  |  |  |\n",
      "  |  |  |--10\n",
      "  |  |  |\n",
      "  |  |  |--11\n",
      "  |  |-8|\n",
      "  |  |  |--12\n",
      "  |-7|  |\n",
      "  |  |  |--13\n",
      "  |  |  |\n",
      "  |  |   \\15/-14\n",
      "-1|  |\n",
      "  |  |   /-16\n",
      "  |  |  |\n",
      "  |  |  |--17\n",
      "  |  |  |\n",
      "  |   \\18   /-19\n",
      "  |     |  |\n",
      "  |     |  |--20\n",
      "  |     |  |\n",
      "  |     |  |-23/-22\n",
      "  |      \\21\n",
      "  |        |--24\n",
      "  |        |\n",
      "  |        |   /-25\n",
      "  |        |  |\n",
      "  |         \\28--26\n",
      "  |           |\n",
      "  |            \\-27\n",
      "  |\n",
      "   \\-29\n"
     ]
    }
   ],
   "source": [
    "# Let's check if it works!\n",
    "# We can read in a corpus using the code that was already provided, and convert it to an ete3 Tree.\n",
    "\n",
    "def parse_corpus(filename):\n",
    "    from conllu import parse_incr\n",
    "\n",
    "    data_file = open(filename, encoding=\"utf-8\")\n",
    "\n",
    "    ud_parses = list(parse_incr(data_file))\n",
    "    \n",
    "    return ud_parses\n",
    "\n",
    "corpus = parse_corpus('data/sample/en_ewt-ud-train.conllu')\n",
    "item = corpus[0]\n",
    "tokentree = item.to_tree()\n",
    "ete3_tree = tokentree_to_ete(tokentree)\n",
    "print(ete3_tree)"
   ]
  },
  {
   "cell_type": "markdown",
   "metadata": {},
   "source": [
    "As you can see we label a token by its token id (converted to a string). Based on these id's we are going to retrieve the node distances.\n",
    "\n",
    "To create the true distances of a parse tree in our treebank, we are going to use the `.get_distance` method that is provided by `ete3`: http://etetoolkit.org/docs/latest/tutorial/tutorial_trees.html#working-with-branch-distances\n",
    "\n",
    "We will store all these distances in a `torch.Tensor`.\n",
    "\n",
    "Please fill in the gap in the following method. I recommend you to have a good look at Hewitt's blog post  about these node distances."
   ]
  },
  {
   "cell_type": "code",
   "execution_count": 11,
   "metadata": {},
   "outputs": [],
   "source": [
    "def create_gold_distances(corpus):\n",
    "    all_distances = []\n",
    "\n",
    "    for item in (corpus):\n",
    "        tokentree = item.to_tree()\n",
    "        ete_tree = tokentree_to_ete(tokentree)\n",
    "\n",
    "        sen_len = len(ete_tree.search_nodes())\n",
    "        distances = torch.zeros((sen_len, sen_len), device=device)\n",
    "\n",
    "        # Your code for computing all the distances comes here.\n",
    "        \n",
    "        # loop over the nodes in the tree\n",
    "        for index_1, node_1 in enumerate(ete_tree.traverse(\"preorder\")):\n",
    "            # get the distance of the node to all other nodes\n",
    "            for index_2, node_2 in enumerate(ete_tree.traverse(\"preorder\")):\n",
    "                distances[index_1][index_2] = ete_tree.get_distance(node_1, node_2)\n",
    "\n",
    "        all_distances.append(distances)\n",
    "\n",
    "    return all_distances"
   ]
  },
  {
   "cell_type": "markdown",
   "metadata": {},
   "source": [
    "The next step is now to do the previous step the other way around. After all, we are mainly interested in predicting the node distances of a sentence, in order to recreate the corresponding parse tree.\n",
    "\n",
    "Hewitt et al. reconstruct a parse tree based on a _minimum spanning tree_ (MST, https://en.wikipedia.org/wiki/Minimum_spanning_tree). Fortunately for us, we can simply import a method from `scipy` that retrieves this MST."
   ]
  },
  {
   "cell_type": "code",
   "execution_count": 12,
   "metadata": {},
   "outputs": [],
   "source": [
    "from scipy.sparse.csgraph import minimum_spanning_tree\n",
    "import torch\n",
    "\n",
    "\n",
    "def create_mst(distances):\n",
    "    distances = torch.triu(distances).cpu().detach().numpy()\n",
    "    \n",
    "    mst = minimum_spanning_tree(distances).toarray()\n",
    "    mst[mst>0] = 1.\n",
    "    \n",
    "    return mst"
   ]
  },
  {
   "cell_type": "markdown",
   "metadata": {},
   "source": [
    "Let's have a look at what this looks like, by looking at a relatively short sentence in the sample corpus.\n",
    "\n",
    "If your addition to the `create_gold_distances` method has been correct, you should be able to run the following snippet. This then shows you the original parse tree, the distances between the nodes, and the MST that is retrieved from these distances. Can you spot the edges in the MST matrix that correspond to the edges in the parse tree?"
   ]
  },
  {
   "cell_type": "code",
   "execution_count": 13,
   "metadata": {},
   "outputs": [
    {
     "name": "stdout",
     "output_type": "stream",
     "text": [
      "\n",
      "   /2 /-1\n",
      "  |\n",
      "  |--3\n",
      "  |\n",
      "  |--4\n",
      "  |\n",
      "  |   /-6\n",
      "  |  |\n",
      "-5|  |--7\n",
      "  |-8|\n",
      "  |  |   /-9\n",
      "  |  |  |\n",
      "  |   \\12--10\n",
      "  |     |\n",
      "  |      \\-11\n",
      "  |\n",
      "   \\-13 \n",
      "\n",
      "tensor([[0., 1., 2., 1., 1., 1., 2., 2., 2., 3., 3., 3., 1.],\n",
      "        [1., 0., 1., 2., 2., 2., 3., 3., 3., 4., 4., 4., 2.],\n",
      "        [2., 1., 0., 3., 3., 3., 4., 4., 4., 5., 5., 5., 3.],\n",
      "        [1., 2., 3., 0., 2., 2., 3., 3., 3., 4., 4., 4., 2.],\n",
      "        [1., 2., 3., 2., 0., 2., 3., 3., 3., 4., 4., 4., 2.],\n",
      "        [1., 2., 3., 2., 2., 0., 1., 1., 1., 2., 2., 2., 2.],\n",
      "        [2., 3., 4., 3., 3., 1., 0., 2., 2., 3., 3., 3., 3.],\n",
      "        [2., 3., 4., 3., 3., 1., 2., 0., 2., 3., 3., 3., 3.],\n",
      "        [2., 3., 4., 3., 3., 1., 2., 2., 0., 1., 1., 1., 3.],\n",
      "        [3., 4., 5., 4., 4., 2., 3., 3., 1., 0., 2., 2., 4.],\n",
      "        [3., 4., 5., 4., 4., 2., 3., 3., 1., 2., 0., 2., 4.],\n",
      "        [3., 4., 5., 4., 4., 2., 3., 3., 1., 2., 2., 0., 4.],\n",
      "        [1., 2., 3., 2., 2., 2., 3., 3., 3., 4., 4., 4., 0.]], device='cuda:0') \n",
      "\n",
      "[[0. 1. 0. 1. 1. 1. 0. 0. 0. 0. 0. 0. 1.]\n",
      " [0. 0. 1. 0. 0. 0. 0. 0. 0. 0. 0. 0. 0.]\n",
      " [0. 0. 0. 0. 0. 0. 0. 0. 0. 0. 0. 0. 0.]\n",
      " [0. 0. 0. 0. 0. 0. 0. 0. 0. 0. 0. 0. 0.]\n",
      " [0. 0. 0. 0. 0. 0. 0. 0. 0. 0. 0. 0. 0.]\n",
      " [0. 0. 0. 0. 0. 0. 1. 1. 1. 0. 0. 0. 0.]\n",
      " [0. 0. 0. 0. 0. 0. 0. 0. 0. 0. 0. 0. 0.]\n",
      " [0. 0. 0. 0. 0. 0. 0. 0. 0. 0. 0. 0. 0.]\n",
      " [0. 0. 0. 0. 0. 0. 0. 0. 0. 1. 1. 1. 0.]\n",
      " [0. 0. 0. 0. 0. 0. 0. 0. 0. 0. 0. 0. 0.]\n",
      " [0. 0. 0. 0. 0. 0. 0. 0. 0. 0. 0. 0. 0.]\n",
      " [0. 0. 0. 0. 0. 0. 0. 0. 0. 0. 0. 0. 0.]\n",
      " [0. 0. 0. 0. 0. 0. 0. 0. 0. 0. 0. 0. 0.]]\n"
     ]
    }
   ],
   "source": [
    "item = corpus[5]\n",
    "tokentree = item.to_tree()\n",
    "ete3_tree = tokentree_to_ete(tokentree)\n",
    "print(ete3_tree, '\\n')\n",
    "\n",
    "gold_distance = create_gold_distances(corpus[5:6])[0]\n",
    "print(gold_distance, '\\n')\n",
    "\n",
    "mst = create_mst(gold_distance)\n",
    "print(mst)"
   ]
  },
  {
   "cell_type": "markdown",
   "metadata": {},
   "source": [
    "Now that we are able to map edge distances back to parse trees, we can create code for our quantitative evaluation. For this we will use the Undirected Unlabeled Attachment Score (UUAS), which is expressed as:\n",
    "\n",
    "$$\\frac{\\text{number of predicted edges that are an edge in the gold parse tree}}{\\text{number of edges in the gold parse tree}}$$\n",
    "\n",
    "To do this, we will need to obtain all the edges from our MST matrix. Note that, since we are using undirected trees, that an edge can be expressed in 2 ways: an edge between node $i$ and node $j$ is denoted by both `mst[i,j] = 1`, or `mst[j,i] = 1`.\n",
    "\n",
    "You will write code that computes the UUAS score for a matrix of predicted distances, and the corresponding gold distances. I recommend you to split this up into 2 methods: 1 that retrieves the edges that are present in an MST matrix, and one general method that computes the UUAS score."
   ]
  },
  {
   "cell_type": "code",
   "execution_count": 14,
   "metadata": {},
   "outputs": [],
   "source": [
    "def edges(mst):\n",
    "    edges = set()\n",
    "\n",
    "    # Your code for retrieving the edges from the MST matrix\n",
    "    \n",
    "    # create tuples for all instances where mst is 1\n",
    "    for row_index, row in enumerate(mst):\n",
    "        for column_index, column in enumerate(row):\n",
    "            if column == 1:\n",
    "                edges.add((row_index, column_index))\n",
    "                edges.add((column_index, row_index))\n",
    "\n",
    "    return edges\n",
    "\n",
    "def calc_uuas(pred_distances, gold_distances):\n",
    "    uuas = []\n",
    "    \n",
    "    # Your code for computing the UUAS score\n",
    "    \n",
    "    # check the number of dimensions given (if batches are supplied)\n",
    "    if (len(pred_distances.shape) > 2):\n",
    "        pred_distances_chunks = torch.chunk(pred_distances, pred_distances.shape[0], dim=0)\n",
    "        gold_distances_chunks = torch.chunk(gold_distances, gold_distances.shape[0], dim=0)\n",
    "    else:\n",
    "        pred_distances_chunks = [pred_distances]\n",
    "        gold_distances_chunks = [gold_distances]\n",
    "        \n",
    "    # loop over all chunks\n",
    "    for index, pred_distance in enumerate(pred_distances_chunks):\n",
    "        # get the accompanying gold distance\n",
    "        gold_distance = gold_distances_chunks[index]\n",
    "        \n",
    "        # get edges of the predicted distances\n",
    "        if (len(pred_distance.shape) > 2):\n",
    "            pred_distance = pred_distance.squeeze(dim=0)\n",
    "        pred_mst = create_mst(pred_distance)\n",
    "        pred_edges = edges(pred_mst)\n",
    "    \n",
    "        # get edges of the gold distances\n",
    "        if (len(gold_distance.shape) > 2):\n",
    "            gold_distance = gold_distance.squeeze(dim=0)\n",
    "        gold_mst = create_mst(gold_distance)\n",
    "        gold_edges = edges(gold_mst)\n",
    "    \n",
    "        # count the occurences of the predicted edges in the gold edges\n",
    "        count_pred_in_gold = 0\n",
    "        for edge in pred_edges:\n",
    "            if edge in gold_edges:\n",
    "                count_pred_in_gold += 1\n",
    "    \n",
    "        # calculate the uuas\n",
    "        if (len(gold_edges) == 0):\n",
    "            uuas_score = 0\n",
    "        else:\n",
    "            uuas_score = count_pred_in_gold / len(gold_edges)\n",
    "        uuas.append(float(uuas_score))\n",
    "    \n",
    "    # calculate the mean uuas\n",
    "    mean_uuas = np.mean(uuas)\n",
    "    \n",
    "    # return the mean uuas\n",
    "    return mean_uuas\n"
   ]
  },
  {
   "cell_type": "markdown",
   "metadata": {},
   "source": [
    "# Structural Probes\n",
    "\n",
    "We now have everything in place to start doing the actual exciting stuff: training our structural probe!\n",
    "    \n",
    "To make life easier for you, we will simply take the `torch` code for this probe from John Hewitt's repository. This allows you to focus on the training regime from now on."
   ]
  },
  {
   "cell_type": "code",
   "execution_count": 15,
   "metadata": {},
   "outputs": [],
   "source": [
    "import torch.nn as nn\n",
    "import torch\n",
    "\n",
    "\n",
    "class StructuralProbe(nn.Module):\n",
    "    \"\"\" Computes squared L2 distance after projection by a matrix.\n",
    "    For a batch of sentences, computes all n^2 pairs of distances\n",
    "    for each sentence in the batch.\n",
    "    \"\"\"\n",
    "    def __init__(self, model_dim, rank, device=\"cpu\"):\n",
    "        super().__init__()\n",
    "        self.probe_rank = rank\n",
    "        self.model_dim = model_dim\n",
    "        \n",
    "        self.proj = nn.Parameter(data = torch.zeros(self.model_dim, self.probe_rank))\n",
    "        \n",
    "        nn.init.uniform_(self.proj, -0.05, 0.05)\n",
    "        self.to(device)\n",
    "\n",
    "    def forward(self, batch):\n",
    "        \"\"\" Computes all n^2 pairs of distances after projection\n",
    "        for each sentence in a batch.\n",
    "        Note that due to padding, some distances will be non-zero for pads.\n",
    "        Computes (B(h_i-h_j))^T(B(h_i-h_j)) for all i,j\n",
    "        Args:\n",
    "          batch: a batch of word representations of the shape\n",
    "            (batch_size, max_seq_len, representation_dim)\n",
    "        Returns:\n",
    "          A tensor of distances of shape (batch_size, max_seq_len, max_seq_len)\n",
    "        \"\"\"\n",
    "        transformed = torch.matmul(batch, self.proj)\n",
    "        \n",
    "        batchlen, seqlen, rank = transformed.size()\n",
    "        \n",
    "        transformed = transformed.unsqueeze(2)\n",
    "        transformed = transformed.expand(-1, -1, seqlen, -1)\n",
    "        transposed = transformed.transpose(1,2)\n",
    "        \n",
    "        diffs = transformed - transposed\n",
    "        \n",
    "        squared_diffs = diffs.pow(2)\n",
    "        squared_distances = torch.sum(squared_diffs, -1)\n",
    "\n",
    "        return squared_distances\n",
    "\n",
    "    \n",
    "class L1DistanceLoss(nn.Module):\n",
    "    \"\"\"Custom L1 loss for distance matrices.\"\"\"\n",
    "    def __init__(self):\n",
    "        super().__init__()\n",
    "\n",
    "    def forward(self, predictions, label_batch, length_batch):\n",
    "        \"\"\" Computes L1 loss on distance matrices.\n",
    "        Ignores all entries where label_batch=-1\n",
    "        Normalizes first within sentences (by dividing by the square of the sentence length)\n",
    "        and then across the batch.\n",
    "        Args:\n",
    "          predictions: A pytorch batch of predicted distances\n",
    "          label_batch: A pytorch batch of true distances\n",
    "          length_batch: A pytorch batch of sentence lengths\n",
    "        Returns:\n",
    "          A tuple of:\n",
    "            batch_loss: average loss in the batch\n",
    "            total_sents: number of sentences in the batch\n",
    "        \"\"\"\n",
    "        labels_1s = (label_batch != -1).float()\n",
    "        predictions_masked = predictions * labels_1s\n",
    "        labels_masked = label_batch * labels_1s\n",
    "        total_sents = torch.sum((length_batch != 0)).float()\n",
    "        squared_lengths = length_batch.pow(2).float()\n",
    "\n",
    "        if total_sents > 0:\n",
    "            loss_per_sent = torch.sum(torch.abs(predictions_masked - labels_masked), dim=(1,2))\n",
    "            normalized_loss_per_sent = loss_per_sent / squared_lengths\n",
    "            batch_loss = torch.sum(normalized_loss_per_sent) / total_sents\n",
    "        \n",
    "        else:\n",
    "            batch_loss = torch.tensor(0.0)\n",
    "        \n",
    "        return batch_loss, total_sents\n"
   ]
  },
  {
   "cell_type": "markdown",
   "metadata": {},
   "source": [
    "I have provided a rough outline for the training regime that you can use. Note that the hyper parameters that I provide here only serve as an indication, but should be (briefly) explored by yourself.\n",
    "\n",
    "As can be seen in Hewitt's code above, there exists functionality in the probe to deal with batched input. It is up to you to use that: a (less efficient) method can still incorporate batches by doing multiple forward passes for a batch and computing the backward pass only once for the summed losses of all these forward passes. (_I know, this is not the way to go, but in the interest of time that is allowed ;-), the purpose of the assignment is writing a good paper after all_)."
   ]
  },
  {
   "cell_type": "code",
   "execution_count": 16,
   "metadata": {},
   "outputs": [],
   "source": [
    "from torch import optim\n",
    "import numpy as np\n",
    "\n",
    "'''\n",
    "Similar to the `create_data` method of the previous notebook, I recommend you to use a method \n",
    "that initialises all the data of a corpus. Note that for your embeddings you can use the \n",
    "`fetch_sen_reps` method again. However, for the POS probe you concatenated all these representations into \n",
    "1 big tensor of shape (num_tokens_in_corpus, model_dim). \n",
    "\n",
    "The StructuralProbe expects its input to contain all the representations of 1 sentence, so I recommend you\n",
    "to update your `fetch_sen_reps` method in a way that it is easy to retrieve all the representations that \n",
    "correspond to a single sentence.\n",
    "''' \n",
    "\n",
    "def init_corpus(path, model, tokenizer, concat=False, cutoff=None):\n",
    "    \"\"\" Initialises the data of a corpus.\n",
    "    \n",
    "    Parameters\n",
    "    ----------\n",
    "    path : str\n",
    "        Path to corpus location\n",
    "    concat : bool, optional\n",
    "        Optional toggle to concatenate all the tensors\n",
    "        returned by `fetch_sen_reps`.\n",
    "    cutoff : int, optional\n",
    "        Optional integer to \"cutoff\" the data in the corpus.\n",
    "        This allows only a subset to be used, alleviating \n",
    "        memory usage.\n",
    "    \"\"\"\n",
    "    corpus = parse_corpus(path)[:cutoff]\n",
    "\n",
    "    embs = fetch_sen_reps(corpus, model, tokenizer, concat=concat)    \n",
    "    gold_distances = create_gold_distances(corpus)\n",
    "    \n",
    "    return gold_distances, embs\n",
    "\n",
    "\n",
    "# I recommend you to write a method that can evaluate the UUAS & loss score for the dev (& test) corpus.\n",
    "# Feel free to alter the signature of this method.\n",
    "def evaluate_probe(probe, data_x, data_y, batch_size):\n",
    "    # YOUR CODE HERE\n",
    "    \n",
    "    # create a loss function\n",
    "    loss_function =  L1DistanceLoss()\n",
    "    \n",
    "    loss = []\n",
    "    uuas = []\n",
    "    \n",
    "    # loop over the data\n",
    "    for i in range(0, len(data_x), batch_size):\n",
    "        # get the batch\n",
    "        batch_x = data_x[i : (i + batch_size)]\n",
    "        batch_y = data_y[i : (i + batch_size)]\n",
    "        \n",
    "        # calculate the sentence lengths\n",
    "        sentence_lengths = torch.tensor([i.shape[0] for i in batch_x])\n",
    "            \n",
    "        # pad the batch\n",
    "        batch_x = torch.nn.utils.rnn.pad_sequence(batch_x, batch_first=True)\n",
    "        max_batch_y = max([i.shape[0] for i in batch_y])\n",
    "        batch_y = [torch.nn.functional.pad(i, (0, (max_batch_y - i.shape[0]), 0, 0)) for i in batch_y]\n",
    "        batch_y = torch.nn.utils.rnn.pad_sequence(batch_y, batch_first=True)\n",
    "        \n",
    "        probe.eval()\n",
    "        with torch.no_grad():\n",
    "            # pass the batch through the probe\n",
    "            squared_distances = probe(batch_x)\n",
    "            \n",
    "            # calculate the loss\n",
    "            loss_score, total_sents = loss_function(squared_distances, batch_y.to(device), sentence_lengths.to(device))\n",
    "            loss.append(loss_score / torch.tensor(batch_size, device=device))\n",
    "            \n",
    "            # calculate the uuas score\n",
    "            uuas_score = calc_uuas(squared_distances, batch_y.to(device))\n",
    "            uuas.append(uuas_score)\n",
    "    \n",
    "    # sum the loss\n",
    "    loss = torch.sum(torch.stack(loss, dim=0), dim=0)\n",
    "    \n",
    "    # mean the uuas\n",
    "    uuas = np.mean(uuas)\n",
    "    \n",
    "    # return the loss and uuas\n",
    "    return loss.cpu().item(), uuas\n",
    "\n",
    "# Feel free to alter the signature of this method.\n",
    "def train_probe(train_x, train_y, dev_x, dev_y, test_x, test_y, emb_dim=768, batch_size=24, max_epochs=100, patience=3):\n",
    "    rank = 64\n",
    "    lr = 0.01\n",
    "\n",
    "    probe = StructuralProbe(emb_dim, rank).to(device)\n",
    "    optimizer = optim.Adam(probe.parameters(), lr=lr)\n",
    "    scheduler = optim.lr_scheduler.ReduceLROnPlateau(optimizer, mode='min', factor=0.5, patience=1)\n",
    "    loss_function =  L1DistanceLoss()\n",
    "    \n",
    "    # performance measures per epoch\n",
    "    train_loss_epochs = []\n",
    "    dev_loss_epochs = []\n",
    "    dev_uuas_epochs = []\n",
    "    \n",
    "    # measures for early stopping\n",
    "    best_uuas = 0\n",
    "    epochs_without_improvement = 0\n",
    "\n",
    "    for epoch in range(max_epochs):\n",
    "        train_loss = []\n",
    "            \n",
    "        for i in range(0, len(train_x), batch_size):\n",
    "            optimizer.zero_grad()\n",
    "\n",
    "            # YOUR CODE FOR DOING A PROBE FORWARD PASS\n",
    "            \n",
    "            # get the batch\n",
    "            batch_x = train_x[i : (i + batch_size)]\n",
    "            batch_y = train_y[i : (i + batch_size)]\n",
    "            \n",
    "            # calculate the sentence lengths\n",
    "            sentence_lengths = torch.tensor([i.shape[0] for i in batch_x])\n",
    "            \n",
    "            # pad the batch\n",
    "            batch_x = torch.nn.utils.rnn.pad_sequence(batch_x, batch_first=True, padding_value=-1.0)\n",
    "            max_batch_y = max([i.shape[0] for i in batch_y])\n",
    "            batch_y = [torch.nn.functional.pad(i, (0, (max_batch_y - i.shape[0]), 0, 0), value=-1.0) for i in batch_y]\n",
    "            batch_y = torch.nn.utils.rnn.pad_sequence(batch_y, batch_first=True, padding_value=-1.0)\n",
    "            \n",
    "            # pass the batch through the probe\n",
    "            squared_distances = probe(batch_x.to(device))\n",
    "            \n",
    "            # calculate the loss\n",
    "            batch_loss, total_sents = loss_function(squared_distances, batch_y.to(device), sentence_lengths.to(device))\n",
    "            batch_loss = batch_loss / torch.tensor(batch_size, device=device)\n",
    "            train_loss.append(batch_loss)\n",
    "            \n",
    "            # backward on the loss and set a step\n",
    "            batch_loss.backward()\n",
    "            optimizer.step()\n",
    "        \n",
    "        # evaluate on the validation set\n",
    "        dev_loss, dev_uuas = evaluate_probe(probe, dev_x, dev_y, batch_size)\n",
    "        \n",
    "        # update user on dev loss and uuas after epoch\n",
    "        train_loss = torch.sum(torch.stack(train_loss, dim=0), dim=0)\n",
    "        print(f'Epoch {epoch:d} finished: train_loss={train_loss:.4f} & valid_loss={dev_loss:.4f} & valid_uuas={dev_uuas:.4f}')\n",
    "\n",
    "        # Using a scheduler is up to you, and might require some hyper param fine-tuning\n",
    "        scheduler.step(dev_loss)\n",
    "        \n",
    "        # add the performance measures to the lists\n",
    "        train_loss_epochs.append(train_loss.cpu().item())\n",
    "        dev_loss_epochs.append(dev_loss)\n",
    "        dev_uuas_epochs.append(dev_uuas)\n",
    "        \n",
    "        # check if the epoch has increased dev_uuas\n",
    "        if round(dev_uuas, 3) > best_uuas:\n",
    "            best_uuas = round(dev_uuas, 3)\n",
    "            epochs_without_improvement = 0\n",
    "        else:\n",
    "            epochs_without_improvement += 1\n",
    "            \n",
    "        # check if patience has been reached\n",
    "        if (epochs_without_improvement == patience):\n",
    "            break            \n",
    "\n",
    "    # evaluate the probe on the test set\n",
    "    test_loss, test_uuas = evaluate_probe(probe, test_x, test_y, batch_size)\n",
    "    \n",
    "    # update user on test loss and uuas after training\n",
    "    print(f'Testing finished: test_loss={test_loss:.4f} & test_uuas={test_uuas:.4f}')\n",
    "    \n",
    "    # return the trained probe and performance measures\n",
    "    return probe, train_loss_epochs, dev_loss_epochs, dev_uuas_epochs, test_loss, test_uuas"
   ]
  },
  {
   "cell_type": "code",
   "execution_count": 24,
   "metadata": {},
   "outputs": [
    {
     "name": "stdout",
     "output_type": "stream",
     "text": [
      "Epoch 0 finished: train_loss=54.6519 & valid_loss=172.6030 & valid_uuas=0.3913\n",
      "Epoch 1 finished: train_loss=29.0196 & valid_loss=221.7927 & valid_uuas=0.3999\n",
      "Epoch 2 finished: train_loss=31.3096 & valid_loss=311.0674 & valid_uuas=0.3551\n",
      "Epoch 3 finished: train_loss=19.8610 & valid_loss=228.8847 & valid_uuas=0.5073\n",
      "Epoch 4 finished: train_loss=20.7243 & valid_loss=222.2131 & valid_uuas=0.4427\n",
      "Epoch 5 finished: train_loss=17.6885 & valid_loss=245.9716 & valid_uuas=0.5077\n",
      "Epoch 6 finished: train_loss=17.7371 & valid_loss=262.9512 & valid_uuas=0.5128\n",
      "Epoch 7 finished: train_loss=16.1976 & valid_loss=253.2751 & valid_uuas=0.5382\n",
      "Epoch 8 finished: train_loss=15.8937 & valid_loss=241.7561 & valid_uuas=0.5391\n",
      "Epoch 9 finished: train_loss=14.8686 & valid_loss=237.1102 & valid_uuas=0.6117\n",
      "Epoch 10 finished: train_loss=14.6077 & valid_loss=255.8597 & valid_uuas=0.6009\n",
      "Epoch 11 finished: train_loss=13.9935 & valid_loss=245.6251 & valid_uuas=0.6248\n",
      "Epoch 12 finished: train_loss=13.7937 & valid_loss=251.7989 & valid_uuas=0.6262\n",
      "Epoch 13 finished: train_loss=13.4478 & valid_loss=256.1611 & valid_uuas=0.6293\n",
      "Epoch 14 finished: train_loss=13.3366 & valid_loss=258.5211 & valid_uuas=0.6300\n",
      "Epoch 15 finished: train_loss=13.1407 & valid_loss=257.4286 & valid_uuas=0.6343\n",
      "Epoch 16 finished: train_loss=13.0764 & valid_loss=254.7523 & valid_uuas=0.6352\n",
      "Epoch 17 finished: train_loss=12.9697 & valid_loss=258.4013 & valid_uuas=0.6360\n",
      "Epoch 18 finished: train_loss=12.9245 & valid_loss=258.6300 & valid_uuas=0.6366\n",
      "Epoch 19 finished: train_loss=12.8612 & valid_loss=256.6764 & valid_uuas=0.6368\n",
      "Epoch 20 finished: train_loss=12.8435 & valid_loss=257.0557 & valid_uuas=0.6367\n",
      "Epoch 21 finished: train_loss=12.8065 & valid_loss=257.5349 & valid_uuas=0.6365\n",
      "Testing finished: test_loss=303.8350 & test_uuas=0.6265\n"
     ]
    }
   ],
   "source": [
    "# create the datasets\n",
    "# emb_dim of 650 for lstm\n",
    "train_y, train_x = init_corpus('data/en_ewt-ud-train.conllu', transformer_model, transformer_tokenizer) # lstm and vocab for lstm\n",
    "dev_y, dev_x = init_corpus('data/en_ewt-ud-dev.conllu', transformer_model, transformer_tokenizer)\n",
    "test_y, test_x = init_corpus('data/en_ewt-ud-test.conllu', transformer_model, transformer_tokenizer)\n",
    "\n",
    "# train the probe\n",
    "trained_probe, _, _, _, _, _ = train_probe(train_x, train_y, dev_x, dev_y, test_x, test_y, emb_dim=768, batch_size=24)"
   ]
  },
  {
   "cell_type": "markdown",
   "metadata": {},
   "source": [
    "# Influence of model size on probing results\n",
    "In this section we introduce 2 new Transformer models. Namely, base GPT2 and GPT2-Medium. We will use these to analyze whether a larger model (larger number of parameters) has a positive influence on probing results. Meaning that models would be better able to capture linguistic and syntactic features from text in their hidden states. Thus, we compare the following models:\n",
    "* distilgpt2: 6-layer, 768-hidden, 12-heads, 82M parameters\n",
    "* gpt2: 12-layer, 768-hidden, 12-heads, 117M parameters\n",
    "* gpt2-medium: 24-layer, 1024-hidden, 16-heads, 345M parameters\n",
    "    \n",
    "In the following codeblocks we will introduce the 2 new Transformer models. The conclusion of the comparison will be included in the conclusions of the experiments in the other sections."
   ]
  },
  {
   "cell_type": "code",
   "execution_count": 18,
   "metadata": {},
   "outputs": [
    {
     "name": "stderr",
     "output_type": "stream",
     "text": [
      "Some weights of GPT2Model were not initialized from the model checkpoint at gpt2 and are newly initialized: ['h.0.attn.masked_bias', 'h.1.attn.masked_bias', 'h.2.attn.masked_bias', 'h.3.attn.masked_bias', 'h.4.attn.masked_bias', 'h.5.attn.masked_bias', 'h.6.attn.masked_bias', 'h.7.attn.masked_bias', 'h.8.attn.masked_bias', 'h.9.attn.masked_bias', 'h.10.attn.masked_bias', 'h.11.attn.masked_bias']\n",
      "You should probably TRAIN this model on a down-stream task to be able to use it for predictions and inference.\n"
     ]
    }
   ],
   "source": [
    "gpt_base_model = GPT2Model.from_pretrained('gpt2', output_hidden_states=True)\n",
    "gpt_base_tokenizer = GPT2Tokenizer.from_pretrained('gpt2', output_hidden_states=True)"
   ]
  },
  {
   "cell_type": "code",
   "execution_count": 18,
   "metadata": {},
   "outputs": [
    {
     "name": "stderr",
     "output_type": "stream",
     "text": [
      "Some weights of GPT2Model were not initialized from the model checkpoint at gpt2-medium and are newly initialized: ['h.0.attn.masked_bias', 'h.1.attn.masked_bias', 'h.2.attn.masked_bias', 'h.3.attn.masked_bias', 'h.4.attn.masked_bias', 'h.5.attn.masked_bias', 'h.6.attn.masked_bias', 'h.7.attn.masked_bias', 'h.8.attn.masked_bias', 'h.9.attn.masked_bias', 'h.10.attn.masked_bias', 'h.11.attn.masked_bias', 'h.12.attn.masked_bias', 'h.13.attn.masked_bias', 'h.14.attn.masked_bias', 'h.15.attn.masked_bias', 'h.16.attn.masked_bias', 'h.17.attn.masked_bias', 'h.18.attn.masked_bias', 'h.19.attn.masked_bias', 'h.20.attn.masked_bias', 'h.21.attn.masked_bias', 'h.22.attn.masked_bias', 'h.23.attn.masked_bias']\n",
      "You should probably TRAIN this model on a down-stream task to be able to use it for predictions and inference.\n"
     ]
    }
   ],
   "source": [
    "gpt_medium_model = GPT2Model.from_pretrained('gpt2-medium', output_hidden_states=True)\n",
    "gpt_medium_tokenizer = GPT2Tokenizer.from_pretrained('gpt2-medium', output_hidden_states=True)"
   ]
  },
  {
   "cell_type": "markdown",
   "metadata": {},
   "source": [
    "# Extent of POS-tags encoding\n",
    "In this section we will examine to what extent the GPT-2 transformer and Gulordava LSTM encode linguistic features. We do this by examining to what extent they encode POS-tags.\n",
    "    \n",
    "We start by training a diagnostic classifier on the encodings from the GPT-2 transformer model and training a diagnostic classifier on the encodings from the Gulordava LSTM model. We then compare the performance of the classifier on both models."
   ]
  },
  {
   "cell_type": "markdown",
   "metadata": {},
   "source": [
    "First, we create a function that creates the correct data for each of the models and a function that trains the Diagnostic Classifier on the specified model."
   ]
  },
  {
   "cell_type": "code",
   "execution_count": 20,
   "metadata": {},
   "outputs": [],
   "source": [
    "# function to get the correct data for each of the models\n",
    "def create_dc_data(model_used='Transformer'):\n",
    "    # check which model to use\n",
    "    if (model_used == 'Transformer'):\n",
    "        lm = transformer_model\n",
    "        w2i = transformer_tokenizer\n",
    "    elif (model_used == 'GPT2_Base'):\n",
    "        lm = gpt_base_model\n",
    "        w2i = gpt_base_tokenizer\n",
    "    elif (model_used == 'GPT2_Medium'):\n",
    "        lm = gpt_medium_model\n",
    "        w2i = gpt_medium_tokenizer\n",
    "    else:\n",
    "        lm = lstm\n",
    "        w2i = vocab\n",
    "    use_sample = False\n",
    "\n",
    "    train_x, train_y, train_vocab = create_data(\n",
    "        os.path.join('data', 'sample' if use_sample else '', 'en_ewt-ud-train.conllu'),\n",
    "        lm, \n",
    "        w2i,\n",
    "        cut_off=30000\n",
    "    )\n",
    "\n",
    "    dev_x, dev_y, _ = create_data(\n",
    "        os.path.join('data', 'sample' if use_sample else '', 'en_ewt-ud-dev.conllu'),\n",
    "        lm, \n",
    "        w2i,\n",
    "        pos_vocab=train_vocab\n",
    "    )\n",
    "\n",
    "    test_x, test_y, _ = create_data(\n",
    "        os.path.join('data', 'sample' if use_sample else '', 'en_ewt-ud-test.conllu'),\n",
    "        lm,\n",
    "        w2i,\n",
    "        pos_vocab=train_vocab\n",
    "    )\n",
    "    \n",
    "    # return the data\n",
    "    return train_x, train_y, dev_x, dev_y, test_x, test_y, len(train_vocab)"
   ]
  },
  {
   "cell_type": "code",
   "execution_count": 21,
   "metadata": {},
   "outputs": [],
   "source": [
    "from sklearn.metrics import accuracy_score\n",
    "import json\n",
    "\n",
    "# function that trains the DC and returns the metrics\n",
    "def train_test_dc(model_used='Transformer', batch_size=24, max_epochs=200, save_results=True):\n",
    "    # get the data for the model\n",
    "    print('Loading data..')\n",
    "    train_x, train_y, dev_x, dev_y, test_x, test_y, vocab_length = create_dc_data(model_used)\n",
    "    print('Data loaded')\n",
    "    \n",
    "    # combine train and validation datasets\n",
    "    x_train = torch.cat((train_x, dev_x), dim=0)\n",
    "    y_train = torch.cat((train_y, dev_y), dim=0)\n",
    "    \n",
    "    # train the diagnostic classifier\n",
    "    print('Starting training..')\n",
    "    trained_dc = train_dc(DiagnosticClassifier, train_x[:30000].cpu(), \n",
    "                          train_y[:30000].cpu(), dev_x.cpu(), dev_y.cpu(), \n",
    "                          device, batch_size=batch_size, max_epochs=max_epochs)\n",
    "    print('Training finished')\n",
    "    \n",
    "    # get the DC data\n",
    "    train_loss = trained_dc.history[:, 'train_loss']\n",
    "    valid_loss = trained_dc.history[:, 'valid_loss']\n",
    "    valid_acc = trained_dc.history[:, 'valid_acc']\n",
    "    \n",
    "    # run the test data through the model\n",
    "    test_preds = trained_dc.predict(test_x.cpu())\n",
    "    test_acc = accuracy_score(test_y.cpu(), test_preds)\n",
    "    \n",
    "    if save_results:\n",
    "        # save the results\n",
    "        print('Saving results..')\n",
    "        data = {}\n",
    "        data['train_loss'] = train_loss\n",
    "        data['valid_loss'] = valid_loss\n",
    "        data['valid_acc'] = valid_acc\n",
    "        data['test_acc'] = test_acc\n",
    "        data['vocab_length'] = vocab_length\n",
    "        with open('model_results/' + model_used.lower() + '_dc.txt', 'w') as outfile:\n",
    "            json.dump(data, outfile)\n",
    "        print('Results saved')\n",
    "    \n",
    "    # return the measures \n",
    "    return train_loss, valid_loss, valid_acc, test_acc, vocab_length"
   ]
  },
  {
   "cell_type": "markdown",
   "metadata": {},
   "source": [
    "Now, we train the diagnostic classifier on the data of both models in the following code blocks."
   ]
  },
  {
   "cell_type": "code",
   "execution_count": 22,
   "metadata": {},
   "outputs": [
    {
     "name": "stdout",
     "output_type": "stream",
     "text": [
      "Loading data..\n",
      "Data loaded\n",
      "Starting training..\n",
      "  epoch    train_loss    valid_acc    valid_loss      dur\n",
      "-------  ------------  -----------  ------------  -------\n",
      "      1        \u001b[36m1.4024\u001b[0m       \u001b[32m0.8163\u001b[0m        \u001b[35m0.7158\u001b[0m  11.3754\n",
      "      2        \u001b[36m0.4301\u001b[0m       \u001b[32m0.8476\u001b[0m        \u001b[35m0.5632\u001b[0m  11.2410\n",
      "      3        \u001b[36m0.3362\u001b[0m       \u001b[32m0.8576\u001b[0m        \u001b[35m0.4955\u001b[0m  11.2950\n",
      "      4        \u001b[36m0.2899\u001b[0m       \u001b[32m0.8680\u001b[0m        \u001b[35m0.4660\u001b[0m  11.5082\n",
      "      5        \u001b[36m0.2607\u001b[0m       \u001b[32m0.8700\u001b[0m        \u001b[35m0.4454\u001b[0m  11.5367\n",
      "      6        \u001b[36m0.2402\u001b[0m       \u001b[32m0.8792\u001b[0m        \u001b[35m0.4303\u001b[0m  11.3174\n",
      "      7        \u001b[36m0.2251\u001b[0m       0.8743        \u001b[35m0.4301\u001b[0m  11.3290\n",
      "      8        \u001b[36m0.2120\u001b[0m       0.8765        \u001b[35m0.4163\u001b[0m  11.3080\n",
      "      9        \u001b[36m0.2009\u001b[0m       \u001b[32m0.8848\u001b[0m        \u001b[35m0.4063\u001b[0m  11.3361\n",
      "     10        \u001b[36m0.1922\u001b[0m       \u001b[32m0.8852\u001b[0m        \u001b[35m0.4018\u001b[0m  11.3123\n",
      "     11        \u001b[36m0.1851\u001b[0m       \u001b[32m0.8862\u001b[0m        \u001b[35m0.3915\u001b[0m  11.3510\n",
      "     12        \u001b[36m0.1780\u001b[0m       \u001b[32m0.8867\u001b[0m        \u001b[35m0.3904\u001b[0m  11.2993\n",
      "     13        \u001b[36m0.1720\u001b[0m       0.8856        0.3926  11.2900\n",
      "     14        \u001b[36m0.1665\u001b[0m       0.8863        0.3922  11.3361\n",
      "     15        \u001b[36m0.1617\u001b[0m       \u001b[32m0.8893\u001b[0m        \u001b[35m0.3852\u001b[0m  11.3110\n",
      "     16        \u001b[36m0.1571\u001b[0m       0.8857        \u001b[35m0.3819\u001b[0m  11.4050\n",
      "     17        \u001b[36m0.1525\u001b[0m       0.8859        0.3914  10.8608\n",
      "     18        \u001b[36m0.1490\u001b[0m       0.8869        0.3907  10.7170\n",
      "Stopping since valid_loss has not improved in the last 3 epochs.\n",
      "Training finished\n",
      "Saving results..\n",
      "Results saved\n"
     ]
    }
   ],
   "source": [
    "# train the transformer model\n",
    "(transformer_train_loss, \n",
    " transformer_valid_loss, \n",
    " transformer_valid_acc, \n",
    " transformer_test_acc, \n",
    " transformer_vocab_length) = train_test_dc(model_used='Transformer', batch_size=24, max_epochs=200)"
   ]
  },
  {
   "cell_type": "code",
   "execution_count": 16,
   "metadata": {},
   "outputs": [],
   "source": [
    "#import json\n",
    "\n",
    "# or load the results from an earlier run\n",
    "#with open('model_results/transformer_dc.txt') as json_file:\n",
    "    #data = json.load(json_file)\n",
    "    #transformer_train_loss = data['train_loss']\n",
    "    #transformer_valid_loss = data['valid_loss']\n",
    "    #transformer_valid_acc = data['valid_acc']\n",
    "    #transformer_test_acc = data['test_acc']\n",
    "    #transformer_vocab_length = data['vocab_length']"
   ]
  },
  {
   "cell_type": "code",
   "execution_count": 23,
   "metadata": {},
   "outputs": [
    {
     "name": "stdout",
     "output_type": "stream",
     "text": [
      "Loading data..\n",
      "Data loaded\n",
      "Starting training..\n",
      "  epoch    train_loss    valid_acc    valid_loss      dur\n",
      "-------  ------------  -----------  ------------  -------\n",
      "      1        \u001b[36m1.3506\u001b[0m       \u001b[32m0.8090\u001b[0m        \u001b[35m0.7627\u001b[0m  11.5110\n",
      "      2        \u001b[36m0.4537\u001b[0m       \u001b[32m0.8442\u001b[0m        \u001b[35m0.5775\u001b[0m  11.3840\n",
      "      3        \u001b[36m0.3469\u001b[0m       \u001b[32m0.8627\u001b[0m        \u001b[35m0.5044\u001b[0m  11.5292\n",
      "      4        \u001b[36m0.2924\u001b[0m       \u001b[32m0.8641\u001b[0m        \u001b[35m0.4775\u001b[0m  11.4830\n",
      "      5        \u001b[36m0.2594\u001b[0m       \u001b[32m0.8793\u001b[0m        \u001b[35m0.4290\u001b[0m  11.5567\n",
      "      6        \u001b[36m0.2349\u001b[0m       \u001b[32m0.8849\u001b[0m        \u001b[35m0.4093\u001b[0m  11.5052\n",
      "      7        \u001b[36m0.2174\u001b[0m       0.8819        0.4129  12.6183\n",
      "      8        \u001b[36m0.2033\u001b[0m       0.8828        \u001b[35m0.4012\u001b[0m  13.3811\n",
      "      9        \u001b[36m0.1919\u001b[0m       \u001b[32m0.8873\u001b[0m        \u001b[35m0.3954\u001b[0m  13.5453\n",
      "     10        \u001b[36m0.1822\u001b[0m       \u001b[32m0.8904\u001b[0m        \u001b[35m0.3853\u001b[0m  11.2830\n",
      "     11        \u001b[36m0.1737\u001b[0m       0.8879        0.3895  11.1300\n",
      "     12        \u001b[36m0.1676\u001b[0m       \u001b[32m0.8915\u001b[0m        \u001b[35m0.3770\u001b[0m  11.6714\n",
      "     13        \u001b[36m0.1603\u001b[0m       0.8900        0.3849  11.1400\n",
      "     14        \u001b[36m0.1552\u001b[0m       \u001b[32m0.8920\u001b[0m        \u001b[35m0.3762\u001b[0m  11.5155\n",
      "     15        \u001b[36m0.1506\u001b[0m       0.8912        0.3856  11.1490\n",
      "     16        \u001b[36m0.1459\u001b[0m       0.8918        0.3818  11.6241\n",
      "Stopping since valid_loss has not improved in the last 3 epochs.\n",
      "Training finished\n",
      "Saving results..\n",
      "Results saved\n"
     ]
    }
   ],
   "source": [
    "# train the GPT2-Base model\n",
    "(gpt_base_train_loss, \n",
    " gpt_base_valid_loss, \n",
    " gpt_base_valid_acc, \n",
    " gpt_base_test_acc, \n",
    " gpt_base_vocab_length) = train_test_dc(model_used='GPT2_Base', batch_size=24, max_epochs=200)"
   ]
  },
  {
   "cell_type": "code",
   "execution_count": 17,
   "metadata": {},
   "outputs": [],
   "source": [
    "#import json\n",
    "\n",
    "# or load the results from an earlier run\n",
    "#with open('model_results/gpt2_base_dc.txt') as json_file:\n",
    "    #data = json.load(json_file)\n",
    "    #gpt_base_train_loss = data['train_loss']\n",
    "    #gpt_base_valid_loss = data['valid_loss']\n",
    "    #gpt_base_valid_acc = data['valid_acc']\n",
    "    #gpt_base_test_acc = data['test_acc']\n",
    "    #gpt_base_vocab_length = data['vocab_length']"
   ]
  },
  {
   "cell_type": "code",
   "execution_count": 23,
   "metadata": {},
   "outputs": [
    {
     "name": "stdout",
     "output_type": "stream",
     "text": [
      "Loading data..\n",
      "Data loaded\n",
      "Starting training..\n",
      "  epoch    train_loss    valid_acc    valid_loss      dur\n",
      "-------  ------------  -----------  ------------  -------\n",
      "      1        \u001b[36m1.3083\u001b[0m       \u001b[32m0.8241\u001b[0m        \u001b[35m0.6549\u001b[0m  13.1770\n",
      "      2        \u001b[36m0.3935\u001b[0m       \u001b[32m0.8529\u001b[0m        \u001b[35m0.5145\u001b[0m  13.1010\n",
      "      3        \u001b[36m0.3045\u001b[0m       \u001b[32m0.8645\u001b[0m        \u001b[35m0.4620\u001b[0m  13.0570\n",
      "      4        \u001b[36m0.2584\u001b[0m       \u001b[32m0.8741\u001b[0m        \u001b[35m0.4287\u001b[0m  13.0650\n",
      "      5        \u001b[36m0.2287\u001b[0m       \u001b[32m0.8762\u001b[0m        \u001b[35m0.4188\u001b[0m  13.0780\n",
      "      6        \u001b[36m0.2061\u001b[0m       \u001b[32m0.8794\u001b[0m        \u001b[35m0.4060\u001b[0m  13.0580\n",
      "      7        \u001b[36m0.1904\u001b[0m       \u001b[32m0.8800\u001b[0m        \u001b[35m0.4009\u001b[0m  13.0610\n",
      "      8        \u001b[36m0.1772\u001b[0m       \u001b[32m0.8817\u001b[0m        \u001b[35m0.3941\u001b[0m  13.1417\n",
      "      9        \u001b[36m0.1662\u001b[0m       \u001b[32m0.8840\u001b[0m        \u001b[35m0.3911\u001b[0m  13.0730\n",
      "     10        \u001b[36m0.1567\u001b[0m       \u001b[32m0.8840\u001b[0m        0.3924  13.0826\n",
      "     11        \u001b[36m0.1494\u001b[0m       \u001b[32m0.8841\u001b[0m        \u001b[35m0.3895\u001b[0m  13.0704\n",
      "     12        \u001b[36m0.1429\u001b[0m       0.8838        0.3918  13.0850\n",
      "     13        \u001b[36m0.1363\u001b[0m       \u001b[32m0.8846\u001b[0m        0.3912  13.0620\n",
      "Stopping since valid_loss has not improved in the last 3 epochs.\n",
      "Training finished\n",
      "Saving results..\n",
      "Results saved\n"
     ]
    }
   ],
   "source": [
    "# train the GPT2-Medium model\n",
    "(gpt_medium_train_loss, \n",
    " gpt_medium_valid_loss, \n",
    " gpt_medium_valid_acc, \n",
    " gpt_medium_test_acc, \n",
    " gpt_medium_vocab_length) = train_test_dc(model_used='GPT2_Medium', batch_size=24, max_epochs=200)"
   ]
  },
  {
   "cell_type": "code",
   "execution_count": 18,
   "metadata": {},
   "outputs": [],
   "source": [
    "#import json\n",
    "\n",
    "# or load the results from an earlier run\n",
    "#with open('model_results/gpt2_medium_dc.txt') as json_file:\n",
    "    #data = json.load(json_file)\n",
    "    #gpt_medium_train_loss = data['train_loss']\n",
    "    #gpt_medium_valid_loss = data['valid_loss']\n",
    "    #gpt_medium_valid_acc = data['valid_acc']\n",
    "    #gpt_medium_test_acc = data['test_acc']\n",
    "    #gpt_medium_vocab_length = data['vocab_length']"
   ]
  },
  {
   "cell_type": "code",
   "execution_count": 22,
   "metadata": {},
   "outputs": [
    {
     "name": "stdout",
     "output_type": "stream",
     "text": [
      "Loading data..\n",
      "Data loaded\n",
      "Starting training..\n",
      "  epoch    train_loss    valid_acc    valid_loss     dur\n",
      "-------  ------------  -----------  ------------  ------\n",
      "      1        \u001b[36m5.3563\u001b[0m       \u001b[32m0.7446\u001b[0m        \u001b[35m2.8049\u001b[0m  9.6841\n",
      "      2        \u001b[36m1.3707\u001b[0m       \u001b[32m0.7887\u001b[0m        \u001b[35m1.3370\u001b[0m  9.5900\n",
      "      3        \u001b[36m0.7634\u001b[0m       \u001b[32m0.8114\u001b[0m        \u001b[35m0.9252\u001b[0m  9.5450\n",
      "      4        \u001b[36m0.5638\u001b[0m       \u001b[32m0.8234\u001b[0m        \u001b[35m0.7493\u001b[0m  9.5680\n",
      "      5        \u001b[36m0.4652\u001b[0m       \u001b[32m0.8329\u001b[0m        \u001b[35m0.6551\u001b[0m  9.5564\n",
      "      6        \u001b[36m0.4069\u001b[0m       \u001b[32m0.8394\u001b[0m        \u001b[35m0.5987\u001b[0m  9.5570\n",
      "      7        \u001b[36m0.3686\u001b[0m       \u001b[32m0.8447\u001b[0m        \u001b[35m0.5628\u001b[0m  9.5590\n",
      "      8        \u001b[36m0.3412\u001b[0m       \u001b[32m0.8493\u001b[0m        \u001b[35m0.5382\u001b[0m  9.5670\n",
      "      9        \u001b[36m0.3205\u001b[0m       \u001b[32m0.8522\u001b[0m        \u001b[35m0.5205\u001b[0m  9.5770\n",
      "     10        \u001b[36m0.3043\u001b[0m       \u001b[32m0.8543\u001b[0m        \u001b[35m0.5073\u001b[0m  9.5619\n",
      "     11        \u001b[36m0.2911\u001b[0m       \u001b[32m0.8559\u001b[0m        \u001b[35m0.4977\u001b[0m  9.5640\n",
      "     12        \u001b[36m0.2802\u001b[0m       \u001b[32m0.8572\u001b[0m        \u001b[35m0.4896\u001b[0m  9.5615\n",
      "     13        \u001b[36m0.2709\u001b[0m       \u001b[32m0.8582\u001b[0m        \u001b[35m0.4836\u001b[0m  9.6240\n",
      "     14        \u001b[36m0.2629\u001b[0m       \u001b[32m0.8594\u001b[0m        \u001b[35m0.4789\u001b[0m  9.5630\n",
      "     15        \u001b[36m0.2559\u001b[0m       \u001b[32m0.8600\u001b[0m        \u001b[35m0.4750\u001b[0m  9.5830\n",
      "     16        \u001b[36m0.2498\u001b[0m       \u001b[32m0.8605\u001b[0m        \u001b[35m0.4720\u001b[0m  9.5470\n",
      "     17        \u001b[36m0.2442\u001b[0m       \u001b[32m0.8616\u001b[0m        \u001b[35m0.4693\u001b[0m  9.5830\n",
      "     18        \u001b[36m0.2391\u001b[0m       \u001b[32m0.8621\u001b[0m        \u001b[35m0.4665\u001b[0m  9.5980\n",
      "     19        \u001b[36m0.2345\u001b[0m       \u001b[32m0.8624\u001b[0m        \u001b[35m0.4650\u001b[0m  9.5840\n",
      "     20        \u001b[36m0.2304\u001b[0m       \u001b[32m0.8628\u001b[0m        \u001b[35m0.4634\u001b[0m  9.5850\n",
      "     21        \u001b[36m0.2264\u001b[0m       \u001b[32m0.8630\u001b[0m        \u001b[35m0.4631\u001b[0m  9.5830\n",
      "     22        \u001b[36m0.2229\u001b[0m       \u001b[32m0.8634\u001b[0m        \u001b[35m0.4611\u001b[0m  9.5800\n",
      "     23        \u001b[36m0.2195\u001b[0m       0.8630        \u001b[35m0.4604\u001b[0m  9.6375\n",
      "     24        \u001b[36m0.2164\u001b[0m       \u001b[32m0.8637\u001b[0m        \u001b[35m0.4591\u001b[0m  9.6230\n",
      "     25        \u001b[36m0.2135\u001b[0m       \u001b[32m0.8637\u001b[0m        0.4591  9.5790\n",
      "     26        \u001b[36m0.2108\u001b[0m       \u001b[32m0.8638\u001b[0m        \u001b[35m0.4581\u001b[0m  9.5850\n",
      "     27        \u001b[36m0.2082\u001b[0m       \u001b[32m0.8640\u001b[0m        0.4587  9.5770\n",
      "     28        \u001b[36m0.2057\u001b[0m       0.8639        0.4584  9.5720\n",
      "     29        \u001b[36m0.2035\u001b[0m       \u001b[32m0.8646\u001b[0m        \u001b[35m0.4576\u001b[0m  9.5710\n",
      "     30        \u001b[36m0.2012\u001b[0m       \u001b[32m0.8650\u001b[0m        \u001b[35m0.4568\u001b[0m  9.5840\n",
      "     31        \u001b[36m0.1991\u001b[0m       \u001b[32m0.8651\u001b[0m        0.4570  9.5730\n",
      "     32        \u001b[36m0.1971\u001b[0m       0.8648        0.4576  9.5670\n",
      "Stopping since valid_loss has not improved in the last 3 epochs.\n",
      "Training finished\n",
      "Saving results..\n",
      "Results saved\n"
     ]
    }
   ],
   "source": [
    "# train the LSTM model\n",
    "(lstm_train_loss, \n",
    " lstm_valid_loss, \n",
    " lstm_valid_acc, \n",
    " lstm_test_acc, \n",
    " lstm_vocab_length) = train_test_dc(model_used='LSTM', batch_size=24, max_epochs=200)"
   ]
  },
  {
   "cell_type": "code",
   "execution_count": 19,
   "metadata": {},
   "outputs": [],
   "source": [
    "#import json\n",
    "\n",
    "# or load the results from an earlier run\n",
    "#with open('model_results/lstm_dc.txt') as json_file:\n",
    "    #data = json.load(json_file)\n",
    "    #lstm_train_loss = data['train_loss']\n",
    "    #lstm_valid_loss = data['valid_loss']\n",
    "    #lstm_valid_acc = data['valid_acc']\n",
    "    #lstm_test_acc = data['test_acc']\n",
    "    #lstm_vocab_length = data['vocab_length']"
   ]
  },
  {
   "cell_type": "markdown",
   "metadata": {},
   "source": [
    "Now we can compare the results of the four different diagnostic classifiers."
   ]
  },
  {
   "cell_type": "code",
   "execution_count": 26,
   "metadata": {},
   "outputs": [
    {
     "name": "stdout",
     "output_type": "stream",
     "text": [
      "DistilGPT-2 diagnostic classifier after convergence:\n",
      "Train loss = 0.1571\n",
      "Validation loss = 0.3819\n",
      "Validation accuracy = 0.8857\n",
      "Test accuracy = 0.8852\n"
     ]
    }
   ],
   "source": [
    "print('DistilGPT-2 diagnostic classifier after convergence:')\n",
    "print(f'Train loss = {transformer_train_loss[-4]:.4f}')\n",
    "print(f'Validation loss = {transformer_valid_loss[-4]:.4f}')\n",
    "print(f'Validation accuracy = {transformer_valid_acc[-4]:.4f}')\n",
    "print(f'Test accuracy = {transformer_test_acc:.4f}')"
   ]
  },
  {
   "cell_type": "code",
   "execution_count": 27,
   "metadata": {},
   "outputs": [
    {
     "name": "stdout",
     "output_type": "stream",
     "text": [
      "GPT-2 Base diagnostic classifier after convergence:\n",
      "Train loss = 0.1552\n",
      "Validation loss = 0.3762\n",
      "Validation accuracy = 0.8920\n",
      "Test accuracy = 0.8907\n"
     ]
    }
   ],
   "source": [
    "print('GPT-2 Base diagnostic classifier after convergence:')\n",
    "print(f'Train loss = {gpt_base_train_loss[-4]:.4f}')\n",
    "print(f'Validation loss = {gpt_base_valid_loss[-4]:.4f}')\n",
    "print(f'Validation accuracy = {gpt_base_valid_acc[-4]:.4f}')\n",
    "print(f'Test accuracy = {gpt_base_test_acc:.4f}')"
   ]
  },
  {
   "cell_type": "code",
   "execution_count": 28,
   "metadata": {},
   "outputs": [
    {
     "name": "stdout",
     "output_type": "stream",
     "text": [
      "GPT-2 Medium diagnostic classifier after convergence:\n",
      "Train loss = 0.1494\n",
      "Validation loss = 0.3895\n",
      "Validation accuracy = 0.8841\n",
      "Test accuracy = 0.8844\n"
     ]
    }
   ],
   "source": [
    "print('GPT-2 Medium diagnostic classifier after convergence:')\n",
    "print(f'Train loss = {gpt_medium_train_loss[-4]:.4f}')\n",
    "print(f'Validation loss = {gpt_medium_valid_loss[-4]:.4f}')\n",
    "print(f'Validation accuracy = {gpt_medium_valid_acc[-4]:.4f}')\n",
    "print(f'Test accuracy = {gpt_medium_test_acc:.4f}')"
   ]
  },
  {
   "cell_type": "code",
   "execution_count": 29,
   "metadata": {},
   "outputs": [
    {
     "name": "stdout",
     "output_type": "stream",
     "text": [
      "LSTM diagnostic classifier after convergence:\n",
      "Train loss = 0.2012\n",
      "Validation loss = 0.4568\n",
      "Validation accuracy = 0.8650\n",
      "Test accuracy = 0.8663\n"
     ]
    }
   ],
   "source": [
    "print('LSTM diagnostic classifier after convergence:')\n",
    "print(f'Train loss = {lstm_train_loss[-4]:.4f}')\n",
    "print(f'Validation loss = {lstm_valid_loss[-4]:.4f}')\n",
    "print(f'Validation accuracy = {lstm_valid_acc[-4]:.4f}')\n",
    "print(f'Test accuracy = {lstm_test_acc:.4f}')"
   ]
  },
  {
   "cell_type": "code",
   "execution_count": 30,
   "metadata": {},
   "outputs": [
    {
     "data": {
      "image/png": "[encoded data removed]",
      "text/plain": [
       "<Figure size 432x288 with 1 Axes>"
      ]
     },
     "metadata": {
      "needs_background": "light"
     },
     "output_type": "display_data"
    }
   ],
   "source": [
    "import matplotlib.pyplot as plt\n",
    "\n",
    "lstm_x = list(range(1, (len(lstm_train_loss[:-4]) + 1)))\n",
    "lstm_y = lstm_train_loss[:-4]\n",
    "plt.plot(lstm_x, lstm_y, label = \"LSTM\")\n",
    "\n",
    "transformer_x = list(range(1, (len(transformer_train_loss[:-4]) + 1)))\n",
    "transformer_y = transformer_train_loss[:-4]\n",
    "plt.plot(transformer_x, transformer_y, label = \"DistilGPT-2\")\n",
    "\n",
    "gpt_base_x = list(range(1, (len(gpt_base_train_loss[:-4]) + 1)))\n",
    "gpt_base_y = gpt_base_train_loss[:-4]\n",
    "plt.plot(gpt_base_x, gpt_base_y, label = \"GPT-2 Base\")\n",
    "\n",
    "gpt_medium_x = list(range(1, (len(gpt_medium_train_loss[:-4]) + 1)))\n",
    "gpt_medium_y = gpt_medium_train_loss[:-4]\n",
    "plt.plot(gpt_medium_x, gpt_medium_y, label = \"GPT-2 Medium\")\n",
    "\n",
    "plt.xlabel('Epoch')\n",
    "plt.ylabel('Training loss')\n",
    "plt.title('Training loss of the diagnostic classifiers until convergence')\n",
    "plt.legend()\n",
    "plt.show()"
   ]
  },
  {
   "cell_type": "code",
   "execution_count": 31,
   "metadata": {},
   "outputs": [
    {
     "data": {
      "image/png": "[encoded data removed]",
      "text/plain": [
       "<Figure size 432x288 with 1 Axes>"
      ]
     },
     "metadata": {
      "needs_background": "light"
     },
     "output_type": "display_data"
    }
   ],
   "source": [
    "lstm_x = list(range(1, (len(lstm_valid_loss[:-4]) + 1)))\n",
    "lstm_y = lstm_valid_loss[:-4]\n",
    "plt.plot(lstm_x, lstm_y, label = \"LSTM\")\n",
    "\n",
    "transformer_x = list(range(1, (len(transformer_valid_loss[:-4]) + 1)))\n",
    "transformer_y = transformer_valid_loss[:-4]\n",
    "plt.plot(transformer_x, transformer_y, label = \"DistilGPT-2\")\n",
    "\n",
    "gpt_base_x = list(range(1, (len(gpt_base_valid_loss[:-4]) + 1)))\n",
    "gpt_base_y = gpt_base_valid_loss[:-4]\n",
    "plt.plot(gpt_base_x, gpt_base_y, label = \"GPT-2 Base\")\n",
    "\n",
    "gpt_medium_x = list(range(1, (len(gpt_medium_valid_loss[:-4]) + 1)))\n",
    "gpt_medium_y = gpt_medium_valid_loss[:-4]\n",
    "plt.plot(gpt_medium_x, gpt_medium_y, label = \"GPT-2 Medium\")\n",
    "\n",
    "plt.xlabel('Epoch')\n",
    "plt.ylabel('Validation loss')\n",
    "plt.title('Validation loss of the diagnostic classifiers until convergence')\n",
    "plt.legend()\n",
    "plt.show()"
   ]
  },
  {
   "cell_type": "code",
   "execution_count": 32,
   "metadata": {},
   "outputs": [
    {
     "data": {
      "image/png": "[encoded data removed]",
      "text/plain": [
       "<Figure size 432x288 with 1 Axes>"
      ]
     },
     "metadata": {
      "needs_background": "light"
     },
     "output_type": "display_data"
    }
   ],
   "source": [
    "lstm_x = list(range(1, (len(lstm_valid_acc[:-4]) + 1)))\n",
    "lstm_y = lstm_valid_acc[:-4]\n",
    "plt.plot(lstm_x, lstm_y, label = \"LSTM\")\n",
    "\n",
    "transformer_x = list(range(1, (len(transformer_valid_acc[:-4]) + 1)))\n",
    "transformer_y = transformer_valid_acc[:-4]\n",
    "plt.plot(transformer_x, transformer_y, label = \"DistilGPT-2\")\n",
    "\n",
    "gpt_base_x = list(range(1, (len(gpt_base_valid_acc[:-4]) + 1)))\n",
    "gpt_base_y = gpt_base_valid_acc[:-4]\n",
    "plt.plot(gpt_base_x, gpt_base_y, label = \"GPT-2 Base\")\n",
    "\n",
    "gpt_medium_x = list(range(1, (len(gpt_medium_valid_acc[:-4]) + 1)))\n",
    "gpt_medium_y = gpt_medium_valid_acc[:-4]\n",
    "plt.plot(gpt_medium_x, gpt_medium_y, label = \"GPT-2 Medium\")\n",
    "\n",
    "plt.xlabel('Epoch')\n",
    "plt.ylabel('Validation accuracy')\n",
    "plt.title('Validation accuracy of the diagnostic classifiers until convergence')\n",
    "plt.legend()\n",
    "plt.show()"
   ]
  },
  {
   "cell_type": "markdown",
   "metadata": {},
   "source": [
    "**Conclusion:**\n",
    "\n",
    "We see that the Diagnostic Classifier performs very well (>85% validation and test accuracy) on the representations of all models. This indicates that both the LSTM and Transformer encode linguistic features into their representations. However, we see that Transformer models performer slightly better than LSTM models. We also see that the Transformer models start with a better validation accuracy in their first epochs, this seems to indicate that it is easier for a Diagnostic Classifier to learn from these representations without a lot of training time.\n",
    "\n",
    "Interestingly, we see no correlation between model size and Diagnostic Classifier performance for the different Transformer models. This seems to indicate that there is no relation between model size and the extent to which Transformer models are able to capture linguistic features like POS-tags."
   ]
  },
  {
   "cell_type": "markdown",
   "metadata": {},
   "source": [
    "# Validating probing results with control tasks\n",
    "In this section we will examine the faithfulness of the probing results using control tasks. We do this by creating a control task that predicts (pos_tag, token) pairs. We then train a Diagnostic Classifier on the hidden states of the Transformer model and the LSTM model with this control task.\n",
    "\n",
    "We start by creating a control task. Then, we train our Diagnostic Classifier with this task on the encodings from the GPT-2 transformer and the encodings from the Gulordava LSTM model. Lastly, we compare this with the performance on the real task and calculate the selectivity."
   ]
  },
  {
   "cell_type": "markdown",
   "metadata": {},
   "source": [
    "First, we create a function that generates a new vocabulary that contains (pos_tag, token) pairs instead of a vocabulary that is solely based on the POS tag."
   ]
  },
  {
   "cell_type": "code",
   "execution_count": 11,
   "metadata": {},
   "outputs": [],
   "source": [
    "import random\n",
    "\n",
    "# function that fetches the control tags\n",
    "def fetch_control_tags(ud_parses: List[TokenList], pos_vocab_length, control_vocab=None) -> Tensor:\n",
    "    # check if the vocabulary is None\n",
    "    if control_vocab is None:\n",
    "        # create a new vocab\n",
    "        control_vocab = defaultdict()\n",
    "    \n",
    "    # create a list of tags from the input\n",
    "    all_tags = []\n",
    "    \n",
    "    # loop over the parsed sentences\n",
    "    for sentence in ud_parses:    \n",
    "        # loop over the words in the parsed sentence\n",
    "        for word in sentence:\n",
    "            # get the token of the word\n",
    "            token = word['form']\n",
    "            \n",
    "            # check if the token does not exist in the vocabulary\n",
    "            if token not in control_vocab:\n",
    "                # create a new entry, which is a random number in the range of the pos_vocab_length\n",
    "                control_vocab[token] = random.randrange(pos_vocab_length)\n",
    "            \n",
    "            # add tag to the tags list\n",
    "            all_tags.append(torch.tensor(control_vocab[token]))\n",
    "    \n",
    "    # stack the tags into a tensor\n",
    "    all_tags = torch.stack(all_tags, dim=0)\n",
    "    \n",
    "    # return the tags and vocabulary\n",
    "    return all_tags, control_vocab"
   ]
  },
  {
   "cell_type": "markdown",
   "metadata": {},
   "source": [
    "Secondly, we create a new version of our data creation function."
   ]
  },
  {
   "cell_type": "code",
   "execution_count": 12,
   "metadata": {},
   "outputs": [],
   "source": [
    "# function that creates the control data\n",
    "def create_control_data(filename: str, lm, w2i, pos_vocab_length, pos_vocab=None, cut_off=None):\n",
    "    ud_parses = parse_corpus(filename)\n",
    "    if cut_off is not None:\n",
    "        ud_parses = ud_parses[:cut_off]\n",
    "    \n",
    "    sen_reps = fetch_sen_reps(ud_parses, lm, w2i)\n",
    "    pos_tags, pos_vocab = fetch_control_tags(ud_parses, pos_vocab_length, control_vocab=pos_vocab)\n",
    "    \n",
    "    return sen_reps, pos_tags, pos_vocab"
   ]
  },
  {
   "cell_type": "code",
   "execution_count": 13,
   "metadata": {},
   "outputs": [],
   "source": [
    "# function to get the correct control data for each of the models\n",
    "def create_pos_control_data(pos_vocab_length, model_used='Transformer'):\n",
    "    # check which model to use\n",
    "    if (model_used == 'Transformer'):\n",
    "        lm = transformer_model\n",
    "        w2i = transformer_tokenizer\n",
    "    elif (model_used == 'GPT2_Base'):\n",
    "        lm = gpt_base_model\n",
    "        w2i = gpt_base_tokenizer\n",
    "    elif (model_used == 'GPT2_Medium'):\n",
    "        lm = gpt_medium_model\n",
    "        w2i = gpt_medium_tokenizer\n",
    "    else:\n",
    "        lm = lstm\n",
    "        w2i = vocab\n",
    "    use_sample = False\n",
    "\n",
    "    train_x, train_y, train_vocab = create_control_data(\n",
    "        os.path.join('data', 'sample' if use_sample else '', 'en_ewt-ud-train.conllu'),\n",
    "        lm, \n",
    "        w2i,\n",
    "        pos_vocab_length,\n",
    "        cut_off=30000\n",
    "    )\n",
    "\n",
    "    dev_x, dev_y, _ = create_control_data(\n",
    "        os.path.join('data', 'sample' if use_sample else '', 'en_ewt-ud-dev.conllu'),\n",
    "        lm, \n",
    "        w2i,\n",
    "        pos_vocab_length,\n",
    "        pos_vocab=train_vocab\n",
    "    )\n",
    "\n",
    "    test_x, test_y, _ = create_control_data(\n",
    "        os.path.join('data', 'sample' if use_sample else '', 'en_ewt-ud-test.conllu'),\n",
    "        lm,\n",
    "        w2i,\n",
    "        pos_vocab_length,\n",
    "        pos_vocab=train_vocab\n",
    "    )\n",
    "    \n",
    "    # return the data\n",
    "    return train_x, train_y, dev_x, dev_y, test_x, test_y"
   ]
  },
  {
   "cell_type": "code",
   "execution_count": 14,
   "metadata": {},
   "outputs": [],
   "source": [
    "from sklearn.metrics import accuracy_score\n",
    "import json\n",
    "\n",
    "# function that trains the DC on the control task and returns the metrics\n",
    "def train_test_control_dc(vocab_length, model_used='Transformer', batch_size=24, max_epochs=2, save_results=True):\n",
    "    # get the data for the model\n",
    "    print('Loading data..')\n",
    "    train_x, train_y, dev_x, dev_y, test_x, test_y = create_pos_control_data(vocab_length, model_used)\n",
    "    print('Data loaded')\n",
    "    \n",
    "    # combine train and validation datasets\n",
    "    x_train = torch.cat((train_x, dev_x), dim=0)\n",
    "    y_train = torch.cat((train_y, dev_y), dim=0)\n",
    "    \n",
    "    # train the diagnostic classifier\n",
    "    print('Starting training..')\n",
    "    trained_dc = train_dc(DiagnosticClassifier, train_x[:30000].cpu(), \n",
    "                          train_y[:30000].cpu(), dev_x.cpu(), dev_y.cpu(), \n",
    "                          device, batch_size=batch_size, max_epochs=max_epochs)\n",
    "    print('Training finished')\n",
    "    \n",
    "    # get the DC data\n",
    "    train_loss = trained_dc.history[:, 'train_loss']\n",
    "    valid_loss = trained_dc.history[:, 'valid_loss']\n",
    "    valid_acc = trained_dc.history[:, 'valid_acc']\n",
    "    \n",
    "    # run the test data through the model\n",
    "    test_preds = trained_dc.predict(test_x.cpu())\n",
    "    test_acc = accuracy_score(test_y.cpu(), test_preds)\n",
    "    \n",
    "    if save_results:\n",
    "        # save the results\n",
    "        print('Saving results..')\n",
    "        data = {}\n",
    "        data['train_loss'] = train_loss\n",
    "        data['valid_loss'] = valid_loss\n",
    "        data['valid_acc'] = valid_acc\n",
    "        data['test_acc'] = test_acc\n",
    "        with open('model_results/' + model_used.lower() + '_control_dc.txt', 'w') as outfile:\n",
    "            json.dump(data, outfile)\n",
    "        print('Results saved')\n",
    "    \n",
    "    # return the measures \n",
    "    return train_loss, valid_loss, valid_acc, test_acc, vocab_length"
   ]
  },
  {
   "cell_type": "markdown",
   "metadata": {},
   "source": [
    "Now we can evaluate our Diagnostic Classifier on the new control task."
   ]
  },
  {
   "cell_type": "code",
   "execution_count": 15,
   "metadata": {},
   "outputs": [
    {
     "name": "stdout",
     "output_type": "stream",
     "text": [
      "Loading data..\n",
      "Data loaded\n",
      "Starting training..\n",
      "  epoch    train_loss    valid_acc    valid_loss      dur\n",
      "-------  ------------  -----------  ------------  -------\n",
      "      1        \u001b[36m2.5778\u001b[0m       \u001b[32m0.3692\u001b[0m        \u001b[35m2.1261\u001b[0m  11.4270\n",
      "      2        \u001b[36m1.8202\u001b[0m       \u001b[32m0.4190\u001b[0m        \u001b[35m1.9814\u001b[0m  11.3750\n",
      "      3        \u001b[36m1.6780\u001b[0m       \u001b[32m0.4500\u001b[0m        \u001b[35m1.9079\u001b[0m  11.3290\n",
      "      4        \u001b[36m1.5919\u001b[0m       \u001b[32m0.4631\u001b[0m        \u001b[35m1.8557\u001b[0m  11.3414\n",
      "      5        \u001b[36m1.5347\u001b[0m       \u001b[32m0.4757\u001b[0m        \u001b[35m1.8146\u001b[0m  11.3240\n",
      "      6        \u001b[36m1.4898\u001b[0m       \u001b[32m0.4765\u001b[0m        \u001b[35m1.8131\u001b[0m  11.3110\n",
      "      7        \u001b[36m1.4579\u001b[0m       \u001b[32m0.4919\u001b[0m        \u001b[35m1.7941\u001b[0m  11.3300\n",
      "      8        \u001b[36m1.4310\u001b[0m       0.4901        \u001b[35m1.7920\u001b[0m  11.2817\n",
      "      9        \u001b[36m1.4079\u001b[0m       \u001b[32m0.4927\u001b[0m        \u001b[35m1.7802\u001b[0m  11.3050\n",
      "     10        \u001b[36m1.3890\u001b[0m       0.4925        1.7889  11.3077\n",
      "     11        \u001b[36m1.3729\u001b[0m       \u001b[32m0.4952\u001b[0m        1.7915  11.3180\n",
      "Stopping since valid_loss has not improved in the last 3 epochs.\n",
      "Training finished\n",
      "Saving results..\n",
      "Results saved\n"
     ]
    }
   ],
   "source": [
    "# train the transformer model\n",
    "(transformer_control_train_loss, \n",
    " transformer_control_valid_loss, \n",
    " transformer_control_valid_acc, \n",
    " transformer_control_test_acc, \n",
    " transformer_control_vocab_length) = train_test_control_dc(transformer_vocab_length, \n",
    "                                                           model_used='Transformer', \n",
    "                                                           batch_size=24, \n",
    "                                                           max_epochs=200)"
   ]
  },
  {
   "cell_type": "code",
   "execution_count": 20,
   "metadata": {},
   "outputs": [],
   "source": [
    "#import json\n",
    "\n",
    "# or load the results from an earlier run\n",
    "#with open('model_results/transformer_control_dc.txt') as json_file:\n",
    "    #data = json.load(json_file)\n",
    "    #transformer_control_train_loss = data['train_loss']\n",
    "    #transformer_control_valid_loss = data['valid_loss']\n",
    "    #transformer_control_valid_acc = data['valid_acc']\n",
    "    #transformer_control_test_acc = data['test_acc']"
   ]
  },
  {
   "cell_type": "code",
   "execution_count": 16,
   "metadata": {},
   "outputs": [
    {
     "name": "stdout",
     "output_type": "stream",
     "text": [
      "Loading data..\n",
      "Data loaded\n",
      "Starting training..\n",
      "  epoch    train_loss    valid_acc    valid_loss      dur\n",
      "-------  ------------  -----------  ------------  -------\n",
      "      1        \u001b[36m6.3138\u001b[0m       \u001b[32m0.3063\u001b[0m        \u001b[35m4.3811\u001b[0m  10.2904\n",
      "      2        \u001b[36m2.9698\u001b[0m       \u001b[32m0.3489\u001b[0m        \u001b[35m3.0040\u001b[0m  10.0020\n",
      "      3        \u001b[36m2.3035\u001b[0m       \u001b[32m0.3773\u001b[0m        \u001b[35m2.4961\u001b[0m  10.0040\n",
      "      4        \u001b[36m2.0216\u001b[0m       \u001b[32m0.4005\u001b[0m        \u001b[35m2.2409\u001b[0m  9.9920\n",
      "      5        \u001b[36m1.8670\u001b[0m       \u001b[32m0.4197\u001b[0m        \u001b[35m2.0905\u001b[0m  10.0010\n",
      "      6        \u001b[36m1.7689\u001b[0m       \u001b[32m0.4352\u001b[0m        \u001b[35m1.9994\u001b[0m  10.0083\n",
      "      7        \u001b[36m1.7008\u001b[0m       \u001b[32m0.4456\u001b[0m        \u001b[35m1.9388\u001b[0m  10.0020\n",
      "      8        \u001b[36m1.6504\u001b[0m       \u001b[32m0.4552\u001b[0m        \u001b[35m1.8956\u001b[0m  9.9870\n",
      "      9        \u001b[36m1.6115\u001b[0m       \u001b[32m0.4633\u001b[0m        \u001b[35m1.8654\u001b[0m  10.0580\n",
      "     10        \u001b[36m1.5803\u001b[0m       \u001b[32m0.4698\u001b[0m        \u001b[35m1.8449\u001b[0m  9.9910\n",
      "     11        \u001b[36m1.5544\u001b[0m       \u001b[32m0.4732\u001b[0m        \u001b[35m1.8265\u001b[0m  10.0000\n",
      "     12        \u001b[36m1.5324\u001b[0m       \u001b[32m0.4777\u001b[0m        \u001b[35m1.8120\u001b[0m  9.9950\n",
      "     13        \u001b[36m1.5132\u001b[0m       \u001b[32m0.4812\u001b[0m        \u001b[35m1.8039\u001b[0m  10.0140\n",
      "     14        \u001b[36m1.4967\u001b[0m       \u001b[32m0.4831\u001b[0m        \u001b[35m1.7920\u001b[0m  9.9910\n",
      "     15        \u001b[36m1.4819\u001b[0m       \u001b[32m0.4854\u001b[0m        \u001b[35m1.7850\u001b[0m  9.9920\n",
      "     16        \u001b[36m1.4685\u001b[0m       \u001b[32m0.4896\u001b[0m        \u001b[35m1.7778\u001b[0m  9.9920\n",
      "     17        \u001b[36m1.4566\u001b[0m       \u001b[32m0.4909\u001b[0m        \u001b[35m1.7735\u001b[0m  10.0020\n",
      "     18        \u001b[36m1.4456\u001b[0m       \u001b[32m0.4921\u001b[0m        \u001b[35m1.7683\u001b[0m  10.0860\n",
      "     19        \u001b[36m1.4357\u001b[0m       \u001b[32m0.4953\u001b[0m        \u001b[35m1.7647\u001b[0m  10.0700\n",
      "     20        \u001b[36m1.4265\u001b[0m       \u001b[32m0.4962\u001b[0m        \u001b[35m1.7635\u001b[0m  10.0120\n",
      "     21        \u001b[36m1.4181\u001b[0m       \u001b[32m0.4990\u001b[0m        \u001b[35m1.7590\u001b[0m  9.9950\n",
      "     22        \u001b[36m1.4104\u001b[0m       \u001b[32m0.4997\u001b[0m        \u001b[35m1.7567\u001b[0m  9.9960\n",
      "     23        \u001b[36m1.4031\u001b[0m       \u001b[32m0.5003\u001b[0m        \u001b[35m1.7548\u001b[0m  10.0110\n",
      "     24        \u001b[36m1.3964\u001b[0m       0.5002        1.7568  9.9830\n",
      "     25        \u001b[36m1.3902\u001b[0m       \u001b[32m0.5008\u001b[0m        \u001b[35m1.7528\u001b[0m  9.9910\n",
      "     26        \u001b[36m1.3844\u001b[0m       \u001b[32m0.5028\u001b[0m        \u001b[35m1.7526\u001b[0m  9.9870\n",
      "     27        \u001b[36m1.3788\u001b[0m       \u001b[32m0.5030\u001b[0m        1.7527  9.9860\n",
      "     28        \u001b[36m1.3737\u001b[0m       \u001b[32m0.5041\u001b[0m        \u001b[35m1.7519\u001b[0m  9.9930\n",
      "     29        \u001b[36m1.3689\u001b[0m       \u001b[32m0.5052\u001b[0m        \u001b[35m1.7494\u001b[0m  10.0260\n",
      "     30        \u001b[36m1.3643\u001b[0m       \u001b[32m0.5065\u001b[0m        1.7505  9.9910\n",
      "     31        \u001b[36m1.3601\u001b[0m       \u001b[32m0.5068\u001b[0m        1.7498  9.9840\n",
      "Stopping since valid_loss has not improved in the last 3 epochs.\n",
      "Training finished\n",
      "Saving results..\n",
      "Results saved\n"
     ]
    }
   ],
   "source": [
    "# train the GPT-2 Base model\n",
    "(gpt_base_control_train_loss, \n",
    " gpt_base_control_valid_loss, \n",
    " gpt_base_control_valid_acc, \n",
    " gpt_base_control_test_acc, \n",
    " gpt_base_control_vocab_length) = train_test_control_dc(gpt_base_vocab_length, \n",
    "                                                        model_used='GPT_Base', \n",
    "                                                        batch_size=24, \n",
    "                                                        max_epochs=200)"
   ]
  },
  {
   "cell_type": "code",
   "execution_count": 21,
   "metadata": {},
   "outputs": [],
   "source": [
    "#import json\n",
    "\n",
    "# or load the results from an earlier run\n",
    "#with open('model_results/gpt_base_control_dc.txt') as json_file:\n",
    "    #data = json.load(json_file)\n",
    "    #gpt_base_control_train_loss = data['train_loss']\n",
    "    #gpt_base_control_valid_loss = data['valid_loss']\n",
    "    #gpt_base_control_valid_acc = data['valid_acc']\n",
    "    #gpt_base_control_test_acc = data['test_acc']"
   ]
  },
  {
   "cell_type": "code",
   "execution_count": 16,
   "metadata": {},
   "outputs": [
    {
     "name": "stdout",
     "output_type": "stream",
     "text": [
      "Loading data..\n",
      "Data loaded\n",
      "Starting training..\n",
      "  epoch    train_loss    valid_acc    valid_loss      dur\n",
      "-------  ------------  -----------  ------------  -------\n",
      "      1        \u001b[36m6.3239\u001b[0m       \u001b[32m0.3206\u001b[0m        \u001b[35m4.3743\u001b[0m  10.3787\n",
      "      2        \u001b[36m2.9698\u001b[0m       \u001b[32m0.3522\u001b[0m        \u001b[35m2.9932\u001b[0m  9.9750\n",
      "      3        \u001b[36m2.3055\u001b[0m       \u001b[32m0.3825\u001b[0m        \u001b[35m2.4866\u001b[0m  10.0670\n",
      "      4        \u001b[36m2.0260\u001b[0m       \u001b[32m0.4044\u001b[0m        \u001b[35m2.2378\u001b[0m  10.0480\n",
      "      5        \u001b[36m1.8735\u001b[0m       \u001b[32m0.4216\u001b[0m        \u001b[35m2.0926\u001b[0m  10.0050\n",
      "      6        \u001b[36m1.7769\u001b[0m       \u001b[32m0.4352\u001b[0m        \u001b[35m2.0026\u001b[0m  10.0120\n",
      "      7        \u001b[36m1.7096\u001b[0m       \u001b[32m0.4474\u001b[0m        \u001b[35m1.9407\u001b[0m  9.9950\n",
      "      8        \u001b[36m1.6600\u001b[0m       \u001b[32m0.4541\u001b[0m        \u001b[35m1.9011\u001b[0m  9.9980\n",
      "      9        \u001b[36m1.6218\u001b[0m       \u001b[32m0.4623\u001b[0m        \u001b[35m1.8704\u001b[0m  9.9890\n",
      "     10        \u001b[36m1.5911\u001b[0m       \u001b[32m0.4693\u001b[0m        \u001b[35m1.8490\u001b[0m  9.9800\n",
      "     11        \u001b[36m1.5658\u001b[0m       \u001b[32m0.4746\u001b[0m        \u001b[35m1.8315\u001b[0m  10.0450\n",
      "     12        \u001b[36m1.5441\u001b[0m       \u001b[32m0.4798\u001b[0m        \u001b[35m1.8148\u001b[0m  10.0050\n",
      "     13        \u001b[36m1.5256\u001b[0m       \u001b[32m0.4840\u001b[0m        \u001b[35m1.8072\u001b[0m  10.0080\n",
      "     14        \u001b[36m1.5090\u001b[0m       \u001b[32m0.4863\u001b[0m        \u001b[35m1.7985\u001b[0m  9.9850\n",
      "     15        \u001b[36m1.4946\u001b[0m       \u001b[32m0.4881\u001b[0m        \u001b[35m1.7918\u001b[0m  9.9925\n",
      "     16        \u001b[36m1.4814\u001b[0m       \u001b[32m0.4897\u001b[0m        \u001b[35m1.7898\u001b[0m  10.0570\n",
      "     17        \u001b[36m1.4696\u001b[0m       \u001b[32m0.4915\u001b[0m        \u001b[35m1.7843\u001b[0m  9.9830\n",
      "     18        \u001b[36m1.4588\u001b[0m       \u001b[32m0.4926\u001b[0m        \u001b[35m1.7789\u001b[0m  9.9950\n",
      "     19        \u001b[36m1.4490\u001b[0m       \u001b[32m0.4939\u001b[0m        \u001b[35m1.7737\u001b[0m  9.9840\n",
      "     20        \u001b[36m1.4400\u001b[0m       \u001b[32m0.4953\u001b[0m        \u001b[35m1.7729\u001b[0m  9.9920\n",
      "     21        \u001b[36m1.4317\u001b[0m       \u001b[32m0.4956\u001b[0m        \u001b[35m1.7709\u001b[0m  10.0570\n",
      "     22        \u001b[36m1.4240\u001b[0m       \u001b[32m0.4971\u001b[0m        \u001b[35m1.7673\u001b[0m  10.0064\n",
      "     23        \u001b[36m1.4168\u001b[0m       \u001b[32m0.4980\u001b[0m        \u001b[35m1.7665\u001b[0m  10.0040\n",
      "     24        \u001b[36m1.4102\u001b[0m       \u001b[32m0.4985\u001b[0m        1.7668  10.0130\n",
      "     25        \u001b[36m1.4040\u001b[0m       \u001b[32m0.5003\u001b[0m        \u001b[35m1.7660\u001b[0m  9.9910\n",
      "     26        \u001b[36m1.3981\u001b[0m       \u001b[32m0.5010\u001b[0m        \u001b[35m1.7633\u001b[0m  10.0520\n",
      "     27        \u001b[36m1.3926\u001b[0m       \u001b[32m0.5022\u001b[0m        \u001b[35m1.7627\u001b[0m  10.0000\n",
      "     28        \u001b[36m1.3876\u001b[0m       \u001b[32m0.5027\u001b[0m        1.7629  10.1620\n",
      "     29        \u001b[36m1.3827\u001b[0m       \u001b[32m0.5036\u001b[0m        \u001b[35m1.7627\u001b[0m  10.0040\n",
      "Stopping since valid_loss has not improved in the last 3 epochs.\n",
      "Training finished\n",
      "Saving results..\n",
      "Results saved\n"
     ]
    }
   ],
   "source": [
    "# train the GPT-2 Medium model\n",
    "(gpt_medium_control_train_loss, \n",
    " gpt_medium_control_valid_loss, \n",
    " gpt_medium_control_valid_acc, \n",
    " gpt_medium_control_test_acc, \n",
    " gpt_medium_control_vocab_length) = train_test_control_dc(gpt_medium_vocab_length, \n",
    "                                                          model_used='GPT_Medium', \n",
    "                                                          batch_size=24, \n",
    "                                                          max_epochs=200)"
   ]
  },
  {
   "cell_type": "code",
   "execution_count": 22,
   "metadata": {},
   "outputs": [],
   "source": [
    "#import json\n",
    "\n",
    "# or load the results from an earlier run\n",
    "#with open('model_results/gpt_medium_control_dc.txt') as json_file:\n",
    "    #data = json.load(json_file)\n",
    "    #gpt_medium_control_train_loss = data['train_loss']\n",
    "    #gpt_medium_control_valid_loss = data['valid_loss']\n",
    "    #gpt_medium_control_valid_acc = data['valid_acc']\n",
    "    #gpt_medium_control_test_acc = data['test_acc']"
   ]
  },
  {
   "cell_type": "code",
   "execution_count": 15,
   "metadata": {},
   "outputs": [
    {
     "name": "stdout",
     "output_type": "stream",
     "text": [
      "Loading data..\n",
      "Data loaded\n",
      "Starting training..\n",
      "  epoch    train_loss    valid_acc    valid_loss      dur\n",
      "-------  ------------  -----------  ------------  -------\n",
      "      1        \u001b[36m6.3397\u001b[0m       \u001b[32m0.3214\u001b[0m        \u001b[35m4.4066\u001b[0m  10.3022\n",
      "      2        \u001b[36m3.0023\u001b[0m       \u001b[32m0.3666\u001b[0m        \u001b[35m3.0197\u001b[0m  10.0750\n",
      "      3        \u001b[36m2.3236\u001b[0m       \u001b[32m0.3914\u001b[0m        \u001b[35m2.4980\u001b[0m  9.9910\n",
      "      4        \u001b[36m2.0378\u001b[0m       \u001b[32m0.4073\u001b[0m        \u001b[35m2.2411\u001b[0m  10.0170\n",
      "      5        \u001b[36m1.8817\u001b[0m       \u001b[32m0.4242\u001b[0m        \u001b[35m2.0914\u001b[0m  9.9970\n",
      "      6        \u001b[36m1.7826\u001b[0m       \u001b[32m0.4391\u001b[0m        \u001b[35m1.9986\u001b[0m  9.9780\n",
      "      7        \u001b[36m1.7136\u001b[0m       \u001b[32m0.4493\u001b[0m        \u001b[35m1.9385\u001b[0m  9.9982\n",
      "      8        \u001b[36m1.6626\u001b[0m       \u001b[32m0.4589\u001b[0m        \u001b[35m1.8978\u001b[0m  9.9960\n",
      "      9        \u001b[36m1.6232\u001b[0m       \u001b[32m0.4682\u001b[0m        \u001b[35m1.8658\u001b[0m  10.0050\n",
      "     10        \u001b[36m1.5915\u001b[0m       \u001b[32m0.4731\u001b[0m        \u001b[35m1.8418\u001b[0m  9.9850\n",
      "     11        \u001b[36m1.5654\u001b[0m       \u001b[32m0.4784\u001b[0m        \u001b[35m1.8249\u001b[0m  9.9890\n",
      "     12        \u001b[36m1.5431\u001b[0m       \u001b[32m0.4827\u001b[0m        \u001b[35m1.8130\u001b[0m  10.0520\n",
      "     13        \u001b[36m1.5238\u001b[0m       \u001b[32m0.4876\u001b[0m        \u001b[35m1.8028\u001b[0m  10.0020\n",
      "     14        \u001b[36m1.5069\u001b[0m       \u001b[32m0.4906\u001b[0m        \u001b[35m1.7902\u001b[0m  9.9890\n",
      "     15        \u001b[36m1.4918\u001b[0m       \u001b[32m0.4921\u001b[0m        \u001b[35m1.7827\u001b[0m  9.9940\n",
      "     16        \u001b[36m1.4784\u001b[0m       \u001b[32m0.4954\u001b[0m        \u001b[35m1.7781\u001b[0m  10.0010\n",
      "     17        \u001b[36m1.4662\u001b[0m       \u001b[32m0.4984\u001b[0m        \u001b[35m1.7729\u001b[0m  10.0420\n",
      "     18        \u001b[36m1.4551\u001b[0m       \u001b[32m0.4992\u001b[0m        \u001b[35m1.7674\u001b[0m  9.9960\n",
      "     19        \u001b[36m1.4450\u001b[0m       \u001b[32m0.5016\u001b[0m        \u001b[35m1.7661\u001b[0m  10.0060\n",
      "     20        \u001b[36m1.4358\u001b[0m       \u001b[32m0.5031\u001b[0m        \u001b[35m1.7601\u001b[0m  9.9910\n",
      "     21        \u001b[36m1.4273\u001b[0m       0.5026        \u001b[35m1.7595\u001b[0m  10.0030\n",
      "     22        \u001b[36m1.4193\u001b[0m       \u001b[32m0.5062\u001b[0m        \u001b[35m1.7571\u001b[0m  10.0670\n",
      "     23        \u001b[36m1.4122\u001b[0m       \u001b[32m0.5069\u001b[0m        \u001b[35m1.7548\u001b[0m  10.0030\n",
      "     24        \u001b[36m1.4052\u001b[0m       0.5067        \u001b[35m1.7519\u001b[0m  9.9760\n",
      "     25        \u001b[36m1.3991\u001b[0m       \u001b[32m0.5084\u001b[0m        1.7524  10.0020\n",
      "     26        \u001b[36m1.3931\u001b[0m       \u001b[32m0.5094\u001b[0m        1.7524  10.0080\n",
      "     27        \u001b[36m1.3876\u001b[0m       0.5091        \u001b[35m1.7503\u001b[0m  10.0080\n",
      "     28        \u001b[36m1.3824\u001b[0m       \u001b[32m0.5106\u001b[0m        \u001b[35m1.7500\u001b[0m  10.0080\n",
      "     29        \u001b[36m1.3775\u001b[0m       \u001b[32m0.5107\u001b[0m        1.7504  9.9990\n",
      "     30        \u001b[36m1.3730\u001b[0m       \u001b[32m0.5122\u001b[0m        \u001b[35m1.7479\u001b[0m  9.9900\n",
      "     31        \u001b[36m1.3685\u001b[0m       0.5120        1.7482  9.9950\n",
      "     32        \u001b[36m1.3644\u001b[0m       0.5121        1.7506  10.0660\n",
      "Stopping since valid_loss has not improved in the last 3 epochs.\n",
      "Training finished\n",
      "Saving results..\n",
      "Results saved\n"
     ]
    }
   ],
   "source": [
    "# train the LSTM model\n",
    "(lstm_control_train_loss, \n",
    " lstm_control_valid_loss, \n",
    " lstm_control_valid_acc, \n",
    " lstm_control_test_acc, \n",
    " lstm_control_vocab_length) = train_test_control_dc(lstm_vocab_length, \n",
    "                                                    model_used='LSTM', \n",
    "                                                    batch_size=24, \n",
    "                                                    max_epochs=200)"
   ]
  },
  {
   "cell_type": "code",
   "execution_count": null,
   "metadata": {},
   "outputs": [],
   "source": [
    "#import json\n",
    "\n",
    "# or load the results from an earlier run\n",
    "#with open('model_results/lstm_control_dc.txt') as json_file:\n",
    "    #data = json.load(json_file)\n",
    "    #lstm_control_train_loss = data['train_loss']\n",
    "    #lstm_control_valid_loss = data['valid_loss']\n",
    "    #lstm_control_valid_acc = data['valid_acc']\n",
    "    #lstm_control_test_acc = data['test_acc']"
   ]
  },
  {
   "cell_type": "markdown",
   "metadata": {},
   "source": [
    "Now we can compare the results of the four different diagnostic classifiers on the control task."
   ]
  },
  {
   "cell_type": "code",
   "execution_count": 23,
   "metadata": {},
   "outputs": [
    {
     "name": "stdout",
     "output_type": "stream",
     "text": [
      "DistilGPT-2 diagnostic classifier on control task after convergence:\n",
      "Train loss = 1.4079\n",
      "Validation loss = 1.7802\n",
      "Validation accuracy = 0.4927\n",
      "Test accuracy = 0.4898\n"
     ]
    }
   ],
   "source": [
    "print('DistilGPT-2 diagnostic classifier on control task after convergence:')\n",
    "print(f'Train loss = {transformer_control_train_loss[-4]:.4f}')\n",
    "print(f'Validation loss = {transformer_control_valid_loss[-4]:.4f}')\n",
    "print(f'Validation accuracy = {transformer_control_valid_acc[-4]:.4f}')\n",
    "print(f'Test accuracy = {transformer_control_test_acc:.4f}')"
   ]
  },
  {
   "cell_type": "code",
   "execution_count": 24,
   "metadata": {},
   "outputs": [
    {
     "name": "stdout",
     "output_type": "stream",
     "text": [
      "GPT-2 Base diagnostic classifier on control task after convergence:\n",
      "Train loss = 1.3689\n",
      "Validation loss = 1.7494\n",
      "Validation accuracy = 0.5052\n",
      "Test accuracy = 0.5045\n"
     ]
    }
   ],
   "source": [
    "print('GPT-2 Base diagnostic classifier on control task after convergence:')\n",
    "print(f'Train loss = {gpt_base_control_train_loss[-4]:.4f}')\n",
    "print(f'Validation loss = {gpt_base_control_valid_loss[-4]:.4f}')\n",
    "print(f'Validation accuracy = {gpt_base_control_valid_acc[-4]:.4f}')\n",
    "print(f'Test accuracy = {gpt_base_control_test_acc:.4f}')"
   ]
  },
  {
   "cell_type": "code",
   "execution_count": 25,
   "metadata": {},
   "outputs": [
    {
     "name": "stdout",
     "output_type": "stream",
     "text": [
      "GPT-2 Medium diagnostic classifier on control task after convergence:\n",
      "Train loss = 1.3926\n",
      "Validation loss = 1.7627\n",
      "Validation accuracy = 0.5022\n",
      "Test accuracy = 0.4961\n"
     ]
    }
   ],
   "source": [
    "print('GPT-2 Medium diagnostic classifier on control task after convergence:')\n",
    "print(f'Train loss = {gpt_medium_control_train_loss[-4]:.4f}')\n",
    "print(f'Validation loss = {gpt_medium_control_valid_loss[-4]:.4f}')\n",
    "print(f'Validation accuracy = {gpt_medium_control_valid_acc[-4]:.4f}')\n",
    "print(f'Test accuracy = {gpt_medium_control_test_acc:.4f}')"
   ]
  },
  {
   "cell_type": "code",
   "execution_count": 26,
   "metadata": {},
   "outputs": [
    {
     "name": "stdout",
     "output_type": "stream",
     "text": [
      "LSTM diagnostic classifier on control task after convergence:\n",
      "Train loss = 1.3730\n",
      "Validation loss = 1.7479\n",
      "Validation accuracy = 0.5122\n",
      "Test accuracy = 0.5038\n"
     ]
    }
   ],
   "source": [
    "print('LSTM diagnostic classifier on control task after convergence:')\n",
    "print(f'Train loss = {lstm_control_train_loss[-4]:.4f}')\n",
    "print(f'Validation loss = {lstm_control_valid_loss[-4]:.4f}')\n",
    "print(f'Validation accuracy = {lstm_control_valid_acc[-4]:.4f}')\n",
    "print(f'Test accuracy = {lstm_control_test_acc:.4f}')"
   ]
  },
  {
   "cell_type": "code",
   "execution_count": 27,
   "metadata": {},
   "outputs": [
    {
     "data": {
      "image/png": "[encoded data removed]",
      "text/plain": [
       "<Figure size 432x288 with 1 Axes>"
      ]
     },
     "metadata": {
      "needs_background": "light"
     },
     "output_type": "display_data"
    }
   ],
   "source": [
    "import matplotlib.pyplot as plt\n",
    "\n",
    "lstm_x = list(range(1, (len(lstm_control_train_loss[:-4]) + 1)))\n",
    "lstm_y = lstm_control_train_loss[:-4]\n",
    "plt.plot(lstm_x, lstm_y, label = \"LSTM\")\n",
    "\n",
    "transformer_x = list(range(1, (len(transformer_control_train_loss[:-4]) + 1)))\n",
    "transformer_y = transformer_control_train_loss[:-4]\n",
    "plt.plot(transformer_x, transformer_y, label = \"DistilGPT-2\")\n",
    "\n",
    "gpt_base_x = list(range(1, (len(gpt_base_control_train_loss[:-4]) + 1)))\n",
    "gpt_base_y = gpt_base_control_train_loss[:-4]\n",
    "plt.plot(gpt_base_x, gpt_base_y, label = \"GPT-2 Base\")\n",
    "\n",
    "gpt_medium_x = list(range(1, (len(gpt_medium_control_train_loss[:-4]) + 1)))\n",
    "gpt_medium_y = gpt_medium_control_train_loss[:-4]\n",
    "plt.plot(gpt_medium_x, gpt_medium_y, label = \"GPT-2 Medium\")\n",
    "\n",
    "plt.xlabel('Epoch')\n",
    "plt.ylabel('Training loss')\n",
    "plt.title('Training loss of the diagnostic classifiers on control task until convergence')\n",
    "plt.legend()\n",
    "plt.show()"
   ]
  },
  {
   "cell_type": "code",
   "execution_count": 28,
   "metadata": {},
   "outputs": [
    {
     "data": {
      "image/png": "[encoded data removed]",
      "text/plain": [
       "<Figure size 432x288 with 1 Axes>"
      ]
     },
     "metadata": {
      "needs_background": "light"
     },
     "output_type": "display_data"
    }
   ],
   "source": [
    "lstm_x = list(range(1, (len(lstm_control_valid_loss[:-4]) + 1)))\n",
    "lstm_y = lstm_control_valid_loss[:-4]\n",
    "plt.plot(lstm_x, lstm_y, label = \"LSTM\")\n",
    "\n",
    "transformer_x = list(range(1, (len(transformer_control_valid_loss[:-4]) + 1)))\n",
    "transformer_y = transformer_control_valid_loss[:-4]\n",
    "plt.plot(transformer_x, transformer_y, label = \"DistilGPT-2\")\n",
    "\n",
    "gpt_base_x = list(range(1, (len(gpt_base_control_valid_loss[:-4]) + 1)))\n",
    "gpt_base_y = gpt_base_control_valid_loss[:-4]\n",
    "plt.plot(gpt_base_x, gpt_base_y, label = \"GPT-2 Base\")\n",
    "\n",
    "gpt_medium_x = list(range(1, (len(gpt_medium_control_valid_loss[:-4]) + 1)))\n",
    "gpt_medium_y = gpt_medium_control_valid_loss[:-4]\n",
    "plt.plot(gpt_medium_x, gpt_medium_y, label = \"GPT-2 Medium\")\n",
    "\n",
    "plt.xlabel('Epoch')\n",
    "plt.ylabel('Validation loss')\n",
    "plt.title('Validation loss of the diagnostic classifiers on control task until convergence')\n",
    "plt.legend()\n",
    "plt.show()"
   ]
  },
  {
   "cell_type": "code",
   "execution_count": 29,
   "metadata": {},
   "outputs": [
    {
     "data": {
      "image/png": "[encoded data removed]",
      "text/plain": [
       "<Figure size 432x288 with 1 Axes>"
      ]
     },
     "metadata": {
      "needs_background": "light"
     },
     "output_type": "display_data"
    }
   ],
   "source": [
    "lstm_x = list(range(1, (len(lstm_control_valid_acc[:-4]) + 1)))\n",
    "lstm_y = lstm_control_valid_acc[:-4]\n",
    "plt.plot(lstm_x, lstm_y, label = \"LSTM\")\n",
    "\n",
    "transformer_x = list(range(1, (len(transformer_control_valid_acc[:-4]) + 1)))\n",
    "transformer_y = transformer_control_valid_acc[:-4]\n",
    "plt.plot(transformer_x, transformer_y, label = \"DistilGPT-2\")\n",
    "\n",
    "gpt_base_x = list(range(1, (len(gpt_base_control_valid_acc[:-4]) + 1)))\n",
    "gpt_base_y = gpt_base_control_valid_acc[:-4]\n",
    "plt.plot(gpt_base_x, gpt_base_y, label = \"GPT-2 Base\")\n",
    "\n",
    "gpt_medium_x = list(range(1, (len(gpt_medium_control_valid_acc[:-4]) + 1)))\n",
    "gpt_medium_y = gpt_medium_control_valid_acc[:-4]\n",
    "plt.plot(gpt_medium_x, gpt_medium_y, label = \"GPT-2 Medium\")\n",
    "\n",
    "plt.xlabel('Epoch')\n",
    "plt.ylabel('Validation accuracy')\n",
    "plt.title('Validation accuracy of the diagnostic classifiers on control task until convergence')\n",
    "plt.legend()\n",
    "plt.show()"
   ]
  },
  {
   "cell_type": "markdown",
   "metadata": {},
   "source": [
    "Now we will look at the selectivity of our Diagnostic Classifiers."
   ]
  },
  {
   "cell_type": "code",
   "execution_count": 30,
   "metadata": {},
   "outputs": [
    {
     "name": "stdout",
     "output_type": "stream",
     "text": [
      "DistilGPT-2 diagnostic classifier:\n",
      "Real task test accuracy = 0.8852\n",
      "Control task test accuracy = 0.4898\n",
      "Selectivity = 0.3954\n"
     ]
    }
   ],
   "source": [
    "print('DistilGPT-2 diagnostic classifier:')\n",
    "print(f'Real task test accuracy = {transformer_test_acc:.4f}')\n",
    "print(f'Control task test accuracy = {transformer_control_test_acc:.4f}')\n",
    "print(f'Selectivity = {(transformer_test_acc - transformer_control_test_acc):.4f}')"
   ]
  },
  {
   "cell_type": "code",
   "execution_count": 31,
   "metadata": {},
   "outputs": [
    {
     "name": "stdout",
     "output_type": "stream",
     "text": [
      "GPT-2 Base diagnostic classifier:\n",
      "Real task test accuracy = 0.8907\n",
      "Control task test accuracy = 0.5045\n",
      "Selectivity = 0.3862\n"
     ]
    }
   ],
   "source": [
    "print('GPT-2 Base diagnostic classifier:')\n",
    "print(f'Real task test accuracy = {gpt_base_test_acc:.4f}')\n",
    "print(f'Control task test accuracy = {gpt_base_control_test_acc:.4f}')\n",
    "print(f'Selectivity = {(gpt_base_test_acc - gpt_base_control_test_acc):.4f}')"
   ]
  },
  {
   "cell_type": "code",
   "execution_count": 32,
   "metadata": {},
   "outputs": [
    {
     "name": "stdout",
     "output_type": "stream",
     "text": [
      "GPT-2 Medium diagnostic classifier:\n",
      "Real task test accuracy = 0.8844\n",
      "Control task test accuracy = 0.4961\n",
      "Selectivity = 0.3883\n"
     ]
    }
   ],
   "source": [
    "print('GPT-2 Medium diagnostic classifier:')\n",
    "print(f'Real task test accuracy = {gpt_medium_test_acc:.4f}')\n",
    "print(f'Control task test accuracy = {gpt_medium_control_test_acc:.4f}')\n",
    "print(f'Selectivity = {(gpt_medium_test_acc - gpt_medium_control_test_acc):.4f}')"
   ]
  },
  {
   "cell_type": "code",
   "execution_count": 33,
   "metadata": {},
   "outputs": [
    {
     "name": "stdout",
     "output_type": "stream",
     "text": [
      "LSTM diagnostic classifier:\n",
      "Real task test accuracy = 0.8663\n",
      "Control task test accuracy = 0.5038\n",
      "Selectivity = 0.3624\n"
     ]
    }
   ],
   "source": [
    "print('LSTM diagnostic classifier:')\n",
    "print(f'Real task test accuracy = {lstm_test_acc:.4f}')\n",
    "print(f'Control task test accuracy = {lstm_control_test_acc:.4f}')\n",
    "print(f'Selectivity = {(lstm_test_acc - lstm_control_test_acc):.4f}')"
   ]
  },
  {
   "cell_type": "markdown",
   "metadata": {},
   "source": [
    "**Conclusion:**\n",
    "\n",
    "We see that the Diagnostic Classifier performs very poorly on the control task (around 50% validation and test accuracy) on the representations of all models. This indicates that the good performance on the real task does not come from the fact that the Diagnostic Classifier is strong enough to learn any mapping. This is backed up by the high selectivity that we see for all Diagnostic Classifiers (around 35-40%). Therefore, the good performance on the real task comes from the fact that the Transformer and LSTM models are able to capture linguistic features like POS-tags in their hidden states.\n",
    "\n",
    "Again, we see no correlation between model size and Diagnostic Classifier performance on the control task for the different Transformer models. Also, the selectivity is almost the same for all Transformer models. Therefore, we can again conclude that there is no correlation between Transformer model size and performance on this task.\n",
    "\n",
    "We see that the Transformer models slightly outperform the LSTM in terms of selectivity. This might indicate that the Transformer models are slightly better at capturing linguistic features like POS-tags in their embeddings."
   ]
  },
  {
   "cell_type": "markdown",
   "metadata": {},
   "source": [
    "# Notion of syntactic structure\n",
    "In this section we will examine whether transformer models have a stronger notion of syntactic structure than recurrent models? We do this by applying our structural probe on the representations of our four different models (DistilGPT-2, GPT-2 Base, GPT-2 Medium, and LSTM).\n",
    "\n",
    "We start by training our structural probe on the encodings of the different models. We then compare the performance of the probe on both models."
   ]
  },
  {
   "cell_type": "code",
   "execution_count": 17,
   "metadata": {},
   "outputs": [],
   "source": [
    "import json\n",
    "\n",
    "# function to create dependency tree\n",
    "def save_tikz(model_name, predicted_edges, gold_edges, words):\n",
    "    \"\"\" Turns edge sets on word (nodes) into tikz dependency LaTeX.\n",
    "    Parameters\n",
    "    ----------\n",
    "    predicted_edges : Set[Tuple[int, int]]\n",
    "        Set (or list) of edge tuples, as predicted by your probe.\n",
    "    gold_edges : Set[Tuple[int, int]]\n",
    "        Set (or list) of gold edge tuples, as obtained from the treebank.\n",
    "    words : List[str]\n",
    "        List of strings representing the tokens in the sentence.\n",
    "    \"\"\"\n",
    "\n",
    "    string = \"\"\"\\\\begin{dependency}[hide label, edge unit distance=.5ex]\n",
    "    \\\\begin{deptext}[column sep=0.05cm]\n",
    "    \"\"\"\n",
    "\n",
    "    string += (\n",
    "        \"\\\\& \".join([x.replace(\"$\", \"\\$\").replace(\"&\", \"+\") for x in words])\n",
    "        + \" \\\\\\\\\\n\"\n",
    "    )\n",
    "    string += \"\\\\end{deptext}\" + \"\\n\"\n",
    "    for i_index, j_index in gold_edges:\n",
    "        string += \"\\\\depedge[-]{{{}}}{{{}}}{{{}}}\\n\".format(i_index, j_index, \".\")\n",
    "    for i_index, j_index in predicted_edges:\n",
    "        string += f\"\\\\depedge[-,edge style={{red!60!}}, edge below]{{{i_index}}}{{{j_index}}}{{.}}\\n\"\n",
    "    string += \"\\\\end{dependency}\\n\"\n",
    "    \n",
    "    # save the dependency tree\n",
    "    data = {}\n",
    "    data['dependency_tree'] = string\n",
    "    with open('model_results/' + model_name + '_dependency_tree.txt', 'w') as outfile:\n",
    "        json.dump(data, outfile)\n",
    "    print('Dependency tree saved')"
   ]
  },
  {
   "cell_type": "code",
   "execution_count": 18,
   "metadata": {},
   "outputs": [],
   "source": [
    "from random import sample\n",
    "\n",
    "# function to sample a sentence for creating a dependency tree\n",
    "def sample_dependency_tree(model_name, probe, model, tokenizer, concat=True):\n",
    "    # randomly select an item from the sample test set\n",
    "    corpus = parse_corpus('data/sample/en_ewt-ud-test.conllu')\n",
    "    sample_item = sample(corpus, 1)\n",
    "    \n",
    "    # create the embeddings and gold distances\n",
    "    sample_embs = fetch_sen_reps(sample_item, model, tokenizer, concat=concat)    \n",
    "    gold_distances = create_gold_distances(corpus)\n",
    "    \n",
    "    # create the gold edges\n",
    "    gold_mst = create_mst(gold_distances[0])\n",
    "    gold_edges = edges(gold_mst)\n",
    "    \n",
    "    # create the predicted edges\n",
    "    probe.eval()\n",
    "    with torch.no_grad():\n",
    "        # pass the batch through the probe\n",
    "        pred_distances = probe(sample_embs.unsqueeze(dim=0))\n",
    "    pred_mst = create_mst(pred_distances.squeeze(dim=0))\n",
    "    pred_edges = edges(pred_mst)\n",
    "    \n",
    "    # convert edges such that indices start at 1\n",
    "    new_pred_edges = set()\n",
    "    for (index_1, index_2) in pred_edges:\n",
    "        new_pred_edges.add((index_1 + 1, index_2 + 1))\n",
    "    pred_edges = new_pred_edges\n",
    "    \n",
    "    new_gold_edges = set()\n",
    "    for (index_1, index_2) in gold_edges:\n",
    "        new_gold_edges.add((index_1 + 1, index_2 + 1))\n",
    "    gold_edges = new_gold_edges\n",
    "    \n",
    "    # create list of words\n",
    "    word_list = [word['form'] for word in sample_item[0]]\n",
    "\n",
    "    # create the dependency tree\n",
    "    save_tikz(model_name, pred_edges, gold_edges, word_list)"
   ]
  },
  {
   "cell_type": "code",
   "execution_count": 19,
   "metadata": {},
   "outputs": [],
   "source": [
    "import json\n",
    "\n",
    "# function to save the results\n",
    "def save_probe_results(name, train_loss, valid_loss, valid_uuas, test_loss, test_uuas):\n",
    "    print('Saving results..')\n",
    "    data = {}\n",
    "    data['train_loss'] = train_loss\n",
    "    data['valid_loss'] = valid_loss\n",
    "    data['valid_uuas'] = valid_uuas\n",
    "    data['test_loss'] = test_loss\n",
    "    data['test_uuas'] = test_uuas\n",
    "    with open('model_results/' + name + '_probe.txt', 'w') as outfile:\n",
    "        json.dump(data, outfile)\n",
    "    print('Results saved')"
   ]
  },
  {
   "cell_type": "code",
   "execution_count": 66,
   "metadata": {},
   "outputs": [
    {
     "name": "stdout",
     "output_type": "stream",
     "text": [
      "Epoch 0 finished: train_loss=57.8372 & valid_loss=174.6017 & valid_uuas=0.3755\n",
      "Epoch 1 finished: train_loss=29.2577 & valid_loss=238.3963 & valid_uuas=0.3972\n",
      "Epoch 2 finished: train_loss=31.1066 & valid_loss=256.0839 & valid_uuas=0.3695\n",
      "Epoch 3 finished: train_loss=20.1934 & valid_loss=304.4020 & valid_uuas=0.4909\n",
      "Epoch 4 finished: train_loss=20.9553 & valid_loss=280.2820 & valid_uuas=0.4786\n",
      "Epoch 5 finished: train_loss=17.6828 & valid_loss=217.0737 & valid_uuas=0.5052\n",
      "Epoch 6 finished: train_loss=17.8115 & valid_loss=239.5542 & valid_uuas=0.5283\n",
      "Epoch 7 finished: train_loss=16.1874 & valid_loss=238.0763 & valid_uuas=0.5864\n",
      "Epoch 8 finished: train_loss=15.8897 & valid_loss=257.9577 & valid_uuas=0.5390\n",
      "Epoch 9 finished: train_loss=14.8525 & valid_loss=253.0276 & valid_uuas=0.6130\n",
      "Epoch 10 finished: train_loss=14.5989 & valid_loss=254.8566 & valid_uuas=0.6101\n",
      "Epoch 11 finished: train_loss=13.9672 & valid_loss=263.8929 & valid_uuas=0.6270\n",
      "Epoch 12 finished: train_loss=13.7833 & valid_loss=262.5417 & valid_uuas=0.6264\n",
      "Epoch 13 finished: train_loss=13.4357 & valid_loss=267.4974 & valid_uuas=0.6309\n",
      "Epoch 14 finished: train_loss=13.3279 & valid_loss=274.9327 & valid_uuas=0.6322\n",
      "Epoch 15 finished: train_loss=13.1344 & valid_loss=268.0016 & valid_uuas=0.6349\n",
      "Epoch 16 finished: train_loss=13.0627 & valid_loss=268.3683 & valid_uuas=0.6355\n",
      "Epoch 17 finished: train_loss=12.9542 & valid_loss=266.8312 & valid_uuas=0.6369\n",
      "Epoch 18 finished: train_loss=12.9161 & valid_loss=267.4581 & valid_uuas=0.6370\n",
      "Epoch 19 finished: train_loss=12.8510 & valid_loss=266.8174 & valid_uuas=0.6381\n",
      "Epoch 20 finished: train_loss=12.8315 & valid_loss=268.0099 & valid_uuas=0.6382\n",
      "Epoch 21 finished: train_loss=12.7958 & valid_loss=267.2527 & valid_uuas=0.6390\n",
      "Epoch 22 finished: train_loss=12.7855 & valid_loss=267.6488 & valid_uuas=0.6383\n",
      "Epoch 23 finished: train_loss=12.7671 & valid_loss=267.9772 & valid_uuas=0.6385\n",
      "Epoch 24 finished: train_loss=12.7605 & valid_loss=268.3359 & valid_uuas=0.6384\n",
      "Testing finished: test_loss=316.5884 & test_uuas=0.6279\n",
      "Saving results..\n",
      "Results saved\n",
      "Dependency tree saved\n"
     ]
    }
   ],
   "source": [
    "# create the datasets for DistilGPT-2\n",
    "train_y, train_x = init_corpus('data/en_ewt-ud-train.conllu', transformer_model, transformer_tokenizer)\n",
    "dev_y, dev_x = init_corpus('data/en_ewt-ud-dev.conllu', transformer_model, transformer_tokenizer)\n",
    "test_y, test_x = init_corpus('data/en_ewt-ud-test.conllu', transformer_model, transformer_tokenizer)\n",
    "\n",
    "# train the probe for DistilGPT-2\n",
    "(transformer_probe, transformer_train_loss, \n",
    " transformer_valid_loss, \n",
    " transformer_valid_uuas, \n",
    " transformer_test_loss, \n",
    " transformer_test_uuas) = train_probe(train_x, train_y, dev_x, dev_y, test_x, test_y, emb_dim=768, batch_size=24)\n",
    "\n",
    "# save the results\n",
    "save_probe_results('transformer', transformer_train_loss, transformer_valid_loss, transformer_valid_uuas, \n",
    "                   transformer_test_loss, transformer_test_uuas)\n",
    "\n",
    "# sample a dependency tree\n",
    "sample_dependency_tree('transformer', transformer_probe, transformer_model, transformer_tokenizer)"
   ]
  },
  {
   "cell_type": "code",
   "execution_count": 25,
   "metadata": {},
   "outputs": [],
   "source": [
    "#import json\n",
    "\n",
    "# or load the results from an earlier run\n",
    "#with open('model_results/transformer_probe.txt') as json_file:\n",
    "    #data = json.load(json_file)\n",
    "    #transformer_train_loss = data['train_loss']\n",
    "    #transformer_valid_loss = data['valid_loss']\n",
    "    #transformer_valid_uuas = data['valid_uuas']\n",
    "    #transformer_test_loss = data['test_loss']\n",
    "    #transformer_test_uuas = data['test_uuas']"
   ]
  },
  {
   "cell_type": "code",
   "execution_count": 22,
   "metadata": {},
   "outputs": [
    {
     "name": "stdout",
     "output_type": "stream",
     "text": [
      "Epoch 0 finished: train_loss=131.3233 & valid_loss=96.5742 & valid_uuas=0.3981\n",
      "Epoch 1 finished: train_loss=34.5834 & valid_loss=162.0291 & valid_uuas=0.3243\n",
      "Epoch 2 finished: train_loss=38.3147 & valid_loss=104.0980 & valid_uuas=0.3383\n",
      "Epoch 3 finished: train_loss=20.2963 & valid_loss=77.0188 & valid_uuas=0.4414\n",
      "Epoch 4 finished: train_loss=22.3883 & valid_loss=80.3721 & valid_uuas=0.4346\n",
      "Epoch 5 finished: train_loss=24.1414 & valid_loss=89.9017 & valid_uuas=0.4298\n",
      "Epoch 6 finished: train_loss=18.5463 & valid_loss=91.9750 & valid_uuas=0.4987\n",
      "Epoch 7 finished: train_loss=18.8526 & valid_loss=92.1507 & valid_uuas=0.4989\n",
      "Epoch 8 finished: train_loss=17.1481 & valid_loss=74.9475 & valid_uuas=0.5293\n",
      "Epoch 9 finished: train_loss=16.8214 & valid_loss=83.3931 & valid_uuas=0.5271\n",
      "Epoch 10 finished: train_loss=16.8755 & valid_loss=93.7094 & valid_uuas=0.5315\n",
      "Epoch 11 finished: train_loss=15.7385 & valid_loss=81.4872 & valid_uuas=0.5690\n",
      "Epoch 12 finished: train_loss=15.4059 & valid_loss=83.5318 & valid_uuas=0.5532\n",
      "Epoch 13 finished: train_loss=14.6643 & valid_loss=82.5893 & valid_uuas=0.5990\n",
      "Epoch 14 finished: train_loss=14.4607 & valid_loss=83.8481 & valid_uuas=0.5980\n",
      "Epoch 15 finished: train_loss=14.0355 & valid_loss=93.4849 & valid_uuas=0.6075\n",
      "Epoch 16 finished: train_loss=13.9142 & valid_loss=92.5056 & valid_uuas=0.6058\n",
      "Epoch 17 finished: train_loss=13.6685 & valid_loss=94.6951 & valid_uuas=0.6112\n",
      "Epoch 18 finished: train_loss=13.6066 & valid_loss=96.0573 & valid_uuas=0.6114\n",
      "Epoch 19 finished: train_loss=13.4663 & valid_loss=91.7383 & valid_uuas=0.6142\n",
      "Epoch 20 finished: train_loss=13.4268 & valid_loss=93.9731 & valid_uuas=0.6147\n",
      "Epoch 21 finished: train_loss=13.3492 & valid_loss=90.0909 & valid_uuas=0.6154\n",
      "Epoch 22 finished: train_loss=13.3272 & valid_loss=89.9172 & valid_uuas=0.6154\n",
      "Epoch 23 finished: train_loss=13.2814 & valid_loss=90.2408 & valid_uuas=0.6164\n",
      "Epoch 24 finished: train_loss=13.2674 & valid_loss=90.2550 & valid_uuas=0.6168\n",
      "Epoch 25 finished: train_loss=13.2469 & valid_loss=89.8922 & valid_uuas=0.6171\n",
      "Epoch 26 finished: train_loss=13.2394 & valid_loss=89.7295 & valid_uuas=0.6173\n",
      "Epoch 27 finished: train_loss=13.2281 & valid_loss=89.3896 & valid_uuas=0.6174\n",
      "Testing finished: test_loss=103.3028 & test_uuas=0.6050\n",
      "Saving results..\n",
      "Results saved\n",
      "Dependency tree saved\n"
     ]
    }
   ],
   "source": [
    "# create the datasets for GPT-2 Base\n",
    "train_y, train_x = init_corpus('data/en_ewt-ud-train.conllu', gpt_base_model, gpt_base_tokenizer)\n",
    "dev_y, dev_x = init_corpus('data/en_ewt-ud-dev.conllu', gpt_base_model, gpt_base_tokenizer)\n",
    "test_y, test_x = init_corpus('data/en_ewt-ud-test.conllu', gpt_base_model, gpt_base_tokenizer)\n",
    "\n",
    "# train the probe for GPT-2 Base\n",
    "(gpt_base_probe, gpt_base_train_loss, \n",
    " gpt_base_valid_loss, \n",
    " gpt_base_valid_uuas, \n",
    " gpt_base_test_loss, \n",
    " gpt_base_test_uuas) = train_probe(train_x, train_y, dev_x, dev_y, test_x, test_y, emb_dim=768, batch_size=24)\n",
    "\n",
    "# save the results\n",
    "save_probe_results('gpt2_base', gpt_base_train_loss, gpt_base_valid_loss, gpt_base_valid_uuas, \n",
    "                   gpt_base_test_loss, gpt_base_test_uuas)\n",
    "\n",
    "# sample a dependency tree\n",
    "sample_dependency_tree('gpt2_base', gpt_base_probe, gpt_base_model, gpt_base_tokenizer)"
   ]
  },
  {
   "cell_type": "code",
   "execution_count": 26,
   "metadata": {},
   "outputs": [],
   "source": [
    "#import json\n",
    "\n",
    "# or load the results from an earlier run\n",
    "#with open('model_results/gpt2_base_probe.txt') as json_file:\n",
    "    #data = json.load(json_file)\n",
    "    #gpt_base_train_loss = data['train_loss']\n",
    "    #gpt_base_valid_loss = data['valid_loss']\n",
    "    #gpt_base_valid_uuas = data['valid_uuas']\n",
    "    #gpt_base_test_loss = data['test_loss']\n",
    "    #gpt_base_test_uuas = data['test_uuas']"
   ]
  },
  {
   "cell_type": "code",
   "execution_count": 23,
   "metadata": {},
   "outputs": [
    {
     "name": "stdout",
     "output_type": "stream",
     "text": [
      "Epoch 0 finished: train_loss=330.5485 & valid_loss=365.0649 & valid_uuas=0.3590\n",
      "Epoch 1 finished: train_loss=45.7808 & valid_loss=143.2397 & valid_uuas=0.3490\n",
      "Epoch 2 finished: train_loss=66.0450 & valid_loss=119.6354 & valid_uuas=0.3297\n",
      "Epoch 3 finished: train_loss=72.1776 & valid_loss=153.4438 & valid_uuas=0.3480\n",
      "Epoch 4 finished: train_loss=104.7423 & valid_loss=143.7328 & valid_uuas=0.3356\n",
      "Epoch 5 finished: train_loss=22.5244 & valid_loss=135.0581 & valid_uuas=0.4004\n",
      "Epoch 6 finished: train_loss=28.4340 & valid_loss=150.8181 & valid_uuas=0.3778\n",
      "Epoch 7 finished: train_loss=18.7033 & valid_loss=139.4364 & valid_uuas=0.4789\n",
      "Epoch 8 finished: train_loss=19.2086 & valid_loss=145.3529 & valid_uuas=0.4492\n",
      "Epoch 9 finished: train_loss=17.0635 & valid_loss=135.9738 & valid_uuas=0.5188\n",
      "Epoch 10 finished: train_loss=16.8381 & valid_loss=154.3913 & valid_uuas=0.5156\n",
      "Epoch 11 finished: train_loss=15.5781 & valid_loss=146.9505 & valid_uuas=0.5519\n",
      "Epoch 12 finished: train_loss=15.2977 & valid_loss=149.0323 & valid_uuas=0.5484\n",
      "Epoch 13 finished: train_loss=14.5667 & valid_loss=156.3673 & valid_uuas=0.5791\n",
      "Epoch 14 finished: train_loss=14.3613 & valid_loss=151.9699 & valid_uuas=0.5737\n",
      "Epoch 15 finished: train_loss=13.8971 & valid_loss=155.4494 & valid_uuas=0.5910\n",
      "Epoch 16 finished: train_loss=13.7391 & valid_loss=153.3330 & valid_uuas=0.5907\n",
      "Epoch 17 finished: train_loss=13.4735 & valid_loss=151.2959 & valid_uuas=0.5954\n",
      "Epoch 18 finished: train_loss=13.3627 & valid_loss=153.5329 & valid_uuas=0.5956\n",
      "Epoch 19 finished: train_loss=13.2097 & valid_loss=153.1971 & valid_uuas=0.5988\n",
      "Epoch 20 finished: train_loss=13.1553 & valid_loss=153.7293 & valid_uuas=0.5980\n",
      "Epoch 21 finished: train_loss=13.0618 & valid_loss=154.8874 & valid_uuas=0.6000\n",
      "Epoch 22 finished: train_loss=13.0316 & valid_loss=154.8475 & valid_uuas=0.6002\n",
      "Epoch 23 finished: train_loss=12.9818 & valid_loss=155.8642 & valid_uuas=0.6011\n",
      "Epoch 24 finished: train_loss=12.9651 & valid_loss=156.1326 & valid_uuas=0.6014\n",
      "Epoch 25 finished: train_loss=12.9379 & valid_loss=157.1279 & valid_uuas=0.6019\n",
      "Epoch 26 finished: train_loss=12.9278 & valid_loss=156.9821 & valid_uuas=0.6016\n",
      "Epoch 27 finished: train_loss=12.9139 & valid_loss=157.4948 & valid_uuas=0.6029\n",
      "Epoch 28 finished: train_loss=12.9080 & valid_loss=157.3485 & valid_uuas=0.6028\n",
      "Epoch 29 finished: train_loss=12.8998 & valid_loss=157.9754 & valid_uuas=0.6025\n",
      "Epoch 30 finished: train_loss=12.8965 & valid_loss=158.1817 & valid_uuas=0.6029\n",
      "Epoch 31 finished: train_loss=12.8916 & valid_loss=158.4715 & valid_uuas=0.6020\n",
      "Epoch 32 finished: train_loss=12.8901 & valid_loss=158.5842 & valid_uuas=0.6021\n",
      "Testing finished: test_loss=185.7438 & test_uuas=0.5939\n",
      "Saving results..\n",
      "Results saved\n",
      "Dependency tree saved\n"
     ]
    }
   ],
   "source": [
    "# create the datasets for GPT-2 Medium\n",
    "train_y, train_x = init_corpus('data/en_ewt-ud-train.conllu', gpt_medium_model, gpt_medium_tokenizer)\n",
    "dev_y, dev_x = init_corpus('data/en_ewt-ud-dev.conllu', gpt_medium_model, gpt_medium_tokenizer)\n",
    "test_y, test_x = init_corpus('data/en_ewt-ud-test.conllu', gpt_medium_model, gpt_medium_tokenizer)\n",
    "\n",
    "# train the probe for GPT-2 Medium\n",
    "(gpt_medium_probe, gpt_medium_train_loss, \n",
    " gpt_medium_valid_loss, \n",
    " gpt_medium_valid_uuas, \n",
    " gpt_medium_test_loss, \n",
    " gpt_medium_test_uuas) = train_probe(train_x, train_y, dev_x, dev_y, test_x, test_y, emb_dim=1024, batch_size=24, patience=5)\n",
    "\n",
    "# save the results\n",
    "save_probe_results('gpt2_medium', gpt_medium_train_loss, gpt_medium_valid_loss, gpt_medium_valid_uuas, \n",
    "                   gpt_medium_test_loss, gpt_medium_test_uuas)\n",
    "\n",
    "# sample a dependency tree\n",
    "sample_dependency_tree('gpt2_medium', gpt_medium_probe, gpt_medium_model, gpt_medium_tokenizer)"
   ]
  },
  {
   "cell_type": "code",
   "execution_count": 27,
   "metadata": {},
   "outputs": [],
   "source": [
    "#import json\n",
    "\n",
    "# or load the results from an earlier run\n",
    "#with open('model_results/gpt2_medium_probe.txt') as json_file:\n",
    "    #data = json.load(json_file)\n",
    "    #gpt_medium_train_loss = data['train_loss']\n",
    "    #gpt_medium_valid_loss = data['valid_loss']\n",
    "    #gpt_medium_valid_uuas = data['valid_uuas']\n",
    "    #gpt_medium_test_loss = data['test_loss']\n",
    "    #gpt_medium_test_uuas = data['test_uuas']"
   ]
  },
  {
   "cell_type": "code",
   "execution_count": 39,
   "metadata": {},
   "outputs": [
    {
     "name": "stdout",
     "output_type": "stream",
     "text": [
      "Epoch 0 finished: train_loss=20.0098 & valid_loss=49.4386 & valid_uuas=0.2707\n",
      "Epoch 1 finished: train_loss=19.5883 & valid_loss=46.8147 & valid_uuas=0.2737\n",
      "Epoch 2 finished: train_loss=19.4955 & valid_loss=48.2986 & valid_uuas=0.2832\n",
      "Epoch 3 finished: train_loss=19.4275 & valid_loss=47.9140 & valid_uuas=0.2747\n",
      "Epoch 4 finished: train_loss=16.9707 & valid_loss=42.7793 & valid_uuas=0.3458\n",
      "Epoch 5 finished: train_loss=16.6871 & valid_loss=41.3204 & valid_uuas=0.3348\n",
      "Epoch 6 finished: train_loss=16.6012 & valid_loss=42.7108 & valid_uuas=0.3275\n",
      "Epoch 7 finished: train_loss=16.6261 & valid_loss=42.5022 & valid_uuas=0.3466\n",
      "Epoch 8 finished: train_loss=15.4198 & valid_loss=40.5733 & valid_uuas=0.3733\n",
      "Epoch 9 finished: train_loss=15.1134 & valid_loss=41.0476 & valid_uuas=0.3741\n",
      "Epoch 10 finished: train_loss=15.0685 & valid_loss=41.2861 & valid_uuas=0.3724\n",
      "Epoch 11 finished: train_loss=14.3794 & valid_loss=39.3110 & valid_uuas=0.3851\n",
      "Epoch 12 finished: train_loss=14.1521 & valid_loss=40.6282 & valid_uuas=0.3858\n",
      "Epoch 13 finished: train_loss=14.1246 & valid_loss=39.9126 & valid_uuas=0.3870\n",
      "Epoch 14 finished: train_loss=13.7232 & valid_loss=39.6212 & valid_uuas=0.3943\n",
      "Epoch 15 finished: train_loss=13.5898 & valid_loss=39.5452 & valid_uuas=0.3937\n",
      "Epoch 16 finished: train_loss=13.3566 & valid_loss=39.5581 & valid_uuas=0.4072\n",
      "Epoch 17 finished: train_loss=13.2877 & valid_loss=39.6720 & valid_uuas=0.4062\n",
      "Epoch 18 finished: train_loss=13.1464 & valid_loss=39.8569 & valid_uuas=0.4109\n",
      "Epoch 19 finished: train_loss=13.1064 & valid_loss=39.7073 & valid_uuas=0.4124\n",
      "Epoch 20 finished: train_loss=13.0246 & valid_loss=39.8799 & valid_uuas=0.4098\n",
      "Epoch 21 finished: train_loss=13.0041 & valid_loss=39.8452 & valid_uuas=0.4119\n",
      "Epoch 22 finished: train_loss=12.9632 & valid_loss=39.7685 & valid_uuas=0.4116\n",
      "Epoch 23 finished: train_loss=12.9507 & valid_loss=39.7385 & valid_uuas=0.4120\n",
      "Epoch 24 finished: train_loss=12.9266 & valid_loss=39.7473 & valid_uuas=0.4115\n",
      "Epoch 25 finished: train_loss=12.9198 & valid_loss=39.7434 & valid_uuas=0.4113\n",
      "Epoch 26 finished: train_loss=12.9070 & valid_loss=39.6982 & valid_uuas=0.4115\n",
      "Testing finished: test_loss=45.4308 & test_uuas=0.4053\n",
      "Saving results..\n",
      "Results saved\n",
      "Dependency tree saved\n"
     ]
    }
   ],
   "source": [
    "# create the datasets for LSTM\n",
    "train_y, train_x = init_corpus('data/en_ewt-ud-train.conllu', lstm, vocab)\n",
    "dev_y, dev_x = init_corpus('data/en_ewt-ud-dev.conllu', lstm, vocab)\n",
    "test_y, test_x = init_corpus('data/en_ewt-ud-test.conllu', lstm, vocab)\n",
    "\n",
    "# train the probe for LSTM\n",
    "(lstm_probe, lstm_train_loss, \n",
    " lstm_valid_loss, \n",
    " lstm_valid_uuas, \n",
    " lstm_test_loss, \n",
    " lstm_test_uuas) = train_probe(train_x, train_y, dev_x, dev_y, test_x, test_y, emb_dim=650, batch_size=24, patience=7)\n",
    "\n",
    "# save the results\n",
    "save_probe_results('lstm', lstm_train_loss, lstm_valid_loss, lstm_valid_uuas, \n",
    "                   lstm_test_loss, lstm_test_uuas)\n",
    "\n",
    "# sample a dependency tree\n",
    "sample_dependency_tree('lstm', lstm_probe, lstm, vocab)"
   ]
  },
  {
   "cell_type": "code",
   "execution_count": null,
   "metadata": {},
   "outputs": [],
   "source": [
    "#import json\n",
    "\n",
    "# or load the results from an earlier run\n",
    "#with open('model_results/lstm_probe.txt') as json_file:\n",
    "    #data = json.load(json_file)\n",
    "    #lstm_train_loss = data['train_loss']\n",
    "    #lstm_valid_loss = data['valid_loss']\n",
    "    #lstm_valid_uuas = data['valid_uuas']\n",
    "    #lstm_test_loss = data['test_loss']\n",
    "    #lstm_test_uuas = data['test_uuas']"
   ]
  },
  {
   "cell_type": "markdown",
   "metadata": {},
   "source": [
    "Now we can compare the results of the four different structural probes."
   ]
  },
  {
   "cell_type": "code",
   "execution_count": 40,
   "metadata": {},
   "outputs": [
    {
     "name": "stdout",
     "output_type": "stream",
     "text": [
      "DistilGPT-2 structural probe after convergence:\n",
      "Train loss = 12.7958\n",
      "Validation loss = 267.2527\n",
      "Validation UUAS = 0.6390\n",
      "Test loss = 316.5884\n",
      "Test UUAS = 0.6279\n"
     ]
    }
   ],
   "source": [
    "print('DistilGPT-2 structural probe after convergence:')\n",
    "print(f'Train loss = {transformer_train_loss[-4]:.4f}')\n",
    "print(f'Validation loss = {transformer_valid_loss[-4]:.4f}')\n",
    "print(f'Validation UUAS = {transformer_valid_uuas[-4]:.4f}')\n",
    "print(f'Test loss = {transformer_test_loss:.4f}')\n",
    "print(f'Test UUAS = {transformer_test_uuas:.4f}')"
   ]
  },
  {
   "cell_type": "code",
   "execution_count": 41,
   "metadata": {},
   "outputs": [
    {
     "name": "stdout",
     "output_type": "stream",
     "text": [
      "GPT-2 Base structural probe after convergence:\n",
      "Train loss = 13.2674\n",
      "Validation loss = 90.2550\n",
      "Validation UUAS = 0.6168\n",
      "Test loss = 103.3028\n",
      "Test UUAS = 0.6050\n"
     ]
    }
   ],
   "source": [
    "print('GPT-2 Base structural probe after convergence:')\n",
    "print(f'Train loss = {gpt_base_train_loss[-4]:.4f}')\n",
    "print(f'Validation loss = {gpt_base_valid_loss[-4]:.4f}')\n",
    "print(f'Validation UUAS = {gpt_base_valid_uuas[-4]:.4f}')\n",
    "print(f'Test loss = {gpt_base_test_loss:.4f}')\n",
    "print(f'Test UUAS = {gpt_base_test_uuas:.4f}')"
   ]
  },
  {
   "cell_type": "code",
   "execution_count": 42,
   "metadata": {},
   "outputs": [
    {
     "name": "stdout",
     "output_type": "stream",
     "text": [
      "GPT-2 Medium structural probe after convergence:\n",
      "Train loss = 12.9139\n",
      "Validation loss = 157.4948\n",
      "Validation UUAS = 0.6029\n",
      "Test loss = 185.7438\n",
      "Test UUAS = 0.5939\n"
     ]
    }
   ],
   "source": [
    "print('GPT-2 Medium structural probe after convergence:')\n",
    "print(f'Train loss = {gpt_medium_train_loss[-6]:.4f}')\n",
    "print(f'Validation loss = {gpt_medium_valid_loss[-6]:.4f}')\n",
    "print(f'Validation UUAS = {gpt_medium_valid_uuas[-6]:.4f}')\n",
    "print(f'Test loss = {gpt_medium_test_loss:.4f}')\n",
    "print(f'Test UUAS = {gpt_medium_test_uuas:.4f}')"
   ]
  },
  {
   "cell_type": "code",
   "execution_count": 43,
   "metadata": {},
   "outputs": [
    {
     "name": "stdout",
     "output_type": "stream",
     "text": [
      "LSTM structural probe after 50 convergence:\n",
      "Train loss = 13.1064\n",
      "Validation loss = 39.7073\n",
      "Validation UUAS = 0.4124\n",
      "Test loss = 45.4308\n",
      "Test UUAS = 0.4053\n"
     ]
    }
   ],
   "source": [
    "print('LSTM structural probe after 50 convergence:')\n",
    "print(f'Train loss = {lstm_train_loss[-8]:.4f}')\n",
    "print(f'Validation loss = {lstm_valid_loss[-8]:.4f}')\n",
    "print(f'Validation UUAS = {lstm_valid_uuas[-8]:.4f}')\n",
    "print(f'Test loss = {lstm_test_loss:.4f}')\n",
    "print(f'Test UUAS = {lstm_test_uuas:.4f}')"
   ]
  },
  {
   "cell_type": "code",
   "execution_count": 44,
   "metadata": {},
   "outputs": [
    {
     "data": {
      "image/png": "[encoded data removed]",
      "text/plain": [
       "<Figure size 432x288 with 1 Axes>"
      ]
     },
     "metadata": {
      "needs_background": "light"
     },
     "output_type": "display_data"
    }
   ],
   "source": [
    "import matplotlib.pyplot as plt\n",
    "\n",
    "lstm_x = list(range(1, (len(lstm_train_loss[:-8]) + 1)))\n",
    "lstm_y = lstm_train_loss[:-8]\n",
    "plt.plot(lstm_x, lstm_y, label = \"LSTM\")\n",
    "\n",
    "transformer_x = list(range(1, (len(transformer_train_loss[:-4]) + 1)))\n",
    "transformer_y = transformer_train_loss[:-4]\n",
    "plt.plot(transformer_x, transformer_y, label = \"DistilGPT-2\")\n",
    "\n",
    "gpt_base_x = list(range(1, (len(gpt_base_train_loss[:-4]) + 1)))\n",
    "gpt_base_y = gpt_base_train_loss[:-4]\n",
    "plt.plot(gpt_base_x, gpt_base_y, label = \"GPT-2 Base\")\n",
    "\n",
    "gpt_medium_x = list(range(1, (len(gpt_medium_train_loss[:-6]) + 1)))\n",
    "gpt_medium_y = gpt_medium_train_loss[:-6]\n",
    "plt.plot(gpt_medium_x, gpt_medium_y, label = \"GPT-2 Medium\")\n",
    "\n",
    "plt.xlabel('Epoch')\n",
    "plt.ylabel('Training loss')\n",
    "plt.title('Training loss of the structural probes after convergence')\n",
    "plt.legend()\n",
    "plt.show()"
   ]
  },
  {
   "cell_type": "code",
   "execution_count": 45,
   "metadata": {},
   "outputs": [
    {
     "data": {
      "image/png": "[encoded data removed]",
      "text/plain": [
       "<Figure size 432x288 with 1 Axes>"
      ]
     },
     "metadata": {
      "needs_background": "light"
     },
     "output_type": "display_data"
    }
   ],
   "source": [
    "lstm_x = list(range(1, (len(lstm_valid_loss[:-8]) + 1)))\n",
    "lstm_y = lstm_valid_loss[:-8]\n",
    "plt.plot(lstm_x, lstm_y, label = \"LSTM\")\n",
    "\n",
    "transformer_x = list(range(1, (len(transformer_valid_loss[:-4]) + 1)))\n",
    "transformer_y = transformer_valid_loss[:-4]\n",
    "plt.plot(transformer_x, transformer_y, label = \"DistilGPT-2\")\n",
    "\n",
    "gpt_base_x = list(range(1, (len(gpt_base_valid_loss[:-4]) + 1)))\n",
    "gpt_base_y = gpt_base_valid_loss[:-4]\n",
    "plt.plot(gpt_base_x, gpt_base_y, label = \"GPT-2 Base\")\n",
    "\n",
    "gpt_medium_x = list(range(1, (len(gpt_medium_valid_loss[:-6]) + 1)))\n",
    "gpt_medium_y = gpt_medium_valid_loss[:-6]\n",
    "plt.plot(gpt_medium_x, gpt_medium_y, label = \"GPT-2 Medium\")\n",
    "\n",
    "plt.xlabel('Epoch')\n",
    "plt.ylabel('Validation loss')\n",
    "plt.title('Validation loss of the structural probes after convergence')\n",
    "plt.legend()\n",
    "plt.show()"
   ]
  },
  {
   "cell_type": "code",
   "execution_count": 46,
   "metadata": {},
   "outputs": [
    {
     "data": {
      "image/png": "[encoded data removed]",
      "text/plain": [
       "<Figure size 432x288 with 1 Axes>"
      ]
     },
     "metadata": {
      "needs_background": "light"
     },
     "output_type": "display_data"
    }
   ],
   "source": [
    "lstm_x = list(range(1, (len(lstm_valid_uuas[:-8]) + 1)))\n",
    "lstm_y = lstm_valid_uuas[:-8]\n",
    "plt.plot(lstm_x, lstm_y, label = \"LSTM\")\n",
    "\n",
    "transformer_x = list(range(1, (len(transformer_valid_uuas[:-4]) + 1)))\n",
    "transformer_y = transformer_valid_uuas[:-4]\n",
    "plt.plot(transformer_x, transformer_y, label = \"DistilGPT-2\")\n",
    "\n",
    "gpt_base_x = list(range(1, (len(gpt_base_valid_uuas[:-4]) + 1)))\n",
    "gpt_base_y = gpt_base_valid_uuas[:-4]\n",
    "plt.plot(gpt_base_x, gpt_base_y, label = \"GPT-2 Base\")\n",
    "\n",
    "gpt_medium_x = list(range(1, (len(gpt_medium_valid_uuas[:-6]) + 1)))\n",
    "gpt_medium_y = gpt_medium_valid_uuas[:-6]\n",
    "plt.plot(gpt_medium_x, gpt_medium_y, label = \"GPT-2 Medium\")\n",
    "\n",
    "plt.xlabel('Epoch')\n",
    "plt.ylabel('Validation UUAS')\n",
    "plt.title('Validation UUAS of the structural probes after convergence')\n",
    "plt.legend()\n",
    "plt.show()"
   ]
  },
  {
   "cell_type": "markdown",
   "metadata": {},
   "source": [
    "**Conclusion:**\n",
    "\n",
    "We see that the Structural Probe performs quite well on the embeddings of the Transformer models (around 0.6 test UUAS). However, the Structural Probe performs significantly worse on the embeddings of the LSTM model (around 0.4 test UUAS). This indicates that Transformer models are better able to capture syntactic structure than LSTM models.\n",
    "\n",
    "Once again, we also see no correlation between model size and the Structural Probe performance for the different Transformer models. Therefore, we can again conclude there is no correlation between Transformer model size and performance on this task."
   ]
  }
 ],
 "metadata": {
  "kernelspec": {
   "display_name": "Python 3",
   "language": "python",
   "name": "python3"
  },
  "language_info": {
   "codemirror_mode": {
    "name": "ipython",
    "version": 3
   },
   "file_extension": ".py",
   "mimetype": "text/x-python",
   "name": "python",
   "nbconvert_exporter": "python",
   "pygments_lexer": "ipython3",
   "version": "3.7.1"
  },
  "toc": {
   "base_numbering": 1,
   "nav_menu": {},
   "number_sections": true,
   "sideBar": true,
   "skip_h1_title": false,
   "title_cell": "Table of Contents",
   "title_sidebar": "Contents",
   "toc_cell": false,
   "toc_position": {},
   "toc_section_display": true,
   "toc_window_display": false
  }
 },
 "nbformat": 4,
 "nbformat_minor": 2
}
